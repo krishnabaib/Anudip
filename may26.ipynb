{
 "cells": [
  {
   "cell_type": "code",
   "execution_count": 1,
   "id": "06120e46-c986-43e9-a763-066d23591e28",
   "metadata": {},
   "outputs": [
    {
     "data": {
      "text/plain": [
       "array([[1, 2],\n",
       "       [3, 4],\n",
       "       [5, 6]])"
      ]
     },
     "execution_count": 1,
     "metadata": {},
     "output_type": "execute_result"
    }
   ],
   "source": [
    "import numpy as np\n",
    "arr1=np.array([[1,2],[3,4]])\n",
    "arr2=np.array([[5,6]])\n",
    "np.concatenate((arr1,arr2),axis=0)\n"
   ]
  },
  {
   "cell_type": "code",
   "execution_count": 3,
   "id": "661e03db-c46d-4bae-a7ed-2249f3f44503",
   "metadata": {},
   "outputs": [
    {
     "data": {
      "text/plain": [
       "array([[1, 2, 5, 6],\n",
       "       [3, 4, 3, 4]])"
      ]
     },
     "execution_count": 3,
     "metadata": {},
     "output_type": "execute_result"
    }
   ],
   "source": [
    "import numpy as np\n",
    "arr1=np.array([[1,2],[3,4]])\n",
    "arr2=np.array([[5,6],[3,4]])\n",
    "np.concatenate((arr1,arr2),axis=1)"
   ]
  },
  {
   "cell_type": "code",
   "execution_count": 6,
   "id": "f0779668-a91c-4ecb-9941-67a61119620f",
   "metadata": {},
   "outputs": [
    {
     "data": {
      "text/plain": [
       "array([[1, 2, 3],\n",
       "       [4, 5, 6]])"
      ]
     },
     "execution_count": 6,
     "metadata": {},
     "output_type": "execute_result"
    }
   ],
   "source": [
    "#vertical stack\n",
    "arr3=np.array([1,2,3])\n",
    "arr4=np.array([4,5,6])\n",
    "np.vstack((arr3,arr4))"
   ]
  },
  {
   "cell_type": "code",
   "execution_count": 7,
   "id": "e5cdcd8a-c5a7-4299-8c5f-62938f11d01c",
   "metadata": {},
   "outputs": [
    {
     "data": {
      "text/plain": [
       "array([1, 2, 3, 4, 5, 6])"
      ]
     },
     "execution_count": 7,
     "metadata": {},
     "output_type": "execute_result"
    }
   ],
   "source": [
    "#horizontal stack\n",
    "arr1=np.array([1,2,3])\n",
    "arr2=np.array([4,5,6])\n",
    "np.hstack((arr1,arr2))"
   ]
  },
  {
   "cell_type": "code",
   "execution_count": 8,
   "id": "31be6b67-6550-422e-8f3d-8c6f4b25bb7d",
   "metadata": {},
   "outputs": [
    {
     "data": {
      "text/plain": [
       "array([False, False, False,  True,  True,  True])"
      ]
     },
     "execution_count": 8,
     "metadata": {},
     "output_type": "execute_result"
    }
   ],
   "source": [
    "#filter\n",
    "import numpy as np\n",
    "arr=np.array([1,2,3,4,5,6])\n",
    "mask=arr>3\n",
    "mask"
   ]
  },
  {
   "cell_type": "code",
   "execution_count": 9,
   "id": "d04fa6b3-08af-40df-9180-6cc9eeb87626",
   "metadata": {},
   "outputs": [
    {
     "data": {
      "text/plain": [
       "array([4, 5, 6])"
      ]
     },
     "execution_count": 9,
     "metadata": {},
     "output_type": "execute_result"
    }
   ],
   "source": [
    "arr[mask]"
   ]
  },
  {
   "cell_type": "code",
   "execution_count": 10,
   "id": "7e25655b-9c10-4f8b-8014-8f26fe38f412",
   "metadata": {},
   "outputs": [
    {
     "data": {
      "text/plain": [
       "array([False, False,  True,  True,  True, False])"
      ]
     },
     "execution_count": 10,
     "metadata": {},
     "output_type": "execute_result"
    }
   ],
   "source": [
    "import numpy as np\n",
    "arr=np.array([1,2,3,4,5,6])\n",
    "(arr>2) & (arr<6)\n"
   ]
  },
  {
   "cell_type": "code",
   "execution_count": 11,
   "id": "1b743c79-eaba-45f6-81ba-798521b0d32c",
   "metadata": {},
   "outputs": [
    {
     "data": {
      "text/plain": [
       "array([3, 4, 5])"
      ]
     },
     "execution_count": 11,
     "metadata": {},
     "output_type": "execute_result"
    }
   ],
   "source": [
    "arr[(arr>2) & (arr<6)]"
   ]
  },
  {
   "cell_type": "code",
   "execution_count": 13,
   "id": "f554f2fe-5554-4f3b-99ce-7792935d82f1",
   "metadata": {},
   "outputs": [
    {
     "data": {
      "text/plain": [
       "array([1, 2, 3, 6])"
      ]
     },
     "execution_count": 13,
     "metadata": {},
     "output_type": "execute_result"
    }
   ],
   "source": [
    "arr[(arr<=3) | (arr>5)]"
   ]
  },
  {
   "cell_type": "code",
   "execution_count": 14,
   "id": "56449e83-a22f-475f-b013-df9d0497be56",
   "metadata": {},
   "outputs": [
    {
     "name": "stdout",
     "output_type": "stream",
     "text": [
      "Values>20: [25 30 30 40 50]\n"
     ]
    }
   ],
   "source": [
    "#filtering 2d array\n",
    "import numpy as np\n",
    "matrix=np.array([\n",
    "    [10,25,30],\n",
    "    [30,40,50]\n",
    "])\n",
    "print(\"Values>20:\",matrix[matrix>20])"
   ]
  },
  {
   "cell_type": "code",
   "execution_count": 15,
   "id": "9b44bc69-e63f-49e9-8df2-f3269a8ca2ac",
   "metadata": {
    "scrolled": true
   },
   "outputs": [
    {
     "name": "stdout",
     "output_type": "stream",
     "text": [
      "values>90: [92 95 94]\n"
     ]
    }
   ],
   "source": [
    "scores=np.array([85,92,78,88,95,72,89,94,68,90])\n",
    "print(\"values>90:\",scores[scores>90])"
   ]
  },
  {
   "cell_type": "code",
   "execution_count": 17,
   "id": "3adb98aa-951c-4bfa-b2f6-89682cddd516",
   "metadata": {},
   "outputs": [
    {
     "name": "stdout",
     "output_type": "stream",
     "text": [
      "values between 70 to 80 are: [78 72]\n"
     ]
    }
   ],
   "source": [
    "scores=np.array([85,92,78,88,95,72,89,94,68,90])\n",
    "print(\"values between 70 to 80 are:\",scores[(scores>70) & (scores<80)])"
   ]
  },
  {
   "cell_type": "code",
   "execution_count": 19,
   "id": "e17d1712-dca1-4f25-a55c-b5e14b39e373",
   "metadata": {},
   "outputs": [
    {
     "name": "stdout",
     "output_type": "stream",
     "text": [
      "even numbers are: [ 2  4  6  8 10 12 14]\n"
     ]
    }
   ],
   "source": [
    "num=np.array([1,2,3,4,5,6,7,8,9,10,11,12,13,14,15])\n",
    "even_num=num[num%2==0]\n",
    "print(\"even numbers are:\", even_num)"
   ]
  },
  {
   "cell_type": "code",
   "execution_count": 22,
   "id": "b8be7ca5-e910-4da0-8996-d2ffcfcd9ca5",
   "metadata": {},
   "outputs": [
    {
     "name": "stdout",
     "output_type": "stream",
     "text": [
      "Divisible by 3 [ 3  6  9 12 15]\n"
     ]
    }
   ],
   "source": [
    "div_by_3 = num[num % 3 == 0]\n",
    "print(\"Divisible by 3\", div_by_3)"
   ]
  },
  {
   "cell_type": "code",
   "execution_count": 23,
   "id": "62e68857-e4df-41f8-90f3-bc5c511b916c",
   "metadata": {},
   "outputs": [
    {
     "name": "stdout",
     "output_type": "stream",
     "text": [
      "odd numbers are: [ 2  4  6  8 10 12 14]\n"
     ]
    }
   ],
   "source": [
    "odd_num=num[num%2==0]\n",
    "print(\"odd numbers are:\", odd_num)"
   ]
  },
  {
   "cell_type": "code",
   "execution_count": 30,
   "id": "74aa1ccf-7952-4d13-9559-f19c99bbaab3",
   "metadata": {},
   "outputs": [
    {
     "name": "stdout",
     "output_type": "stream",
     "text": [
      "Temperature above 24: [25.6 29.9 27. ]\n",
      "Temperature between 20 and 26: [22.5 25.6 21.4 23.1]\n"
     ]
    }
   ],
   "source": [
    "import numpy as np\n",
    "temp = np.array([22.5, 19.0, 25.6, 21.4, 29.9, 18.6, 23.1, 27.0])\n",
    "\n",
    "print(\"Temperature above 24:\", temp[temp > 24])\n",
    "print(\"Temperature between 20 and 26:\", temp[(temp > 20) & (temp < 26)])\n"
   ]
  },
  {
   "cell_type": "code",
   "execution_count": 31,
   "id": "6055b390-a117-4df7-9537-730b21a1a6aa",
   "metadata": {},
   "outputs": [
    {
     "name": "stdout",
     "output_type": "stream",
     "text": [
      "prices above 500: [520 800 999 720]\n"
     ]
    }
   ],
   "source": [
    "prices=np.array([250,499,520,310,800,999,450,720])\n",
    "print(\"prices above 500:\", prices[prices > 500])"
   ]
  },
  {
   "cell_type": "code",
   "execution_count": null,
   "id": "3378a4d1-e265-4760-91ed-74f960676524",
   "metadata": {},
   "outputs": [],
   "source": []
  }
 ],
 "metadata": {
  "kernelspec": {
   "display_name": "Python 3 (ipykernel)",
   "language": "python",
   "name": "python3"
  },
  "language_info": {
   "codemirror_mode": {
    "name": "ipython",
    "version": 3
   },
   "file_extension": ".py",
   "mimetype": "text/x-python",
   "name": "python",
   "nbconvert_exporter": "python",
   "pygments_lexer": "ipython3",
   "version": "3.12.7"
  }
 },
 "nbformat": 4,
 "nbformat_minor": 5
}
