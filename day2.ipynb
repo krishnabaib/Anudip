{
 "cells": [
  {
   "cell_type": "code",
   "execution_count": 1,
   "id": "b49466ce-990d-4de4-aef4-b1caf5cf9bf2",
   "metadata": {},
   "outputs": [
    {
     "data": {
      "text/plain": [
       "int"
      ]
     },
     "execution_count": 1,
     "metadata": {},
     "output_type": "execute_result"
    }
   ],
   "source": [
    "int_value=10\n",
    "type(int_value)"
   ]
  },
  {
   "cell_type": "code",
   "execution_count": 2,
   "id": "a8563a4f-3e6f-4433-92b2-98c17329f9ff",
   "metadata": {},
   "outputs": [
    {
     "data": {
      "text/plain": [
       "float"
      ]
     },
     "execution_count": 2,
     "metadata": {},
     "output_type": "execute_result"
    }
   ],
   "source": [
    "#convert int into float\n",
    "int_value = float(int_value)\n",
    "type(int_value)"
   ]
  },
  {
   "cell_type": "code",
   "execution_count": 3,
   "id": "27e5dc70-28f8-4300-908a-89078ed68050",
   "metadata": {},
   "outputs": [
    {
     "data": {
      "text/plain": [
       "int"
      ]
     },
     "execution_count": 3,
     "metadata": {},
     "output_type": "execute_result"
    }
   ],
   "source": [
    "age_value=24\n",
    "type(age_value)"
   ]
  },
  {
   "cell_type": "code",
   "execution_count": 4,
   "id": "ac9faaa7-4957-4d41-9443-3dc3d4469d76",
   "metadata": {},
   "outputs": [
    {
     "data": {
      "text/plain": [
       "int"
      ]
     },
     "execution_count": 4,
     "metadata": {},
     "output_type": "execute_result"
    }
   ],
   "source": [
    "age_value=int(age_value)\n",
    "type(age_value)"
   ]
  },
  {
   "cell_type": "code",
   "execution_count": 6,
   "id": "9aca20d6-8cd1-488a-98a6-7c31a4d63326",
   "metadata": {},
   "outputs": [
    {
     "ename": "TypeError",
     "evalue": "float() argument must be a string or a real number, not 'type'",
     "output_type": "error",
     "traceback": [
      "\u001b[1;31m---------------------------------------------------------------------------\u001b[0m",
      "\u001b[1;31mTypeError\u001b[0m                                 Traceback (most recent call last)",
      "Cell \u001b[1;32mIn[6], line 2\u001b[0m\n\u001b[0;32m      1\u001b[0m \u001b[38;5;28mtype\u001b[39m(\u001b[38;5;28mint\u001b[39m)\n\u001b[1;32m----> 2\u001b[0m \u001b[38;5;28mint\u001b[39m\u001b[38;5;241m=\u001b[39m\u001b[38;5;28mfloat\u001b[39m(\u001b[38;5;28mint\u001b[39m)\n\u001b[0;32m      3\u001b[0m \u001b[38;5;28mtype\u001b[39m(\u001b[38;5;28mint\u001b[39m)\n",
      "\u001b[1;31mTypeError\u001b[0m: float() argument must be a string or a real number, not 'type'"
     ]
    }
   ],
   "source": [
    "type(int)\n",
    "int=float(int)\n",
    "type(int)"
   ]
  },
  {
   "cell_type": "code",
   "execution_count": 7,
   "id": "82e2cb81-6acd-4b4b-aef6-f3bbfc861dc2",
   "metadata": {},
   "outputs": [
    {
     "data": {
      "text/plain": [
       "str"
      ]
     },
     "execution_count": 7,
     "metadata": {},
     "output_type": "execute_result"
    }
   ],
   "source": [
    "age_str='25'\n",
    "type(age_str)"
   ]
  },
  {
   "cell_type": "code",
   "execution_count": 8,
   "id": "bde71e82-cb93-44e6-9bf7-77fd143f3272",
   "metadata": {},
   "outputs": [
    {
     "data": {
      "text/plain": [
       "int"
      ]
     },
     "execution_count": 8,
     "metadata": {},
     "output_type": "execute_result"
    }
   ],
   "source": [
    "number=10\n",
    "number_str=str(number) \n",
    "type(number)"
   ]
  },
  {
   "cell_type": "code",
   "execution_count": 9,
   "id": "8cc947b8-aa2b-45ab-9354-ec476c7d9d52",
   "metadata": {},
   "outputs": [
    {
     "name": "stdout",
     "output_type": "stream",
     "text": [
      "18.5\n",
      "<class 'int'> <class 'float'>\n"
     ]
    }
   ],
   "source": [
    "#implicit \n",
    "print(8+10.5)\n",
    "18.5\n",
    "print(type(8),type(10.5))"
   ]
  },
  {
   "cell_type": "code",
   "execution_count": 10,
   "id": "3b9dc5a5-34a7-4306-abc4-aeab62678f24",
   "metadata": {},
   "outputs": [
    {
     "data": {
      "text/plain": [
       "str"
      ]
     },
     "execution_count": 10,
     "metadata": {},
     "output_type": "execute_result"
    }
   ],
   "source": [
    "#explict\n",
    "a=10\n",
    "b=str(a)\n",
    "type(b)"
   ]
  },
  {
   "cell_type": "code",
   "execution_count": 11,
   "id": "bfaacc72-c2f1-4ae0-ab4d-ac94de626a09",
   "metadata": {},
   "outputs": [
    {
     "data": {
      "text/plain": [
       "'20'"
      ]
     },
     "execution_count": 11,
     "metadata": {},
     "output_type": "execute_result"
    }
   ],
   "source": [
    "str(20)"
   ]
  },
  {
   "cell_type": "code",
   "execution_count": 12,
   "id": "9be9b744-1d5a-4a10-9d81-7ba69aa95879",
   "metadata": {},
   "outputs": [],
   "source": [
    "#It refers to the set of rules that defines the structrure of valid statements and expressions in a programming language\n",
    "#correct syntax is essential for writing code that the interpreter or complier can understand"
   ]
  },
  {
   "cell_type": "code",
   "execution_count": 13,
   "id": "ab4498cc-49db-40bd-a22e-a29ba49191c2",
   "metadata": {},
   "outputs": [],
   "source": [
    "#a literal is a fixed value that is directly written into the code and represents specific data"
   ]
  },
  {
   "cell_type": "code",
   "execution_count": 15,
   "id": "c9407677-112f-4654-8e84-d31ce681afc6",
   "metadata": {},
   "outputs": [
    {
     "data": {
      "text/plain": [
       "13"
      ]
     },
     "execution_count": 15,
     "metadata": {},
     "output_type": "execute_result"
    }
   ],
   "source": [
    "#Operators\n",
    "#Addition\n",
    "5+8"
   ]
  },
  {
   "cell_type": "code",
   "execution_count": 16,
   "id": "36b29bd4-7724-46b2-861a-aca55996f7f6",
   "metadata": {},
   "outputs": [
    {
     "data": {
      "text/plain": [
       "134"
      ]
     },
     "execution_count": 16,
     "metadata": {},
     "output_type": "execute_result"
    }
   ],
   "source": [
    "a=56\n",
    "b=78\n",
    "a+b"
   ]
  },
  {
   "cell_type": "code",
   "execution_count": 17,
   "id": "575fbbf6-43fb-411d-8203-0131bfc469e9",
   "metadata": {},
   "outputs": [
    {
     "data": {
      "text/plain": [
       "22"
      ]
     },
     "execution_count": 17,
     "metadata": {},
     "output_type": "execute_result"
    }
   ],
   "source": [
    "#subtraction\n",
    "a=67\n",
    "b=45\n",
    "a-b"
   ]
  },
  {
   "cell_type": "code",
   "execution_count": 18,
   "id": "c95770eb-6d02-4f5a-8449-d959cdf7d9de",
   "metadata": {},
   "outputs": [
    {
     "data": {
      "text/plain": [
       "30"
      ]
     },
     "execution_count": 18,
     "metadata": {},
     "output_type": "execute_result"
    }
   ],
   "source": [
    "#multiplication\n",
    "a=5\n",
    "b=6\n",
    "a*b"
   ]
  },
  {
   "cell_type": "code",
   "execution_count": 19,
   "id": "c0b258cf-91e4-44c3-a8ad-38bd6c9ffd7e",
   "metadata": {},
   "outputs": [
    {
     "data": {
      "text/plain": [
       "5.0"
      ]
     },
     "execution_count": 19,
     "metadata": {},
     "output_type": "execute_result"
    }
   ],
   "source": [
    "#devision\n",
    "a=10\n",
    "b=2\n",
    "a/b\n"
   ]
  },
  {
   "cell_type": "code",
   "execution_count": 20,
   "id": "e9bd9a6a-ed18-48d1-be1c-bd5ba7db0bb5",
   "metadata": {},
   "outputs": [
    {
     "data": {
      "text/plain": [
       "5.333333333333333"
      ]
     },
     "execution_count": 20,
     "metadata": {},
     "output_type": "execute_result"
    }
   ],
   "source": [
    "#floor division\n",
    "results = 16/3\n",
    "results"
   ]
  },
  {
   "cell_type": "code",
   "execution_count": 21,
   "id": "984f11cd-7fe3-4e55-89a7-3fc123dcb9b4",
   "metadata": {},
   "outputs": [
    {
     "data": {
      "text/plain": [
       "1"
      ]
     },
     "execution_count": 21,
     "metadata": {},
     "output_type": "execute_result"
    }
   ],
   "source": [
    "#modulus\n",
    "results=10%3\n",
    "results"
   ]
  },
  {
   "cell_type": "code",
   "execution_count": 22,
   "id": "3fd21b61-64ac-4f15-a326-29cfaf87b6b5",
   "metadata": {},
   "outputs": [
    {
     "data": {
      "text/plain": [
       "3.3333333333333335"
      ]
     },
     "execution_count": 22,
     "metadata": {},
     "output_type": "execute_result"
    }
   ],
   "source": [
    "10/3"
   ]
  },
  {
   "cell_type": "code",
   "execution_count": 23,
   "id": "f0a40767-d3de-4231-aaa6-4433dbc73059",
   "metadata": {},
   "outputs": [
    {
     "data": {
      "text/plain": [
       "8"
      ]
     },
     "execution_count": 23,
     "metadata": {},
     "output_type": "execute_result"
    }
   ],
   "source": [
    "#exponentiation\n",
    "results=2**3\n",
    "results"
   ]
  },
  {
   "cell_type": "code",
   "execution_count": 24,
   "id": "fd0656f6-6585-498b-be22-6b209dd64885",
   "metadata": {},
   "outputs": [],
   "source": [
    "#combining arithmetic operators\n",
    "a=5+3*2-8/4"
   ]
  },
  {
   "cell_type": "code",
   "execution_count": 25,
   "id": "2abd2a92-33d6-4488-b129-ba72dac2b39f",
   "metadata": {},
   "outputs": [
    {
     "data": {
      "text/plain": [
       "9.0"
      ]
     },
     "execution_count": 25,
     "metadata": {},
     "output_type": "execute_result"
    }
   ],
   "source": [
    "a"
   ]
  },
  {
   "cell_type": "code",
   "execution_count": 26,
   "id": "739b9bd7-82d7-469a-a2c6-5183c3f74ad0",
   "metadata": {},
   "outputs": [
    {
     "data": {
      "text/plain": [
       "86.6"
      ]
     },
     "execution_count": 26,
     "metadata": {},
     "output_type": "execute_result"
    }
   ],
   "source": [
    "scores=(85+90+78+92+88)/5\n",
    "scores"
   ]
  },
  {
   "cell_type": "code",
   "execution_count": 27,
   "id": "1584717f-0233-4564-8936-ef902e9f968f",
   "metadata": {},
   "outputs": [
    {
     "data": {
      "text/plain": [
       "367"
      ]
     },
     "execution_count": 27,
     "metadata": {},
     "output_type": "execute_result"
    }
   ],
   "source": [
    "scores=[56,78,76,67,90]\n",
    "total_scores=sum(scores)\n",
    "total_scores"
   ]
  },
  {
   "cell_type": "code",
   "execution_count": 28,
   "id": "af6eb19c-4106-4127-87df-3ffd96fa958d",
   "metadata": {},
   "outputs": [
    {
     "data": {
      "text/plain": [
       "5"
      ]
     },
     "execution_count": 28,
     "metadata": {},
     "output_type": "execute_result"
    }
   ],
   "source": [
    "len(scores)"
   ]
  },
  {
   "cell_type": "code",
   "execution_count": 29,
   "id": "f2f31226-4d48-46a5-9a0a-ee8095acf2ad",
   "metadata": {},
   "outputs": [
    {
     "name": "stdout",
     "output_type": "stream",
     "text": [
      "Remaining_budget: 500\n"
     ]
    }
   ],
   "source": [
    "budget=1200\n",
    "spend=350\n",
    "utensils=150\n",
    "transportation=200\n",
    "remaining_budget=budget-(spend+utensils+transportation)\n",
    "print(\"Remaining_budget:\",remaining_budget)"
   ]
  },
  {
   "cell_type": "code",
   "execution_count": 30,
   "id": "37bcff98-1b31-40b9-a117-1129a4631dda",
   "metadata": {},
   "outputs": [
    {
     "data": {
      "text/plain": [
       "26.25"
      ]
     },
     "execution_count": 30,
     "metadata": {},
     "output_type": "execute_result"
    }
   ],
   "source": [
    "book=23.75\n",
    "pay=50\n",
    "change=pay-book\n",
    "change"
   ]
  },
  {
   "cell_type": "code",
   "execution_count": 31,
   "id": "32d25309-2c70-4098-a24b-4b9bf1a3d0ea",
   "metadata": {},
   "outputs": [
    {
     "data": {
      "text/plain": [
       "150"
      ]
     },
     "execution_count": 31,
     "metadata": {},
     "output_type": "execute_result"
    }
   ],
   "source": [
    "rectangle=10\n",
    "wide=15\n",
    "area=rectangle*wide\n",
    "area"
   ]
  },
  {
   "cell_type": "code",
   "execution_count": 32,
   "id": "9deb73d6-8257-4982-9d9a-f6e5c87060a8",
   "metadata": {},
   "outputs": [
    {
     "data": {
      "text/plain": [
       "5"
      ]
     },
     "execution_count": 32,
     "metadata": {},
     "output_type": "execute_result"
    }
   ],
   "source": [
    "alice_age=25\n",
    "bob_age=30\n",
    "age_difference=(bob_age-alice_age)\n",
    "age_difference"
   ]
  },
  {
   "cell_type": "code",
   "execution_count": 33,
   "id": "dd4c7054-3564-48ad-894d-f26a8fb77a22",
   "metadata": {},
   "outputs": [
    {
     "name": "stdout",
     "output_type": "stream",
     "text": [
      "profit= 50.0\n"
     ]
    }
   ],
   "source": [
    "item=120\n",
    "sold=180\n",
    "profit=sold-item\n",
    "profit=profit*100/item\n",
    "print(\"profit=\",profit)\n"
   ]
  },
  {
   "cell_type": "code",
   "execution_count": null,
   "id": "b9ba4139-b56e-4495-80c9-4ec9498f5b0b",
   "metadata": {},
   "outputs": [],
   "source": []
  }
 ],
 "metadata": {
  "kernelspec": {
   "display_name": "Python 3 (ipykernel)",
   "language": "python",
   "name": "python3"
  },
  "language_info": {
   "codemirror_mode": {
    "name": "ipython",
    "version": 3
   },
   "file_extension": ".py",
   "mimetype": "text/x-python",
   "name": "python",
   "nbconvert_exporter": "python",
   "pygments_lexer": "ipython3",
   "version": "3.12.7"
  }
 },
 "nbformat": 4,
 "nbformat_minor": 5
}
