{
 "cells": [
  {
   "cell_type": "code",
   "execution_count": 1,
   "id": "7712c96e-c9b8-498b-adbe-84f805f5ec6f",
   "metadata": {},
   "outputs": [
    {
     "name": "stdout",
     "output_type": "stream",
     "text": [
      "uniform Distribution [[0.76176148 0.40456922 0.54641228]\n",
      " [0.06611556 0.20940049 0.46643696]\n",
      " [0.56719406 0.44834535 0.74715459]]\n"
     ]
    }
   ],
   "source": [
    "import numpy as np\n",
    "uniform=np.random.rand(3,3)\n",
    "print(\"uniform Distribution\",uniform)"
   ]
  },
  {
   "cell_type": "code",
   "execution_count": 2,
   "id": "c0b8fd99-d0fc-4b6d-b638-2c8631d3114c",
   "metadata": {},
   "outputs": [
    {
     "data": {
      "text/plain": [
       "(array([3, 4], dtype=int64),)"
      ]
     },
     "execution_count": 2,
     "metadata": {},
     "output_type": "execute_result"
    }
   ],
   "source": [
    "arr=np.array([1,2,3,4,5])\n",
    "np.where(arr>3)"
   ]
  },
  {
   "cell_type": "code",
   "execution_count": 3,
   "id": "b4b5b5e2-7605-4b7b-8fd8-bc314b566765",
   "metadata": {},
   "outputs": [
    {
     "name": "stdout",
     "output_type": "stream",
     "text": [
      "Where > 3: (array([3, 4], dtype=int64),)\n"
     ]
    }
   ],
   "source": [
    "print(\"Where > 3:\", np.where(arr > 3))"
   ]
  },
  {
   "cell_type": "code",
   "execution_count": 4,
   "id": "9c986c66-8f08-4e8a-912b-96bbf45ccef9",
   "metadata": {},
   "outputs": [
    {
     "data": {
      "text/plain": [
       "4"
      ]
     },
     "execution_count": 4,
     "metadata": {},
     "output_type": "execute_result"
    }
   ],
   "source": [
    "np.argmax(arr)"
   ]
  },
  {
   "cell_type": "code",
   "execution_count": 8,
   "id": "4701195f-8e02-4d93-afa6-ddc0e88731f2",
   "metadata": {},
   "outputs": [
    {
     "data": {
      "text/plain": [
       "3"
      ]
     },
     "execution_count": 8,
     "metadata": {},
     "output_type": "execute_result"
    }
   ],
   "source": [
    "sorted_arr=np.array([1,3,5,7])\n",
    "np.searchsorted(sorted_arr,6)"
   ]
  },
  {
   "cell_type": "code",
   "execution_count": 10,
   "id": "2d545d11-6432-40bd-98f1-5ed4e38f373f",
   "metadata": {},
   "outputs": [
    {
     "data": {
      "text/plain": [
       "array([4, 5])"
      ]
     },
     "execution_count": 10,
     "metadata": {},
     "output_type": "execute_result"
    }
   ],
   "source": [
    "arr=np.array([1,2,3,4,5])\n",
    "np.extract(arr>3,arr)"
   ]
  },
  {
   "cell_type": "code",
   "execution_count": 12,
   "id": "16811d86-f110-4396-b13c-4a57c88f9408",
   "metadata": {},
   "outputs": [
    {
     "name": "stdout",
     "output_type": "stream",
     "text": [
      "Original:\n",
      " [[1 2 3]\n",
      " [4 5 6]]\n"
     ]
    }
   ],
   "source": [
    "matrix=np.array([[1,2,3],[4,5,6]])\n",
    "print(\"Original:\\n\",matrix)"
   ]
  },
  {
   "cell_type": "code",
   "execution_count": 13,
   "id": "3d320b7d-fe4e-4fae-a8bc-479a512ab640",
   "metadata": {},
   "outputs": [
    {
     "name": "stdout",
     "output_type": "stream",
     "text": [
      "Transposed :\n",
      " [[1 4]\n",
      " [2 5]\n",
      " [3 6]]\n"
     ]
    }
   ],
   "source": [
    "print(\"Transposed :\\n\",np.transpose(matrix))"
   ]
  },
  {
   "cell_type": "code",
   "execution_count": 14,
   "id": "c60dc409-1819-4a51-a0fe-2d42d73c15f5",
   "metadata": {},
   "outputs": [
    {
     "name": "stdout",
     "output_type": "stream",
     "text": [
      "mean value:  3.0\n"
     ]
    }
   ],
   "source": [
    "#Mean Calculation\n",
    "arr=np.array([1,2,3,4,5])\n",
    "print(\"mean value: \",np.mean(arr))"
   ]
  },
  {
   "cell_type": "code",
   "execution_count": 16,
   "id": "36c92b10-2310-4aff-b3fc-e5a59b81cd21",
   "metadata": {},
   "outputs": [
    {
     "data": {
      "text/plain": [
       "[array([1, 2]), array([3, 4]), array([5, 6])]"
      ]
     },
     "execution_count": 16,
     "metadata": {},
     "output_type": "execute_result"
    }
   ],
   "source": [
    "arr=np.array([1, 2, 3, 4, 5, 6])\n",
    "np.split(arr,3)"
   ]
  },
  {
   "cell_type": "code",
   "execution_count": 17,
   "id": "0907bb32-78e4-44bc-8770-a6e85eb3d96c",
   "metadata": {},
   "outputs": [
    {
     "data": {
      "text/plain": [
       "[array([1]), array([2, 3, 4]), array([5, 6])]"
      ]
     },
     "execution_count": 17,
     "metadata": {},
     "output_type": "execute_result"
    }
   ],
   "source": [
    "np.split(arr,[1,4])"
   ]
  },
  {
   "cell_type": "code",
   "execution_count": 18,
   "id": "7999f022-1547-40f7-b87c-0bca66dda540",
   "metadata": {},
   "outputs": [
    {
     "data": {
      "text/plain": [
       "[array([[1],\n",
       "        [4]]),\n",
       " array([[2],\n",
       "        [5]]),\n",
       " array([[3],\n",
       "        [6]])]"
      ]
     },
     "execution_count": 18,
     "metadata": {},
     "output_type": "execute_result"
    }
   ],
   "source": [
    "matrix=np.array([[1,2,3],\n",
    "                 [4,5,6]])\n",
    "np.split(matrix,3,axis=1)"
   ]
  },
  {
   "cell_type": "code",
   "execution_count": 20,
   "id": "da2516e4-afa0-498e-859c-b259374fdceb",
   "metadata": {},
   "outputs": [
    {
     "data": {
      "text/plain": [
       "[array([[1, 2, 3]]), array([[4, 5, 6]])]"
      ]
     },
     "execution_count": 20,
     "metadata": {},
     "output_type": "execute_result"
    }
   ],
   "source": [
    "np.split(matrix,2,axis=0)"
   ]
  },
  {
   "cell_type": "code",
   "execution_count": 22,
   "id": "d6d82152-c979-4d9b-9f09-5dcbff878188",
   "metadata": {},
   "outputs": [
    {
     "name": "stdout",
     "output_type": "stream",
     "text": [
      "Sorted copy : [1 2 4 5 7]\n"
     ]
    }
   ],
   "source": [
    "arr=np.array([2,7,1,4,5])\n",
    "print(\"Sorted copy :\" ,np.sort(arr))"
   ]
  },
  {
   "cell_type": "code",
   "execution_count": 23,
   "id": "7fd739b6-296c-467c-8f42-1e76077244ce",
   "metadata": {},
   "outputs": [
    {
     "name": "stdout",
     "output_type": "stream",
     "text": [
      "sorted Rows:\n",
      " [[1 3 7]\n",
      " [4 5 6]]\n"
     ]
    }
   ],
   "source": [
    "matrix=np.array([[3,1,7],\n",
    "                 [6,5,4]])\n",
    "print(\"sorted Rows:\\n\", np.sort(matrix,axis=1))"
   ]
  },
  {
   "cell_type": "code",
   "execution_count": 25,
   "id": "6489c9c9-6cc3-47e8-b36e-cc8255ceabe3",
   "metadata": {},
   "outputs": [
    {
     "name": "stdout",
     "output_type": "stream",
     "text": [
      "sorted Rows:\n",
      " [[3 1 4]\n",
      " [6 5 7]]\n"
     ]
    }
   ],
   "source": [
    "print(\"sorted column:\\n\", np.sort(matrix,axis=0))"
   ]
  },
  {
   "cell_type": "code",
   "execution_count": null,
   "id": "601024d3-9b90-4933-bfeb-451732d84c0e",
   "metadata": {},
   "outputs": [],
   "source": []
  }
 ],
 "metadata": {
  "kernelspec": {
   "display_name": "Python 3 (ipykernel)",
   "language": "python",
   "name": "python3"
  },
  "language_info": {
   "codemirror_mode": {
    "name": "ipython",
    "version": 3
   },
   "file_extension": ".py",
   "mimetype": "text/x-python",
   "name": "python",
   "nbconvert_exporter": "python",
   "pygments_lexer": "ipython3",
   "version": "3.12.7"
  }
 },
 "nbformat": 4,
 "nbformat_minor": 5
}
