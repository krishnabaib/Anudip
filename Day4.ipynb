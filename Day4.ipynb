{
 "cells": [
  {
   "cell_type": "code",
   "execution_count": 1,
   "id": "c6fb2c0e-9957-4121-877c-2ebc48bfab9c",
   "metadata": {},
   "outputs": [
    {
     "name": "stdout",
     "output_type": "stream",
     "text": [
      "Has the student passed? True\n"
     ]
    }
   ],
   "source": [
    "score=75\n",
    "has_passed=(score>=60)\n",
    "print(\"Has the student passed?\",has_passed)"
   ]
  },
  {
   "cell_type": "code",
   "execution_count": 3,
   "id": "5cad8e19-e681-4a5f-90d4-8081077c97bd",
   "metadata": {},
   "outputs": [
    {
     "data": {
      "text/plain": [
       "True"
      ]
     },
     "execution_count": 3,
     "metadata": {},
     "output_type": "execute_result"
    }
   ],
   "source": [
    "(score>=60)"
   ]
  },
  {
   "cell_type": "code",
   "execution_count": 4,
   "id": "698f0492-bfa0-4956-b8ac-da8b4e6d9df6",
   "metadata": {},
   "outputs": [
    {
     "name": "stdout",
     "output_type": "stream",
     "text": [
      "a is cheaper\n"
     ]
    }
   ],
   "source": [
    "a=40\n",
    "b=50\n",
    "if(a<b):\n",
    "    print(\"a is cheaper\")\n",
    "else:\n",
    "    print(\"b is cheaper\")"
   ]
  },
  {
   "cell_type": "code",
   "execution_count": 5,
   "id": "7697809e-a144-4ac7-94c2-d9814d43b5f4",
   "metadata": {},
   "outputs": [
    {
     "data": {
      "text/plain": [
       "False"
      ]
     },
     "execution_count": 5,
     "metadata": {},
     "output_type": "execute_result"
    }
   ],
   "source": [
    "3>2 and 4>5\n",
    "True and False"
   ]
  },
  {
   "cell_type": "code",
   "execution_count": 6,
   "id": "1f3385eb-753a-480f-8625-6550c669d46e",
   "metadata": {},
   "outputs": [
    {
     "data": {
      "text/plain": [
       "False"
      ]
     },
     "execution_count": 6,
     "metadata": {},
     "output_type": "execute_result"
    }
   ],
   "source": [
    "8>3 and 3>2\n",
    "True and False"
   ]
  },
  {
   "cell_type": "code",
   "execution_count": 7,
   "id": "f7af219c-fa97-4269-9b86-cdddd5502371",
   "metadata": {},
   "outputs": [
    {
     "name": "stdout",
     "output_type": "stream",
     "text": [
      "1\n"
     ]
    }
   ],
   "source": [
    "a=5\n",
    "b=3\n",
    "result= a&b\n",
    "print(result)"
   ]
  },
  {
   "cell_type": "code",
   "execution_count": 8,
   "id": "ad69c3cb-48ad-4b25-a7f1-6015d22e7860",
   "metadata": {},
   "outputs": [
    {
     "data": {
      "text/plain": [
       "4"
      ]
     },
     "execution_count": 8,
     "metadata": {},
     "output_type": "execute_result"
    }
   ],
   "source": [
    "5&6"
   ]
  },
  {
   "cell_type": "code",
   "execution_count": 9,
   "id": "4a1912bb-542e-4fbf-b36b-bfc1adc2aa70",
   "metadata": {},
   "outputs": [
    {
     "name": "stdout",
     "output_type": "stream",
     "text": [
      "11\n"
     ]
    }
   ],
   "source": [
    "a=3\n",
    "b=9\n",
    "result= a|b\n",
    "print(result)"
   ]
  },
  {
   "cell_type": "code",
   "execution_count": 10,
   "id": "c6c11eb2-555b-41d2-b08f-bc37171167fb",
   "metadata": {},
   "outputs": [
    {
     "name": "stdout",
     "output_type": "stream",
     "text": [
      "True\n"
     ]
    }
   ],
   "source": [
    "#membership operator\n",
    "#in\n",
    "list=[1,2,3,4,5]\n",
    "print(3 in list)"
   ]
  },
  {
   "cell_type": "code",
   "execution_count": 12,
   "id": "c3e230fc-8593-43dd-ab0a-e049578261d8",
   "metadata": {},
   "outputs": [
    {
     "name": "stdout",
     "output_type": "stream",
     "text": [
      "False\n"
     ]
    }
   ],
   "source": [
    "str=[2,4,5,6,7]\n",
    "print(1 in str)"
   ]
  },
  {
   "cell_type": "code",
   "execution_count": 13,
   "id": "abd74c74-90af-4687-94af-066fc9954d5d",
   "metadata": {},
   "outputs": [
    {
     "name": "stdout",
     "output_type": "stream",
     "text": [
      "True\n"
     ]
    }
   ],
   "source": [
    "#not in\n",
    "str=[1,3,2,4,5,8,9,6,7]\n",
    "print(1 in str)"
   ]
  },
  {
   "cell_type": "code",
   "execution_count": 14,
   "id": "f2b1133e-967a-4857-89cd-3f326c86e0ee",
   "metadata": {},
   "outputs": [
    {
     "name": "stdout",
     "output_type": "stream",
     "text": [
      "True\n"
     ]
    }
   ],
   "source": [
    "str=\"hello\"\n",
    "print(\"python\" not in str)"
   ]
  },
  {
   "cell_type": "code",
   "execution_count": 15,
   "id": "e658c65d-f42b-4b40-897d-f142a8f2695c",
   "metadata": {},
   "outputs": [
    {
     "name": "stdout",
     "output_type": "stream",
     "text": [
      "True\n"
     ]
    }
   ],
   "source": [
    "fruit=[\"apple\",\"banana\",\"kiwi\"]\n",
    "print(\"grape\" not in fruit)"
   ]
  },
  {
   "cell_type": "code",
   "execution_count": 17,
   "id": "1dc89dec-d964-4f2c-8cfa-7e0eb560c210",
   "metadata": {},
   "outputs": [
    {
     "name": "stdout",
     "output_type": "stream",
     "text": [
      "True\n"
     ]
    }
   ],
   "source": [
    "veggies=[\"tomato\",\"potato\",\"onion\",\"carrot\"]\n",
    "print(\"onion\" in veggies)"
   ]
  },
  {
   "cell_type": "code",
   "execution_count": 18,
   "id": "1d275bed-319e-4509-9854-d37e34c0ea81",
   "metadata": {},
   "outputs": [
    {
     "name": "stdout",
     "output_type": "stream",
     "text": [
      "False\n"
     ]
    }
   ],
   "source": [
    "str=\"wlcm to python\"\n",
    "print(\"java\" in str)"
   ]
  },
  {
   "cell_type": "code",
   "execution_count": 19,
   "id": "44818de9-1ae1-4c20-a15a-c923b1975fe7",
   "metadata": {},
   "outputs": [
    {
     "name": "stdout",
     "output_type": "stream",
     "text": [
      "True\n"
     ]
    }
   ],
   "source": [
    "str=\"welc0me to python\"\n",
    "print(\"java\" not in str)"
   ]
  },
  {
   "cell_type": "code",
   "execution_count": 22,
   "id": "81a2135d-7f83-412f-a07e-587037613da7",
   "metadata": {},
   "outputs": [
    {
     "name": "stdout",
     "output_type": "stream",
     "text": [
      "True\n"
     ]
    }
   ],
   "source": [
    "dict={\"name\":\"Alice\",\"age\":25,\"city\":\"Nwe York\"}\n",
    "print(\"name\" in dict)"
   ]
  },
  {
   "cell_type": "code",
   "execution_count": 23,
   "id": "8235216a-235c-43e8-b90d-ef158bd7a478",
   "metadata": {},
   "outputs": [
    {
     "name": "stdout",
     "output_type": "stream",
     "text": [
      "False\n"
     ]
    }
   ],
   "source": [
    "dict={\"name\":\"Alice\",\"age\":25,\"city\":\"Nwe York\"}\n",
    "print(\"Alice\" in dict)"
   ]
  },
  {
   "cell_type": "code",
   "execution_count": 24,
   "id": "a4b9262c-f6ec-4763-9c2f-c024f261f021",
   "metadata": {},
   "outputs": [
    {
     "name": "stdout",
     "output_type": "stream",
     "text": [
      "True\n"
     ]
    }
   ],
   "source": [
    "dict={\"name\":\"Alice\",\"age\":25,\"city\":\"Nwe York\"}\n",
    "print(\"Alice\" not in dict)"
   ]
  },
  {
   "cell_type": "code",
   "execution_count": 25,
   "id": "9853baaa-2109-4249-9309-c8d1993a2c4c",
   "metadata": {},
   "outputs": [
    {
     "name": "stdout",
     "output_type": "stream",
     "text": [
      "got it\n",
      "not printed\n"
     ]
    }
   ],
   "source": [
    "#if\n",
    "a=[1,2,3]\n",
    "if 1 in a:\n",
    "    print(\"got it\")\n",
    "print(\"not printed\")"
   ]
  },
  {
   "cell_type": "code",
   "execution_count": 26,
   "id": "da178d95-5fac-44c3-8b7c-7e6bf48ab498",
   "metadata": {},
   "outputs": [
    {
     "name": "stdout",
     "output_type": "stream",
     "text": [
      "not printed\n"
     ]
    }
   ],
   "source": [
    "#if\n",
    "a=[1,2,3]\n",
    "if 10 in a:\n",
    "    print(\"got it\")\n",
    "print(\"not printed\")"
   ]
  },
  {
   "cell_type": "code",
   "execution_count": 29,
   "id": "89175ada-3964-40f1-8324-b0c134ebb22a",
   "metadata": {},
   "outputs": [
    {
     "name": "stdout",
     "output_type": "stream",
     "text": [
      "eligible to vote\n"
     ]
    }
   ],
   "source": [
    "age=19\n",
    "if age>=18:\n",
    "    print(\"eligible to vote\")"
   ]
  },
  {
   "cell_type": "code",
   "execution_count": 32,
   "id": "6f31c2b4-fe49-462a-9b4d-134ee7ed7779",
   "metadata": {},
   "outputs": [],
   "source": [
    "if 5<2:\n",
    "    print(\"greater\")"
   ]
  },
  {
   "cell_type": "code",
   "execution_count": 33,
   "id": "5534dc4a-2ed5-4329-9dcd-a073343c2ed9",
   "metadata": {},
   "outputs": [
    {
     "name": "stdout",
     "output_type": "stream",
     "text": [
      "greater\n"
     ]
    }
   ],
   "source": [
    "if 5>2:\n",
    "    print(\"greater\")"
   ]
  },
  {
   "cell_type": "code",
   "execution_count": 34,
   "id": "59d8724a-5808-485f-a93f-41624dfc3cf3",
   "metadata": {},
   "outputs": [
    {
     "name": "stdout",
     "output_type": "stream",
     "text": [
      "this will be anways printed\n"
     ]
    }
   ],
   "source": [
    "if 5<2:\n",
    "    print(\"greater\")\n",
    "print(\"this will be anways printed\")"
   ]
  },
  {
   "cell_type": "code",
   "execution_count": 35,
   "id": "2017b8f7-ee85-4e83-882c-dee382eab4bb",
   "metadata": {},
   "outputs": [
    {
     "name": "stdout",
     "output_type": "stream",
     "text": [
      "if statement with logical operator\n",
      "statement 2\n"
     ]
    }
   ],
   "source": [
    "if 5>2 or 7<3:\n",
    "    print(\"if statement with logical operator\")\n",
    "    print(\"statement 2\")"
   ]
  },
  {
   "cell_type": "code",
   "execution_count": 36,
   "id": "5713cc1d-21da-4d51-b3ec-cd7baac4c2d6",
   "metadata": {},
   "outputs": [
    {
     "name": "stdout",
     "output_type": "stream",
     "text": [
      "if statement with logical operator\n",
      "statement 2\n"
     ]
    }
   ],
   "source": [
    "if 5>2 or 7>3:\n",
    "    print(\"if statement with logical operator\")\n",
    "    print(\"statement 2\")"
   ]
  },
  {
   "cell_type": "code",
   "execution_count": 37,
   "id": "befe50c2-9546-45a0-b04a-307c31e97a44",
   "metadata": {},
   "outputs": [
    {
     "name": "stdin",
     "output_type": "stream",
     "text": [
      "Enter your name krishna bai\n"
     ]
    },
    {
     "data": {
      "text/plain": [
       "'krishna bai'"
      ]
     },
     "execution_count": 37,
     "metadata": {},
     "output_type": "execute_result"
    }
   ],
   "source": [
    "input(\"Enter your name\")"
   ]
  },
  {
   "cell_type": "code",
   "execution_count": 39,
   "id": "6d25a65f-e718-43d2-9677-982a88437f38",
   "metadata": {},
   "outputs": [
    {
     "name": "stdout",
     "output_type": "stream",
     "text": [
      "cool day\n",
      "this will be printed\n"
     ]
    }
   ],
   "source": [
    "temp=30\n",
    "if temp<25:\n",
    "    print(\"Hot day\")\n",
    "else:\n",
    "    print(\"cool day\")\n",
    "print(\"this will be printed\")"
   ]
  },
  {
   "cell_type": "code",
   "execution_count": 41,
   "id": "bc6a4c4b-b734-4914-a129-dff5c648a7c9",
   "metadata": {},
   "outputs": [
    {
     "name": "stdin",
     "output_type": "stream",
     "text": [
      " 3\n"
     ]
    },
    {
     "name": "stdout",
     "output_type": "stream",
     "text": [
      "odd\n"
     ]
    }
   ],
   "source": [
    "num=int(input())\n",
    "if num%2==0:\n",
    "    print(\"even number\")\n",
    "else:\n",
    "    print(\"odd\")"
   ]
  },
  {
   "cell_type": "code",
   "execution_count": 44,
   "id": "d23fbe54-7b1f-450f-9035-7e86be70593d",
   "metadata": {},
   "outputs": [
    {
     "name": "stdout",
     "output_type": "stream",
     "text": [
      "C\n"
     ]
    }
   ],
   "source": [
    "marks=75\n",
    "if marks>=90:\n",
    "    print(\"A\")\n",
    "elif marks>=80:\n",
    "    print(\"B\")\n",
    "elif marks>=70:\n",
    "    print(\"C\")\n",
    "else:\n",
    "    print(\"D\")"
   ]
  },
  {
   "cell_type": "code",
   "execution_count": 45,
   "id": "9394fc8d-4dfe-427c-8ffc-5f760b6ecfb1",
   "metadata": {},
   "outputs": [
    {
     "name": "stdout",
     "output_type": "stream",
     "text": [
      "A\n"
     ]
    }
   ],
   "source": [
    "marks=75\n",
    "if marks>=90:\n",
    "    print(\"A\")\n",
    "elif marks>=80:\n",
    "    print(\"B\")\n",
    "elif marks>=70:\n",
    "    print(\"C\")\n",
    "else:\n",
    "    print(\"D\")"
   ]
  },
  {
   "cell_type": "code",
   "execution_count": 47,
   "id": "ca10bdc7-3aad-4214-9306-2a9aaaa580ee",
   "metadata": {},
   "outputs": [
    {
     "name": "stdout",
     "output_type": "stream",
     "text": [
      "A\n",
      "C\n"
     ]
    }
   ],
   "source": [
    "marks=75\n",
    "if marks>=60:\n",
    "    print(\"A\")\n",
    "if marks>=80:\n",
    "    print(\"B\")\n",
    "if marks>=70:\n",
    "    print(\"C\")\n",
    "else:\n",
    "    print(\"D\")"
   ]
  },
  {
   "cell_type": "code",
   "execution_count": 48,
   "id": "12065074-f78d-436e-aae2-2b277748a982",
   "metadata": {},
   "outputs": [
    {
     "data": {
      "text/plain": [
       "'math=80\\nscience=\\n\\nif marks>=90:\\n    print(\"A\")\\nelif marks>=80:\\n    print(\"B\")\\nelif marks>=70:\\n    print(\"C\")\\nelse:\\n    print(\"D\")'"
      ]
     },
     "execution_count": 48,
     "metadata": {},
     "output_type": "execute_result"
    }
   ],
   "source": [
    "\"\"\"math=80\n",
    "science=70\n",
    "english=\n",
    "\n",
    "if marks>=90:\n",
    "    print(\"A\")\n",
    "elif marks>=80:\n",
    "    print(\"B\")\n",
    "elif marks>=70:\n",
    "    print(\"C\")\n",
    "else:\n",
    "    print(\"D\")\"\"\""
   ]
  },
  {
   "cell_type": "code",
   "execution_count": 49,
   "id": "b3d85a0f-8a4b-4c81-935b-2b647a1503e6",
   "metadata": {},
   "outputs": [
    {
     "name": "stdout",
     "output_type": "stream",
     "text": [
      "positive\n",
      "odd\n",
      "printed anyways\n"
     ]
    }
   ],
   "source": [
    "if num>0:\n",
    "    print(\"positive\")\n",
    "    if num%2==0:\n",
    "        print(\"even number\")\n",
    "    else:\n",
    "        print(\"odd\")\n",
    "else:\n",
    "    print(\"negative\")\n",
    "print(\"printed anyways\")"
   ]
  },
  {
   "cell_type": "code",
   "execution_count": 52,
   "id": "9e261a4f-47e0-4d01-907e-286895338ec4",
   "metadata": {},
   "outputs": [
    {
     "name": "stdin",
     "output_type": "stream",
     "text": [
      "enter temperature 30\n"
     ]
    },
    {
     "name": "stdout",
     "output_type": "stream",
     "text": [
      "hot\n"
     ]
    }
   ],
   "source": [
    "temp=int(input(\"enter temperature\"))\n",
    "if temp<0:\n",
    "    print(\"freezing\")\n",
    "elif temp<=10:\n",
    "    print(\"cold\")\n",
    "elif temp<=25:\n",
    "    print(\"warm\")\n",
    "else:\n",
    "    print(\"hot\")"
   ]
  },
  {
   "cell_type": "code",
   "execution_count": 53,
   "id": "d65a07d8-c941-45e8-ac59-7ed9791e5b6c",
   "metadata": {},
   "outputs": [
    {
     "name": "stdin",
     "output_type": "stream",
     "text": [
      "enter temperature -1\n"
     ]
    },
    {
     "name": "stdout",
     "output_type": "stream",
     "text": [
      "freezing\n"
     ]
    }
   ],
   "source": [
    "temp=int(input(\"enter temperature\"))\n",
    "if temp<0:\n",
    "    print(\"freezing\")\n",
    "elif temp<=10:\n",
    "    print(\"cold\")\n",
    "elif temp<=25:\n",
    "    print(\"warm\")\n",
    "else:\n",
    "    print(\"hot\")"
   ]
  },
  {
   "cell_type": "code",
   "execution_count": 54,
   "id": "9c425fdd-97ba-4523-971e-6d806ad8568f",
   "metadata": {},
   "outputs": [
    {
     "name": "stdin",
     "output_type": "stream",
     "text": [
      "enter temperature 8\n"
     ]
    },
    {
     "name": "stdout",
     "output_type": "stream",
     "text": [
      "cold\n"
     ]
    }
   ],
   "source": [
    "temp=int(input(\"enter temperature\"))\n",
    "if temp<0:\n",
    "    print(\"freezing\")\n",
    "elif temp<=10:\n",
    "    print(\"cold\")\n",
    "elif temp<=25:\n",
    "    print(\"warm\")\n",
    "else:\n",
    "    print(\"hot\")"
   ]
  },
  {
   "cell_type": "code",
   "execution_count": 55,
   "id": "b5b68419-1215-4f9c-b70f-89e99c2d33b9",
   "metadata": {},
   "outputs": [
    {
     "name": "stdin",
     "output_type": "stream",
     "text": [
      "enter temperature 25\n"
     ]
    },
    {
     "name": "stdout",
     "output_type": "stream",
     "text": [
      "warm\n"
     ]
    }
   ],
   "source": [
    "temp=int(input(\"enter temperature\"))\n",
    "if temp<0:\n",
    "    print(\"freezing\")\n",
    "elif temp<=10:\n",
    "    print(\"cold\")\n",
    "elif temp<=25:\n",
    "    print(\"warm\")\n",
    "else:\n",
    "    print(\"hot\")"
   ]
  },
  {
   "cell_type": "code",
   "execution_count": 56,
   "id": "e89900f3-ac7b-41e1-abb6-edd1fe82b69e",
   "metadata": {},
   "outputs": [
    {
     "name": "stdin",
     "output_type": "stream",
     "text": [
      "enter temperature 20\n"
     ]
    },
    {
     "name": "stdout",
     "output_type": "stream",
     "text": [
      "warm\n"
     ]
    }
   ],
   "source": [
    "temp=int(input(\"enter temperature\"))\n",
    "if temp<0:\n",
    "    print(\"freezing\")\n",
    "elif temp<=10:\n",
    "    print(\"cold\")\n",
    "elif temp<=25:\n",
    "    print(\"warm\")\n",
    "else:\n",
    "    print(\"hot\")"
   ]
  },
  {
   "cell_type": "code",
   "execution_count": null,
   "id": "d7cd62c4-eda8-4456-88df-e317e7071873",
   "metadata": {},
   "outputs": [],
   "source": []
  }
 ],
 "metadata": {
  "kernelspec": {
   "display_name": "Python 3 (ipykernel)",
   "language": "python",
   "name": "python3"
  },
  "language_info": {
   "codemirror_mode": {
    "name": "ipython",
    "version": 3
   },
   "file_extension": ".py",
   "mimetype": "text/x-python",
   "name": "python",
   "nbconvert_exporter": "python",
   "pygments_lexer": "ipython3",
   "version": "3.12.7"
  }
 },
 "nbformat": 4,
 "nbformat_minor": 5
}
