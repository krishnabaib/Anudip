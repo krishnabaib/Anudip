{
 "cells": [
  {
   "cell_type": "code",
   "execution_count": 3,
   "id": "eadaaca3-2006-4c22-80cf-4138680bf295",
   "metadata": {},
   "outputs": [
    {
     "data": {
      "text/plain": [
       "int"
      ]
     },
     "execution_count": 3,
     "metadata": {},
     "output_type": "execute_result"
    }
   ],
   "source": [
    "#Type Conversion\n",
    "int_value=10\n",
    "type(int_value)"
   ]
  },
  {
   "cell_type": "code",
   "execution_count": 4,
   "id": "1c3deda2-d7ed-4bec-874c-eddac5c49b17",
   "metadata": {},
   "outputs": [
    {
     "data": {
      "text/plain": [
       "float"
      ]
     },
     "execution_count": 4,
     "metadata": {},
     "output_type": "execute_result"
    }
   ],
   "source": [
    "int_value=10\n",
    "float_value=float(int_value)\n",
    "type(float_value)"
   ]
  },
  {
   "cell_type": "code",
   "execution_count": 6,
   "id": "efcaa508-a457-4173-80a8-b81e67d6a38c",
   "metadata": {},
   "outputs": [
    {
     "data": {
      "text/plain": [
       "str"
      ]
     },
     "execution_count": 6,
     "metadata": {},
     "output_type": "execute_result"
    }
   ],
   "source": [
    "age_str=\"25\"\n",
    "age_int=int(age_str)\n",
    "type(age_str)"
   ]
  },
  {
   "cell_type": "code",
   "execution_count": 8,
   "id": "a9f178a6-e5e9-4eb6-9179-cba9ec71f694",
   "metadata": {},
   "outputs": [
    {
     "data": {
      "text/plain": [
       "str"
      ]
     },
     "execution_count": 8,
     "metadata": {},
     "output_type": "execute_result"
    }
   ],
   "source": [
    "number=10\n",
    "number_str=str(number)\n",
    "type(number_str)"
   ]
  },
  {
   "cell_type": "code",
   "execution_count": 9,
   "id": "1c9ea5bc-7a46-4816-8f40-11950c672f2a",
   "metadata": {},
   "outputs": [
    {
     "data": {
      "text/plain": [
       "int"
      ]
     },
     "execution_count": 9,
     "metadata": {},
     "output_type": "execute_result"
    }
   ],
   "source": [
    "boolen=1\n",
    "int_value=int(boolen)\n",
    "type(boolen)"
   ]
  },
  {
   "cell_type": "code",
   "execution_count": 10,
   "id": "48cf7405-3fe8-4e5c-bfd1-db773264557d",
   "metadata": {},
   "outputs": [
    {
     "name": "stdout",
     "output_type": "stream",
     "text": [
      "13.8\n"
     ]
    }
   ],
   "source": [
    "#implicit\n",
    "print(8+5.0)"
   ]
  },
  {
   "cell_type": "code",
   "execution_count": 12,
   "id": "d4373f4c-8b9f-4ccb-9747-58819d4fbf61",
   "metadata": {},
   "outputs": [
    {
     "name": "stdout",
     "output_type": "stream",
     "text": [
      "<class 'int'> <class 'float'>\n"
     ]
    }
   ],
   "source": [
    "print(type(8),type(5.0))"
   ]
  },
  {
   "cell_type": "code",
   "execution_count": 13,
   "id": "e7bf0aee-f3cf-4d57-ae90-02f7b6a6c705",
   "metadata": {},
   "outputs": [
    {
     "data": {
      "text/plain": [
       "'20'"
      ]
     },
     "execution_count": 13,
     "metadata": {},
     "output_type": "execute_result"
    }
   ],
   "source": [
    "#explicit\n",
    "a=10\n",
    "b=str(a)\n",
    "type(b)\n",
    "str(20)\n"
   ]
  },
  {
   "cell_type": "code",
   "execution_count": 47,
   "id": "5ec8212c-23ea-4adb-9257-ccc53addb42e",
   "metadata": {},
   "outputs": [
    {
     "data": {
      "text/plain": [
       "'syntax\\nlitreal\\noperator\\narthemetic=    +   -   *  /  '"
      ]
     },
     "execution_count": 47,
     "metadata": {},
     "output_type": "execute_result"
    }
   ],
   "source": [
    "\"\"\"syntax\n",
    "litreal\n",
    "operator\n",
    "arthemetic=    +   -   *  /  \"\"\""
   ]
  },
  {
   "cell_type": "code",
   "execution_count": 17,
   "id": "89e9aa15-92e3-41eb-92fc-3560cbe7578c",
   "metadata": {},
   "outputs": [
    {
     "data": {
      "text/plain": [
       "6"
      ]
     },
     "execution_count": 17,
     "metadata": {},
     "output_type": "execute_result"
    }
   ],
   "source": [
    "3+3"
   ]
  },
  {
   "cell_type": "code",
   "execution_count": 18,
   "id": "2c5d4301-c540-4632-a2f0-0d7520719d37",
   "metadata": {},
   "outputs": [
    {
     "data": {
      "text/plain": [
       "-1"
      ]
     },
     "execution_count": 18,
     "metadata": {},
     "output_type": "execute_result"
    }
   ],
   "source": [
    "7-8"
   ]
  },
  {
   "cell_type": "code",
   "execution_count": 19,
   "id": "af0a41e8-710b-416d-9baf-16e439d2048a",
   "metadata": {},
   "outputs": [
    {
     "data": {
      "text/plain": [
       "9"
      ]
     },
     "execution_count": 19,
     "metadata": {},
     "output_type": "execute_result"
    }
   ],
   "source": [
    "3*3"
   ]
  },
  {
   "cell_type": "code",
   "execution_count": 20,
   "id": "36c63f82-8639-4244-80ed-bc91120967d9",
   "metadata": {},
   "outputs": [
    {
     "data": {
      "text/plain": [
       "7.0"
      ]
     },
     "execution_count": 20,
     "metadata": {},
     "output_type": "execute_result"
    }
   ],
   "source": [
    "21/3"
   ]
  },
  {
   "cell_type": "code",
   "execution_count": 27,
   "id": "9021c110-90e6-467f-a678-08209744347b",
   "metadata": {},
   "outputs": [
    {
     "name": "stdout",
     "output_type": "stream",
     "text": [
      "15\n",
      "5\n",
      "50\n",
      "2.0\n",
      "2\n",
      "0\n"
     ]
    }
   ],
   "source": [
    "#arthemetic operation\n",
    "a=10\n",
    "b=5\n",
    "print(a+b)\n",
    "print(a-b)\n",
    "print(a*b)\n",
    "print(a/b)\n",
    "print(a//b)\n",
    "print(a%b)"
   ]
  },
  {
   "cell_type": "code",
   "execution_count": 26,
   "id": "d222d480-d1a7-43e0-a7a2-9cdcdc59862e",
   "metadata": {},
   "outputs": [
    {
     "name": "stdout",
     "output_type": "stream",
     "text": [
      "5\n"
     ]
    }
   ],
   "source": [
    "result=16//3\n",
    "print(result)"
   ]
  },
  {
   "cell_type": "code",
   "execution_count": 28,
   "id": "7065f363-1ea0-4a62-b3a4-9cb005eae710",
   "metadata": {},
   "outputs": [
    {
     "name": "stdout",
     "output_type": "stream",
     "text": [
      "1\n"
     ]
    }
   ],
   "source": [
    "result = 10%3\n",
    "print(result)"
   ]
  },
  {
   "cell_type": "code",
   "execution_count": 30,
   "id": "3c727a5e-fdd1-4ae8-9c08-345924d08f8d",
   "metadata": {},
   "outputs": [
    {
     "name": "stdout",
     "output_type": "stream",
     "text": [
      "8\n"
     ]
    }
   ],
   "source": [
    "#exponentiation\n",
    "result= 2**3\n",
    "print(result)"
   ]
  },
  {
   "cell_type": "code",
   "execution_count": 31,
   "id": "c783f4e1-5175-4ef2-8bb2-ba4f128916df",
   "metadata": {},
   "outputs": [
    {
     "name": "stdout",
     "output_type": "stream",
     "text": [
      "9.0\n"
     ]
    }
   ],
   "source": [
    "result= 5+3*2-8/4\n",
    "print(result)"
   ]
  },
  {
   "cell_type": "code",
   "execution_count": 36,
   "id": "182a4aff-08d8-4106-a1ba-716d805c272b",
   "metadata": {},
   "outputs": [
    {
     "name": "stdout",
     "output_type": "stream",
     "text": [
      "86.6\n"
     ]
    }
   ],
   "source": [
    "score=[85,90,78,92,88]\n",
    "total=sum(score)\n",
    "average=total/len(scores)\n",
    "print(average)"
   ]
  },
  {
   "cell_type": "code",
   "execution_count": 37,
   "id": "4c991737-a1a3-42d5-ba41-6a6460aff48b",
   "metadata": {},
   "outputs": [
    {
     "name": "stdout",
     "output_type": "stream",
     "text": [
      "500\n"
     ]
    }
   ],
   "source": [
    "a=1200\n",
    "b=350\n",
    "c=150\n",
    "d=200\n",
    "remain=a-(b+c+d)\n",
    "print(remain)\n"
   ]
  },
  {
   "cell_type": "code",
   "execution_count": 41,
   "id": "7de9ef7b-4e28-4d53-993d-a6ebce2d1755",
   "metadata": {},
   "outputs": [
    {
     "name": "stdout",
     "output_type": "stream",
     "text": [
      "60.0\n"
     ]
    }
   ],
   "source": [
    "original_price=75\n",
    "discount=20\n",
    "amount=(discount/100)*original_price\n",
    "final=original_price-amount\n",
    "print(final)\n"
   ]
  },
  {
   "cell_type": "code",
   "execution_count": 42,
   "id": "b74226fc-6b8b-4bdc-8119-71445f02f999",
   "metadata": {},
   "outputs": [
    {
     "name": "stdout",
     "output_type": "stream",
     "text": [
      "26.25\n"
     ]
    }
   ],
   "source": [
    "a=23.75\n",
    "b=50\n",
    "change=b-a\n",
    "print(change)"
   ]
  },
  {
   "cell_type": "code",
   "execution_count": 43,
   "id": "cfe7cfcb-bea3-49ce-90e7-342ea1ff87f0",
   "metadata": {},
   "outputs": [
    {
     "name": "stdout",
     "output_type": "stream",
     "text": [
      "150\n"
     ]
    }
   ],
   "source": [
    "width=10\n",
    "height=15\n",
    "area=width*height\n",
    "print(area)"
   ]
  },
  {
   "cell_type": "code",
   "execution_count": 45,
   "id": "80563deb-4f7d-4df1-8897-deec685f938d",
   "metadata": {},
   "outputs": [
    {
     "name": "stdout",
     "output_type": "stream",
     "text": [
      "5\n"
     ]
    }
   ],
   "source": [
    "a=30\n",
    "b=25\n",
    "diff=a-b\n",
    "print(diff)"
   ]
  },
  {
   "cell_type": "code",
   "execution_count": 46,
   "id": "0caf6fec-e2b0-4b87-8baf-da48076f6d8d",
   "metadata": {},
   "outputs": [
    {
     "name": "stdout",
     "output_type": "stream",
     "text": [
      "50.0\n"
     ]
    }
   ],
   "source": [
    "buy=120\n",
    "sold=180\n",
    "profit=sold-buy\n",
    "profit_percent=(profit/buy)*100\n",
    "print(profit_percent)"
   ]
  },
  {
   "cell_type": "code",
   "execution_count": 49,
   "id": "aca47cbe-2234-4321-9eb5-d345f34c6ab0",
   "metadata": {},
   "outputs": [
    {
     "name": "stdout",
     "output_type": "stream",
     "text": [
      "False\n",
      "True\n",
      "False\n",
      "True\n",
      "False\n",
      "True\n"
     ]
    }
   ],
   "source": [
    "#relational operator ==,===,!=,>,<,<=,>=\n",
    "a=20\n",
    "b=30\n",
    "print(a==b)\n",
    "print(a!=b)\n",
    "print(a>b)\n",
    "print(a<b)\n",
    "print(a>=b)\n",
    "print(a<=b)"
   ]
  },
  {
   "cell_type": "code",
   "execution_count": null,
   "id": "5c8d2d09-3e73-4893-921f-0e5bff31f2ea",
   "metadata": {},
   "outputs": [],
   "source": []
  }
 ],
 "metadata": {
  "kernelspec": {
   "display_name": "Python 3 (ipykernel)",
   "language": "python",
   "name": "python3"
  },
  "language_info": {
   "codemirror_mode": {
    "name": "ipython",
    "version": 3
   },
   "file_extension": ".py",
   "mimetype": "text/x-python",
   "name": "python",
   "nbconvert_exporter": "python",
   "pygments_lexer": "ipython3",
   "version": "3.12.7"
  }
 },
 "nbformat": 4,
 "nbformat_minor": 5
}
