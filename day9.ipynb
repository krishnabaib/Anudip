{
 "cells": [
  {
   "cell_type": "code",
   "execution_count": 1,
   "id": "459d9484-a84d-4bb2-b74d-b9d2eea102c2",
   "metadata": {},
   "outputs": [
    {
     "data": {
      "text/plain": [
       "('hello', 1)"
      ]
     },
     "execution_count": 1,
     "metadata": {},
     "output_type": "execute_result"
    }
   ],
   "source": [
    "\n",
    "#tuple\n",
    "#ordered and not be changed\n",
    "t=(\"hello\",1,23,47,67.8,6,(1,2))\n",
    "t[0:2]"
   ]
  },
  {
   "cell_type": "code",
   "execution_count": 2,
   "id": "94f21ea8-9b0e-4709-bd09-f34d4f98d019",
   "metadata": {},
   "outputs": [
    {
     "data": {
      "text/plain": [
       "3"
      ]
     },
     "execution_count": 2,
     "metadata": {},
     "output_type": "execute_result"
    }
   ],
   "source": [
    "my_tuple=(1,2,3)\n",
    "my_tuple[2]"
   ]
  },
  {
   "cell_type": "code",
   "execution_count": 3,
   "id": "3cb203ec-1390-4aad-9c3c-36b23bbad634",
   "metadata": {},
   "outputs": [
    {
     "ename": "TypeError",
     "evalue": "'tuple' object does not support item assignment",
     "output_type": "error",
     "traceback": [
      "\u001b[1;31m---------------------------------------------------------------------------\u001b[0m",
      "\u001b[1;31mTypeError\u001b[0m                                 Traceback (most recent call last)",
      "Cell \u001b[1;32mIn[3], line 3\u001b[0m\n\u001b[0;32m      1\u001b[0m \u001b[38;5;66;03m#immutable\u001b[39;00m\n\u001b[0;32m      2\u001b[0m my_tuple\u001b[38;5;241m=\u001b[39m(\u001b[38;5;241m1\u001b[39m,\u001b[38;5;241m2\u001b[39m,\u001b[38;5;241m3\u001b[39m,\u001b[38;5;241m4\u001b[39m)\n\u001b[1;32m----> 3\u001b[0m my_tuple[\u001b[38;5;241m1\u001b[39m]\u001b[38;5;241m=\u001b[39m\u001b[38;5;241m7\u001b[39m\n",
      "\u001b[1;31mTypeError\u001b[0m: 'tuple' object does not support item assignment"
     ]
    }
   ],
   "source": [
    "#immutable\n",
    "my_tuple=(1,2,3,4)\n",
    "my_tuple[1]=7"
   ]
  },
  {
   "cell_type": "code",
   "execution_count": 4,
   "id": "1102cc1d-9527-4653-be9d-136ca22b82bc",
   "metadata": {},
   "outputs": [
    {
     "data": {
      "text/plain": [
       "(1, 2, 45.56, 'hello', (6, 3))"
      ]
     },
     "execution_count": 4,
     "metadata": {},
     "output_type": "execute_result"
    }
   ],
   "source": [
    "#heterogeneous\n",
    "my_tuple=(1,2,45.56,\"hello\",(6,3))\n",
    "my_tuple"
   ]
  },
  {
   "cell_type": "code",
   "execution_count": 5,
   "id": "67901be9-cefc-4f08-9b56-f57122abb9c7",
   "metadata": {},
   "outputs": [
    {
     "name": "stdout",
     "output_type": "stream",
     "text": [
      "35\n",
      "(56, 35, 97)\n"
     ]
    }
   ],
   "source": [
    "#indexing and slicing\n",
    "my_value=(12,56,35,97,8,6)\n",
    "print(my_value[2])\n",
    "print(my_value[1:4])"
   ]
  },
  {
   "cell_type": "code",
   "execution_count": 6,
   "id": "6d3c3b25-1c94-45a0-849b-a8a5a6d2fc3e",
   "metadata": {},
   "outputs": [
    {
     "name": "stdout",
     "output_type": "stream",
     "text": [
      "(1, 2, 3)\n"
     ]
    }
   ],
   "source": [
    "#packing and unpacking\n",
    "my_tuple=1,2,3\n",
    "print(my_tuple)       "
   ]
  },
  {
   "cell_type": "code",
   "execution_count": 7,
   "id": "d62991bb-98df-4c16-b36a-e6bb7bb64e03",
   "metadata": {},
   "outputs": [
    {
     "name": "stdout",
     "output_type": "stream",
     "text": [
      "1\n",
      "2\n",
      "3\n"
     ]
    }
   ],
   "source": [
    "a,b,c=my_tuple\n",
    "a,b,c=my_tuple\n",
    "print(a)\n",
    "print(b)\n",
    "print(c)"
   ]
  },
  {
   "cell_type": "code",
   "execution_count": 8,
   "id": "a94fd792-86b9-4c10-ac5b-03f898913566",
   "metadata": {},
   "outputs": [
    {
     "name": "stdout",
     "output_type": "stream",
     "text": [
      "('john', 24, 'engineer')\n"
     ]
    }
   ],
   "source": [
    "person=(\"john\",24,\"engineer\")\n",
    "print(person)"
   ]
  },
  {
   "cell_type": "code",
   "execution_count": 9,
   "id": "54885d30-1f78-4ab8-b988-8f3865a21550",
   "metadata": {},
   "outputs": [
    {
     "name": "stdout",
     "output_type": "stream",
     "text": [
      "10 20 30\n"
     ]
    }
   ],
   "source": [
    "coordinates=(10,20,30)\n",
    "x=coordinates[0]\n",
    "y=coordinates[1]\n",
    "z=coordinates[2]\n",
    "print(x,y,z)\n"
   ]
  },
  {
   "cell_type": "code",
   "execution_count": 10,
   "id": "db9e7bc7-25ba-43bf-802e-488913ce3ac2",
   "metadata": {},
   "outputs": [
    {
     "data": {
      "text/plain": [
       "2"
      ]
     },
     "execution_count": 10,
     "metadata": {},
     "output_type": "execute_result"
    }
   ],
   "source": [
    "nested_tuple=(1,(2,3),(4,(5,6)))\n",
    "nested_tuple[1][0]"
   ]
  },
  {
   "cell_type": "code",
   "execution_count": 11,
   "id": "a6a6e5cd-fcfd-4d69-9b34-39d219f9ef08",
   "metadata": {},
   "outputs": [
    {
     "data": {
      "text/plain": [
       "4"
      ]
     },
     "execution_count": 11,
     "metadata": {},
     "output_type": "execute_result"
    }
   ],
   "source": [
    "nested_tuple[2][0]"
   ]
  },
  {
   "cell_type": "code",
   "execution_count": 13,
   "id": "a1c0e09d-8da7-4a82-94ff-990d51234b45",
   "metadata": {},
   "outputs": [
    {
     "name": "stdout",
     "output_type": "stream",
     "text": [
      "('banana', 'cherry')\n",
      "('apple', 'banana', 'cherry', 'grapes')\n",
      "('cherry', 'grapes', 'mango')\n",
      "('apple', 'banana')\n"
     ]
    }
   ],
   "source": [
    "\n",
    "my_tuple=('apple','banana','cherry','grapes','mango')\n",
    "slice_1=my_tuple[1:3]\n",
    "slice_2=my_tuple[:4]\n",
    "slice_3=my_tuple[2:]\n",
    "slice_4=my_tuple[:-3]\n",
    "print(slice_1)\n",
    "print(slice_2)\n",
    "print(slice_3)\n",
    "print(slice_4)"
   ]
  },
  {
   "cell_type": "code",
   "execution_count": 14,
   "id": "37476bd3-9be5-4e75-8de0-2c00006c5121",
   "metadata": {},
   "outputs": [
    {
     "data": {
      "text/plain": [
       "'cherry'"
      ]
     },
     "execution_count": 14,
     "metadata": {},
     "output_type": "execute_result"
    }
   ],
   "source": [
    "my_fruits=('apple','bana','cherry','grapes','mango')\n",
    "my_fruits[2]"
   ]
  },
  {
   "cell_type": "code",
   "execution_count": 15,
   "id": "319e39b0-3811-488b-bfd6-7010e775e7d1",
   "metadata": {},
   "outputs": [
    {
     "name": "stdout",
     "output_type": "stream",
     "text": [
      "yellow\n",
      "black\n"
     ]
    }
   ],
   "source": [
    "\n",
    "colors=('red','blue','black','green','yellow')\n",
    "print(colors[-1])\n",
    "print(colors[-3])"
   ]
  },
  {
   "cell_type": "code",
   "execution_count": 16,
   "id": "10a93795-8ecb-499b-8408-ad601eb5de2c",
   "metadata": {},
   "outputs": [
    {
     "data": {
      "text/plain": [
       "5"
      ]
     },
     "execution_count": 16,
     "metadata": {},
     "output_type": "execute_result"
    }
   ],
   "source": [
    "nested_tuple=(1,(2,3),(4,(5,6),7,8))\n",
    "nested_tuple[2][1][0]"
   ]
  },
  {
   "cell_type": "code",
   "execution_count": 18,
   "id": "3812077a-03c8-4a23-93ee-bc08117715ce",
   "metadata": {},
   "outputs": [
    {
     "data": {
      "text/plain": [
       "['apple', 'banana', 'grapes']"
      ]
     },
     "execution_count": 18,
     "metadata": {},
     "output_type": "execute_result"
    }
   ],
   "source": [
    "values=('apple','banana','grapes')\n",
    "type(values)\n",
    "a=list(values)\n",
    "a"
   ]
  },
  {
   "cell_type": "code",
   "execution_count": 19,
   "id": "dcbf7bd3-b88c-49d9-a810-094f0427d31e",
   "metadata": {},
   "outputs": [
    {
     "data": {
      "text/plain": [
       "['apple', 'banana', 'grapes', 'goa']"
      ]
     },
     "execution_count": 19,
     "metadata": {},
     "output_type": "execute_result"
    }
   ],
   "source": [
    "a.append('goa')\n",
    "a"
   ]
  },
  {
   "cell_type": "code",
   "execution_count": 20,
   "id": "b4133f13-2be6-453b-ab64-8418ee61907c",
   "metadata": {},
   "outputs": [
    {
     "data": {
      "text/plain": [
       "('apple', 'banana', 'grapes', 'goa')"
      ]
     },
     "execution_count": 20,
     "metadata": {},
     "output_type": "execute_result"
    }
   ],
   "source": [
    "b=tuple(a)\n",
    "b"
   ]
  },
  {
   "cell_type": "code",
   "execution_count": 21,
   "id": "ca8e389b-1579-44a7-95ac-71467edabe63",
   "metadata": {},
   "outputs": [
    {
     "name": "stdout",
     "output_type": "stream",
     "text": [
      "('apple', 'goa', 'cherry')\n"
     ]
    }
   ],
   "source": [
    "fruits=('apple','banana','cherry')\n",
    "fruits_new=fruits[:1] + ('goa',) + fruits[2:]\n",
    "print(fruits_new)"
   ]
  },
  {
   "cell_type": "code",
   "execution_count": 22,
   "id": "203af85b-33cb-495c-8d5a-0c38eb6c5a6d",
   "metadata": {},
   "outputs": [
    {
     "name": "stdout",
     "output_type": "stream",
     "text": [
      "('apple', 'banana', 'cherry', 'date')\n"
     ]
    }
   ],
   "source": [
    "fru=('apple','banana','cherry')\n",
    "fru1=fru+('date',)\n",
    "print(fru1)"
   ]
  },
  {
   "cell_type": "code",
   "execution_count": 23,
   "id": "f8ecd76a-f2b6-4ad7-b319-c264e8c7af56",
   "metadata": {},
   "outputs": [
    {
     "data": {
      "text/plain": [
       "2"
      ]
     },
     "execution_count": 23,
     "metadata": {},
     "output_type": "execute_result"
    }
   ],
   "source": [
    "\n",
    "my_value=('a','b','c','d','e')\n",
    "my_value.index('c')"
   ]
  },
  {
   "cell_type": "code",
   "execution_count": 24,
   "id": "24defb31-8245-41c5-bbb1-30447726c098",
   "metadata": {},
   "outputs": [
    {
     "data": {
      "text/plain": [
       "5"
      ]
     },
     "execution_count": 24,
     "metadata": {},
     "output_type": "execute_result"
    }
   ],
   "source": [
    "\n",
    "len(my_value)"
   ]
  },
  {
   "cell_type": "code",
   "execution_count": 25,
   "id": "3bbca2c6-c1a5-41a5-8b25-24ce77c7ddc5",
   "metadata": {},
   "outputs": [
    {
     "data": {
      "text/plain": [
       "77"
      ]
     },
     "execution_count": 25,
     "metadata": {},
     "output_type": "execute_result"
    }
   ],
   "source": [
    "\n",
    "t=(5,67,8,5,56,77,9,49,2)\n",
    "max(t)"
   ]
  },
  {
   "cell_type": "code",
   "execution_count": 26,
   "id": "3cc52d8b-c4ba-4c2d-9a2e-0c6a0215929e",
   "metadata": {},
   "outputs": [
    {
     "data": {
      "text/plain": [
       "2"
      ]
     },
     "execution_count": 26,
     "metadata": {},
     "output_type": "execute_result"
    }
   ],
   "source": [
    "min(t)"
   ]
  },
  {
   "cell_type": "code",
   "execution_count": 27,
   "id": "cfa04c2b-9172-41fe-852c-41635feba36e",
   "metadata": {},
   "outputs": [
    {
     "data": {
      "text/plain": [
       "278"
      ]
     },
     "execution_count": 27,
     "metadata": {},
     "output_type": "execute_result"
    }
   ],
   "source": [
    "sum(t)"
   ]
  },
  {
   "cell_type": "code",
   "execution_count": 28,
   "id": "e20f45b4-9586-4412-9127-7a21efd0aef9",
   "metadata": {},
   "outputs": [
    {
     "data": {
      "text/plain": [
       "[2, 5, 5, 8, 9, 49, 56, 67, 77]"
      ]
     },
     "execution_count": 28,
     "metadata": {},
     "output_type": "execute_result"
    }
   ],
   "source": [
    "sorted(t)"
   ]
  },
  {
   "cell_type": "code",
   "execution_count": 29,
   "id": "c6082082-f6ae-4e79-98ee-94fac21560ac",
   "metadata": {},
   "outputs": [
    {
     "name": "stdout",
     "output_type": "stream",
     "text": [
      "92\n",
      "76\n"
     ]
    }
   ],
   "source": [
    "scores=(88,76,92,85,79)\n",
    "print(max(scores))\n",
    "print(min(scores))"
   ]
  },
  {
   "cell_type": "code",
   "execution_count": 30,
   "id": "42b59676-cfc6-412e-8cc2-6d3b2b250296",
   "metadata": {},
   "outputs": [
    {
     "data": {
      "text/plain": [
       "True"
      ]
     },
     "execution_count": 30,
     "metadata": {},
     "output_type": "execute_result"
    }
   ],
   "source": [
    "cities=('new york','los angeles','paris','london','tokyo')\n",
    "'paris' in cities"
   ]
  },
  {
   "cell_type": "code",
   "execution_count": 31,
   "id": "38b1141a-1416-47e2-8eec-5ef427cf41f1",
   "metadata": {},
   "outputs": [
    {
     "name": "stdout",
     "output_type": "stream",
     "text": [
      "16\n"
     ]
    }
   ],
   "source": [
    "length=2\n",
    "width=4\n",
    "height=2\n",
    "volume=length*width*height\n",
    "print(volume)"
   ]
  },
  {
   "cell_type": "code",
   "execution_count": null,
   "id": "ac828abd-a72e-4e3d-b528-24c4f73a58a4",
   "metadata": {},
   "outputs": [],
   "source": []
  }
 ],
 "metadata": {
  "kernelspec": {
   "display_name": "Python 3 (ipykernel)",
   "language": "python",
   "name": "python3"
  },
  "language_info": {
   "codemirror_mode": {
    "name": "ipython",
    "version": 3
   },
   "file_extension": ".py",
   "mimetype": "text/x-python",
   "name": "python",
   "nbconvert_exporter": "python",
   "pygments_lexer": "ipython3",
   "version": "3.12.7"
  }
 },
 "nbformat": 4,
 "nbformat_minor": 5
}
