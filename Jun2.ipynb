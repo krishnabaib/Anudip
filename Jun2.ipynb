{
 "cells": [
  {
   "cell_type": "code",
   "execution_count": 1,
   "id": "98aab6d3-313f-42c1-a152-4de27b7375ad",
   "metadata": {},
   "outputs": [
    {
     "name": "stdout",
     "output_type": "stream",
     "text": [
      "Median Income: 67500.0\n"
     ]
    }
   ],
   "source": [
    "import numpy as np\n",
    "incomes=np.array([45000,55000,65000,70000,80000,90000])\n",
    "median_income=np.median(incomes)\n",
    "print(\"Median Income:\",median_income)"
   ]
  },
  {
   "cell_type": "code",
   "execution_count": 4,
   "id": "34ae573f-a678-4eb9-911a-f9675802c88c",
   "metadata": {},
   "outputs": [
    {
     "name": "stdout",
     "output_type": "stream",
     "text": [
      "Average Temperature: 75.71428571428571\n"
     ]
    }
   ],
   "source": [
    "#mean\n",
    "import numpy as np\n",
    "temperatures=np.array([72,68,74,80,79,82,75])\n",
    "average_temperature=np.mean(temperatures)\n",
    "print(\"Average Temperature:\",average_temperature)"
   ]
  },
  {
   "cell_type": "code",
   "execution_count": 10,
   "id": "1897d20b-b488-4704-8f30-e63657582ad1",
   "metadata": {},
   "outputs": [
    {
     "data": {
      "text/plain": [
       "3.40587727318528"
      ]
     },
     "execution_count": 10,
     "metadata": {},
     "output_type": "execute_result"
    }
   ],
   "source": [
    "#standard deviation\n",
    "import numpy as np\n",
    "classA=np.array([85,88,90,92,95])\n",
    "classB=np.array([70,80,85,95,100])\n",
    "np.std(classA)"
   ]
  },
  {
   "cell_type": "code",
   "execution_count": 7,
   "id": "fbf12e39-075a-472d-a573-a07510d390e8",
   "metadata": {},
   "outputs": [
    {
     "data": {
      "text/plain": [
       "10.677078252031311"
      ]
     },
     "execution_count": 7,
     "metadata": {},
     "output_type": "execute_result"
    }
   ],
   "source": [
    "np.std(classB)"
   ]
  },
  {
   "cell_type": "code",
   "execution_count": 11,
   "id": "93271015-a65c-493d-8885-bdd1d4491410",
   "metadata": {},
   "outputs": [
    {
     "data": {
      "text/plain": [
       "0.25"
      ]
     },
     "execution_count": 11,
     "metadata": {},
     "output_type": "execute_result"
    }
   ],
   "source": [
    "#varof\n",
    "prd_a=np.array([4,3])\n",
    "prd_b=np.array([2,8])\n",
    "np.var(prd_a)"
   ]
  },
  {
   "cell_type": "code",
   "execution_count": 13,
   "id": "8b8058a8-64c0-45bb-b383-3ad1565f3ba9",
   "metadata": {},
   "outputs": [
    {
     "data": {
      "text/plain": [
       "9.0"
      ]
     },
     "execution_count": 13,
     "metadata": {},
     "output_type": "execute_result"
    }
   ],
   "source": [
    "np.var(prd_b)"
   ]
  },
  {
   "cell_type": "code",
   "execution_count": 15,
   "id": "72626580-ee4f-44f5-9218-ddd01c9d9f02",
   "metadata": {},
   "outputs": [
    {
     "name": "stdout",
     "output_type": "stream",
     "text": [
      "min Traffic: 1200\n",
      "max Traffic: 1800\n"
     ]
    }
   ],
   "source": [
    "daily_traffic=np.array([1200,1350,1480,1650,1800,1550,1680])\n",
    "print(\"min Traffic:\",np.min(daily_traffic))\n",
    "print(\"max Traffic:\",np.max(daily_traffic))"
   ]
  },
  {
   "cell_type": "code",
   "execution_count": 16,
   "id": "ab1ec70a-e07d-414d-aa47-89ed0d4188e8",
   "metadata": {},
   "outputs": [
    {
     "name": "stdout",
     "output_type": "stream",
     "text": [
      "25th Percentile: 95.25\n",
      "50th Percentile (Median): 109.0\n",
      "75th Percentile: 123.5\n",
      "90th Percentile: 132.2\n"
     ]
    }
   ],
   "source": [
    "test_scores=np.array([65,75,80,85,90,92,94,95,96,98,100,102,104,106,108,110,112,114,116,118,120,122,124,126,128,130,132,134,136,138])\n",
    "print(\"25th Percentile:\",np.percentile(test_scores,25))\n",
    "print(\"50th Percentile (Median):\",np.percentile(test_scores,50))\n",
    "print(\"75th Percentile:\",np.percentile(test_scores,75))\n",
    "print(\"90th Percentile:\",np.percentile(test_scores,90))"
   ]
  },
  {
   "cell_type": "code",
   "execution_count": 19,
   "id": "4bd9dd77-78d9-447b-8110-76f057b91c68",
   "metadata": {},
   "outputs": [],
   "source": [
    "#npy\n",
    "#np.save\n",
    "arr=np.array([1,2,3,4,5])\n",
    "np.save('my_array.npy',arr)"
   ]
  },
  {
   "cell_type": "code",
   "execution_count": 22,
   "id": "f3df89d0-0e14-41e9-9461-63528a861a61",
   "metadata": {},
   "outputs": [
    {
     "name": "stdout",
     "output_type": "stream",
     "text": [
      "[1 2 3 4 5]\n"
     ]
    }
   ],
   "source": [
    "loaded_arr=np.load('my_array.npy')\n",
    "print(loaded_arr)"
   ]
  },
  {
   "cell_type": "code",
   "execution_count": 21,
   "id": "0ab7227c-386c-439b-b05b-54952e551ae0",
   "metadata": {},
   "outputs": [],
   "source": [
    "arr=np.array([[1,2,3],[4,5,6]])\n",
    "np.savetxt('array.txt',arr)"
   ]
  },
  {
   "cell_type": "code",
   "execution_count": null,
   "id": "aa80dbf4-ea6a-41bd-9a59-c7a0dae33d67",
   "metadata": {},
   "outputs": [],
   "source": []
  }
 ],
 "metadata": {
  "kernelspec": {
   "display_name": "Python 3 (ipykernel)",
   "language": "python",
   "name": "python3"
  },
  "language_info": {
   "codemirror_mode": {
    "name": "ipython",
    "version": 3
   },
   "file_extension": ".py",
   "mimetype": "text/x-python",
   "name": "python",
   "nbconvert_exporter": "python",
   "pygments_lexer": "ipython3",
   "version": "3.12.7"
  }
 },
 "nbformat": 4,
 "nbformat_minor": 5
}
