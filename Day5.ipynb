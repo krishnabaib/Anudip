{
 "cells": [
  {
   "cell_type": "code",
   "execution_count": 1,
   "id": "ea5511f2-04c7-47ef-b540-3bc64964de69",
   "metadata": {},
   "outputs": [
    {
     "name": "stdin",
     "output_type": "stream",
     "text": [
      " helloworldto python\n"
     ]
    },
    {
     "name": "stdout",
     "output_type": "stream",
     "text": [
      "Strong Password\n"
     ]
    }
   ],
   "source": [
    "password=input()\n",
    "if len(password) < 6:\n",
    "    print(\"Weak Password\")\n",
    "elif 6 <= len(password) <= 8:\n",
    "    print(\"Moderate Password\")\n",
    "else:\n",
    "    print(\"Strong Password\")"
   ]
  },
  {
   "cell_type": "code",
   "execution_count": 2,
   "id": "20684c72-60c0-4387-b8ce-6b93d6a39c59",
   "metadata": {},
   "outputs": [
    {
     "name": "stdout",
     "output_type": "stream",
     "text": [
      "1\n",
      "2\n",
      "3\n",
      "4\n",
      "5\n",
      "6\n",
      "7\n"
     ]
    }
   ],
   "source": [
    "#for loop\n",
    "a=[1,2,3,4,5,6,7]\n",
    "for i in a:\n",
    "    print(i)"
   ]
  },
  {
   "cell_type": "code",
   "execution_count": 4,
   "id": "234eb7fc-b425-4ed1-b691-a48e02464b77",
   "metadata": {},
   "outputs": [
    {
     "name": "stdout",
     "output_type": "stream",
     "text": [
      "apple\n",
      "banana\n",
      "cherry\n"
     ]
    }
   ],
   "source": [
    "fruits=['apple','banana','cherry']\n",
    "for fruits in fruits:\n",
    "    print(fruits)"
   ]
  },
  {
   "cell_type": "code",
   "execution_count": 10,
   "id": "5df8b9fa-86cd-4064-842a-a452bb6c849a",
   "metadata": {},
   "outputs": [
    {
     "name": "stdout",
     "output_type": "stream",
     "text": [
      "h\n",
      "e\n",
      "l\n",
      "l\n",
      "o\n"
     ]
    }
   ],
   "source": [
    "word=\"hello\"\n",
    "for i in word:\n",
    "    print(i)"
   ]
  },
  {
   "cell_type": "code",
   "execution_count": null,
   "id": "8c09a8b6-5db9-4434-af6f-eef833c94c4b",
   "metadata": {},
   "outputs": [],
   "source": []
  },
  {
   "cell_type": "code",
   "execution_count": 13,
   "id": "d7e76897-8f82-482f-ad50-750d208aa209",
   "metadata": {},
   "outputs": [
    {
     "name": "stdout",
     "output_type": "stream",
     "text": [
      "1\n",
      "4\n",
      "7\n"
     ]
    }
   ],
   "source": [
    "for i in range(1,10,3):\n",
    "    print(i)"
   ]
  },
  {
   "cell_type": "code",
   "execution_count": 14,
   "id": "1b6c7e1a-18e4-4de2-b7a9-3225fb4c3343",
   "metadata": {},
   "outputs": [
    {
     "name": "stdout",
     "output_type": "stream",
     "text": [
      "1\n",
      "2\n",
      "3\n",
      "4\n",
      "5\n",
      "6\n",
      "7\n",
      "loop is finished\n"
     ]
    }
   ],
   "source": [
    "#looping with else\n",
    "for i in a:\n",
    "    print(i)\n",
    "else:print(\"loop is finished\")"
   ]
  },
  {
   "cell_type": "code",
   "execution_count": 16,
   "id": "7cdad563-03e4-4d96-a4ae-000076845715",
   "metadata": {},
   "outputs": [
    {
     "name": "stdout",
     "output_type": "stream",
     "text": [
      "i=0,j=0\n",
      "i=0,j=1\n",
      "i=1,j=0\n",
      "i=1,j=1\n",
      "i=2,j=0\n",
      "i=2,j=1\n"
     ]
    }
   ],
   "source": [
    "for i in range(3):\n",
    "    for j in range(2):\n",
    "        print(f\"i={i},j={j}\") "
   ]
  },
  {
   "cell_type": "code",
   "execution_count": 17,
   "id": "b9aa32b2-4e5b-4dcc-893d-bc008436f6a1",
   "metadata": {},
   "outputs": [
    {
     "name": "stdout",
     "output_type": "stream",
     "text": [
      "0 0\n",
      "0 1\n",
      "1 0\n",
      "1 1\n",
      "2 0\n",
      "2 1\n"
     ]
    }
   ],
   "source": [
    "for i in range(3):\n",
    "    for j in range(2):\n",
    "        print(i,j)"
   ]
  },
  {
   "cell_type": "code",
   "execution_count": 18,
   "id": "2ffa535e-ab5f-4f87-ba86-6c442f712bd4",
   "metadata": {},
   "outputs": [
    {
     "name": "stdout",
     "output_type": "stream",
     "text": [
      "my name is krishna\n"
     ]
    }
   ],
   "source": [
    "name='krishna'\n",
    "print(f'my name is {name}')"
   ]
  },
  {
   "cell_type": "code",
   "execution_count": 19,
   "id": "f3ecc1e4-4576-4075-8e9f-4c43d2e1c90b",
   "metadata": {},
   "outputs": [
    {
     "name": "stdout",
     "output_type": "stream",
     "text": [
      "outer\n",
      "inner loop\n",
      "inner loop\n",
      "outer\n",
      "inner loop\n",
      "inner loop\n",
      "outer\n",
      "inner loop\n",
      "inner loop\n",
      "outer\n",
      "inner loop\n",
      "inner loop\n"
     ]
    }
   ],
   "source": [
    "for i in range(4):\n",
    "    print(\"outer\")\n",
    "    for j in range(2):\n",
    "        print(\"inner loop\")"
   ]
  },
  {
   "cell_type": "code",
   "execution_count": 20,
   "id": "7551511e-54fa-4ef4-92b1-ea4beebbee9d",
   "metadata": {},
   "outputs": [
    {
     "name": "stdout",
     "output_type": "stream",
     "text": [
      "0\n",
      "This is will be 1st\n",
      "second\n",
      "third\n",
      "1\n",
      "This is will be 1st\n",
      "second\n",
      "third\n",
      "2\n",
      "This is will be 1st\n",
      "second\n",
      "third\n"
     ]
    }
   ],
   "source": [
    "for i in range(3):\n",
    "    print(i)\n",
    "    print(\"This is will be 1st\")\n",
    "    print(\"second\")\n",
    "    print(\"third\")"
   ]
  },
  {
   "cell_type": "code",
   "execution_count": 21,
   "id": "f688e5d4-9406-4db5-9d86-0b28b3b6f37d",
   "metadata": {},
   "outputs": [
    {
     "name": "stdout",
     "output_type": "stream",
     "text": [
      "1\n",
      "4\n",
      "7\n"
     ]
    }
   ],
   "source": [
    "for i in range(1,10,3):\n",
    "    print(i)"
   ]
  },
  {
   "cell_type": "code",
   "execution_count": 25,
   "id": "23c81649-4944-4bc4-a8d3-a48d3ddad1d4",
   "metadata": {},
   "outputs": [
    {
     "name": "stdout",
     "output_type": "stream",
     "text": [
      "0 = h\n",
      "1 = e\n",
      "2 = l\n",
      "3 = l\n",
      "4 = o\n"
     ]
    }
   ],
   "source": [
    "s=\"hello\"\n",
    "r=len(s)\n",
    "for i in range(r):\n",
    "    print(i,\"=\", s[i])"
   ]
  },
  {
   "cell_type": "code",
   "execution_count": 26,
   "id": "d6ffaa71-4eac-4740-9b79-62a81c7b3637",
   "metadata": {},
   "outputs": [
    {
     "name": "stdout",
     "output_type": "stream",
     "text": [
      "0 = h\n",
      "1 = e\n",
      "2 = l\n",
      "3 = l\n",
      "4 = o\n",
      "rest of the code\n"
     ]
    }
   ],
   "source": [
    "s=\"hello\"\n",
    "r=len(s)\n",
    "for i in range(r):\n",
    "    print(i,\"=\", s[i])\n",
    "print(\"rest of the code\")"
   ]
  },
  {
   "cell_type": "code",
   "execution_count": 30,
   "id": "7e88f0c7-fcf0-4907-9db4-2b50e5b285ca",
   "metadata": {},
   "outputs": [
    {
     "name": "stdout",
     "output_type": "stream",
     "text": [
      "0\n",
      "1\n",
      "2\n",
      "3\n",
      "4\n"
     ]
    }
   ],
   "source": [
    "#BREAK\n",
    "\n",
    "for num in range(10):\n",
    "    if num == 5:\n",
    "      break  \n",
    "    print(num)\n"
   ]
  },
  {
   "cell_type": "code",
   "execution_count": 31,
   "id": "8a8ce224-c473-4e95-8332-ddf9f7d9095f",
   "metadata": {},
   "outputs": [
    {
     "name": "stdout",
     "output_type": "stream",
     "text": [
      "0\n",
      "1\n",
      "2\n",
      "3\n",
      "4\n",
      "6\n",
      "7\n",
      "8\n",
      "9\n"
     ]
    }
   ],
   "source": [
    "#CONTINUE\n",
    "for num in range(10):\n",
    "    if num == 5:\n",
    "      continue \n",
    "    print(num)"
   ]
  },
  {
   "cell_type": "code",
   "execution_count": 32,
   "id": "4537f8d1-71c9-40fb-b5b2-f174143b9cc3",
   "metadata": {},
   "outputs": [
    {
     "name": "stdout",
     "output_type": "stream",
     "text": [
      "0\n",
      "1\n",
      "3\n",
      "4\n"
     ]
    }
   ],
   "source": [
    "for num in range(5):\n",
    "    if num == 2:\n",
    "      continue \n",
    "    print(num)"
   ]
  },
  {
   "cell_type": "code",
   "execution_count": 33,
   "id": "0bac9cfa-0346-43e9-a27c-f22c1aa59f20",
   "metadata": {},
   "outputs": [
    {
     "name": "stdout",
     "output_type": "stream",
     "text": [
      "0\n",
      "1\n",
      "2\n",
      "4\n"
     ]
    }
   ],
   "source": [
    "#PASS- its is written in situation where it is required but no need to be printed\n",
    "for number in range(5):\n",
    "    if number==3:\n",
    "        pass\n",
    "    else:\n",
    "        print(number)"
   ]
  },
  {
   "cell_type": "code",
   "execution_count": 37,
   "id": "75389c3b-9ad6-4964-9374-020ec1b5530b",
   "metadata": {},
   "outputs": [
    {
     "name": "stdout",
     "output_type": "stream",
     "text": [
      "[1, 2, 3, 4, 5, 6]\n"
     ]
    },
    {
     "name": "stdin",
     "output_type": "stream",
     "text": [
      " 3\n"
     ]
    },
    {
     "name": "stdout",
     "output_type": "stream",
     "text": [
      "Number3found in list.\n"
     ]
    }
   ],
   "source": [
    "list=[1,2,3,4,5,6]\n",
    "print(list)\n",
    "target=int(input())\n",
    "for num in list:\n",
    "    if num==target:\n",
    "        print(f\"Number{target}found in list.\")\n",
    "        break\n",
    "else:\n",
    "        print(f\"Number{target}not found in list.\")"
   ]
  },
  {
   "cell_type": "code",
   "execution_count": null,
   "id": "835a9892-f8a2-4c34-b768-3e8cd3453f9f",
   "metadata": {},
   "outputs": [],
   "source": []
  },
  {
   "cell_type": "code",
   "execution_count": null,
   "id": "00e03ad7-5979-4343-81fe-27c1592925e8",
   "metadata": {},
   "outputs": [],
   "source": []
  }
 ],
 "metadata": {
  "kernelspec": {
   "display_name": "Python 3 (ipykernel)",
   "language": "python",
   "name": "python3"
  },
  "language_info": {
   "codemirror_mode": {
    "name": "ipython",
    "version": 3
   },
   "file_extension": ".py",
   "mimetype": "text/x-python",
   "name": "python",
   "nbconvert_exporter": "python",
   "pygments_lexer": "ipython3",
   "version": "3.12.7"
  }
 },
 "nbformat": 4,
 "nbformat_minor": 5
}
