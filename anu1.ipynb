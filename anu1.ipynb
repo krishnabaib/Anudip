{
 "cells": [
  {
   "cell_type": "code",
   "execution_count": 6,
   "id": "a5dbc079-6b1d-4e7c-bd13-e5c17c9fbf46",
   "metadata": {},
   "outputs": [
    {
     "name": "stdout",
     "output_type": "stream",
     "text": [
      "hello world!\n"
     ]
    }
   ],
   "source": [
    "print(\"hello world!\")"
   ]
  },
  {
   "cell_type": "code",
   "execution_count": 7,
   "id": "a5153be5-a9dc-4b9b-b349-c235da8e2aed",
   "metadata": {},
   "outputs": [
    {
     "name": "stdout",
     "output_type": "stream",
     "text": [
      "10 15\n"
     ]
    }
   ],
   "source": [
    "A=10\n",
    "a=15\n",
    "print(A,a)"
   ]
  },
  {
   "cell_type": "code",
   "execution_count": 8,
   "id": "61751502-f877-4bf9-977f-38ac0f512e97",
   "metadata": {},
   "outputs": [
    {
     "name": "stdout",
     "output_type": "stream",
     "text": [
      "krishna\n"
     ]
    }
   ],
   "source": [
    "print('krishna')"
   ]
  },
  {
   "cell_type": "code",
   "execution_count": 9,
   "id": "a780bce6-1dea-4e01-ab70-17529ae2574a",
   "metadata": {},
   "outputs": [
    {
     "name": "stdout",
     "output_type": "stream",
     "text": [
      "4\n"
     ]
    }
   ],
   "source": [
    "print(4)"
   ]
  },
  {
   "cell_type": "code",
   "execution_count": 10,
   "id": "3e47757f-ca4c-483e-9ed1-1b8ef89d66d1",
   "metadata": {},
   "outputs": [
    {
     "name": "stdout",
     "output_type": "stream",
     "text": [
      "-0.97\n"
     ]
    }
   ],
   "source": [
    "print(-0.97)"
   ]
  },
  {
   "cell_type": "code",
   "execution_count": 11,
   "id": "62b9c33f-e6ed-4bff-abff-ca2c53a32d35",
   "metadata": {},
   "outputs": [
    {
     "name": "stdout",
     "output_type": "stream",
     "text": [
      "hello-world\n"
     ]
    }
   ],
   "source": [
    "print('hello',end='-')\n",
    "print('world')"
   ]
  },
  {
   "cell_type": "code",
   "execution_count": 13,
   "id": "4a412d8f-c6fe-481f-aead-a55c85da66cb",
   "metadata": {},
   "outputs": [
    {
     "data": {
      "text/plain": [
       "float"
      ]
     },
     "execution_count": 13,
     "metadata": {},
     "output_type": "execute_result"
    }
   ],
   "source": [
    "a=56.8\n",
    "type(a)"
   ]
  },
  {
   "cell_type": "code",
   "execution_count": 14,
   "id": "add65612-40c0-446e-9599-a5706fb72082",
   "metadata": {},
   "outputs": [
    {
     "data": {
      "text/plain": [
       "complex"
      ]
     },
     "execution_count": 14,
     "metadata": {},
     "output_type": "execute_result"
    }
   ],
   "source": [
    "z=4+3j\n",
    "type(z)"
   ]
  },
  {
   "cell_type": "code",
   "execution_count": 15,
   "id": "46f4d840-34a8-4a40-b537-f0ff04877457",
   "metadata": {},
   "outputs": [
    {
     "data": {
      "text/plain": [
       "list"
      ]
     },
     "execution_count": 15,
     "metadata": {},
     "output_type": "execute_result"
    }
   ],
   "source": [
    "lis=[\"apple\",2,4,5]\n",
    "type(lis)"
   ]
  },
  {
   "cell_type": "code",
   "execution_count": 16,
   "id": "6efbcb77-b66e-4603-8174-cbd97e415da1",
   "metadata": {},
   "outputs": [
    {
     "data": {
      "text/plain": [
       "tuple"
      ]
     },
     "execution_count": 16,
     "metadata": {},
     "output_type": "execute_result"
    }
   ],
   "source": [
    "hi=(7,5)\n",
    "type(hi)"
   ]
  },
  {
   "cell_type": "code",
   "execution_count": 20,
   "id": "9638e9fb-5200-45ea-8b40-3090fad15310",
   "metadata": {},
   "outputs": [
    {
     "data": {
      "text/plain": [
       "tuple"
      ]
     },
     "execution_count": 20,
     "metadata": {},
     "output_type": "execute_result"
    }
   ],
   "source": [
    "krishna=(\"wait\",44,\"hello\")\n",
    "type(krishna)"
   ]
  },
  {
   "cell_type": "code",
   "execution_count": 18,
   "id": "a2f6285f-fb0c-421a-a28a-c2499d6f9c1c",
   "metadata": {},
   "outputs": [
    {
     "data": {
      "text/plain": [
       "{1, 2, 3, 4, 5}"
      ]
     },
     "execution_count": 18,
     "metadata": {},
     "output_type": "execute_result"
    }
   ],
   "source": [
    "unique={1,2,2,3,4,5}\n",
    "unique"
   ]
  },
  {
   "cell_type": "code",
   "execution_count": 19,
   "id": "164c86ab-df26-45e5-aec1-9eb4acbe1b95",
   "metadata": {},
   "outputs": [
    {
     "data": {
      "text/plain": [
       "set"
      ]
     },
     "execution_count": 19,
     "metadata": {},
     "output_type": "execute_result"
    }
   ],
   "source": [
    "type(unique)"
   ]
  },
  {
   "cell_type": "code",
   "execution_count": null,
   "id": "f586f2dd-2d88-4aca-b0b7-b64119c7c1a7",
   "metadata": {},
   "outputs": [],
   "source": []
  }
 ],
 "metadata": {
  "kernelspec": {
   "display_name": "Python 3 (ipykernel)",
   "language": "python",
   "name": "python3"
  },
  "language_info": {
   "codemirror_mode": {
    "name": "ipython",
    "version": 3
   },
   "file_extension": ".py",
   "mimetype": "text/x-python",
   "name": "python",
   "nbconvert_exporter": "python",
   "pygments_lexer": "ipython3",
   "version": "3.12.7"
  }
 },
 "nbformat": 4,
 "nbformat_minor": 5
}
