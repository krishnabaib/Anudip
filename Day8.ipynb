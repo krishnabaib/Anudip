{
 "cells": [
  {
   "cell_type": "code",
   "execution_count": 2,
   "id": "39c54718-735a-481f-927e-647febda50ae",
   "metadata": {},
   "outputs": [
    {
     "name": "stdout",
     "output_type": "stream",
     "text": [
      "hello\n"
     ]
    }
   ],
   "source": [
    "print(\"hello\")"
   ]
  },
  {
   "cell_type": "code",
   "execution_count": 3,
   "id": "34ab58ef-8d0a-4f80-9189-f9c940f8a095",
   "metadata": {},
   "outputs": [
    {
     "name": "stdout",
     "output_type": "stream",
     "text": [
      "p\n",
      "y\n",
      "t\n",
      "h\n",
      "o\n",
      "n\n"
     ]
    }
   ],
   "source": [
    "#loop operation string in python\n",
    "text=\"python\"\n",
    "for char in text:\n",
    "    print(char)"
   ]
  },
  {
   "cell_type": "code",
   "execution_count": 5,
   "id": "b9b49fd5-1ba9-4a8d-bfc2-8d6d97c0de2a",
   "metadata": {},
   "outputs": [
    {
     "data": {
      "text/plain": [
       "True"
      ]
     },
     "execution_count": 5,
     "metadata": {},
     "output_type": "execute_result"
    }
   ],
   "source": [
    "text=\"Hello, World\"\n",
    "\"W\" in text"
   ]
  },
  {
   "cell_type": "code",
   "execution_count": 6,
   "id": "606ce25c-42ff-4a2b-87dd-ceeca4a0560f",
   "metadata": {},
   "outputs": [
    {
     "data": {
      "text/plain": [
       "False"
      ]
     },
     "execution_count": 6,
     "metadata": {},
     "output_type": "execute_result"
    }
   ],
   "source": [
    "text=\"Hello, World\"\n",
    "\"W\" not in text"
   ]
  },
  {
   "cell_type": "code",
   "execution_count": 8,
   "id": "0b384f4b-b2c8-4a21-8755-76fc2e6e398a",
   "metadata": {},
   "outputs": [
    {
     "name": "stdout",
     "output_type": "stream",
     "text": [
      "False\n"
     ]
    }
   ],
   "source": [
    "text=\"Hello, World\"\n",
    "result=\"Hello\" not in text\n",
    "print(result)"
   ]
  },
  {
   "cell_type": "code",
   "execution_count": 9,
   "id": "01292b2e-4b77-4363-8694-a45ca6819f0f",
   "metadata": {},
   "outputs": [
    {
     "data": {
      "text/plain": [
       "True"
      ]
     },
     "execution_count": 9,
     "metadata": {},
     "output_type": "execute_result"
    }
   ],
   "source": [
    "str=\"ordered\"\n",
    "\"ordered\" in str"
   ]
  },
  {
   "cell_type": "code",
   "execution_count": 10,
   "id": "563ea39a-f8db-44c1-b02b-aca5c9fea06c",
   "metadata": {},
   "outputs": [
    {
     "data": {
      "text/plain": [
       "True"
      ]
     },
     "execution_count": 10,
     "metadata": {},
     "output_type": "execute_result"
    }
   ],
   "source": [
    "str=\"collection\"\n",
    "\"collection\" in str"
   ]
  },
  {
   "cell_type": "code",
   "execution_count": 11,
   "id": "f4559e7d-31ea-4a8d-976e-9aaf32a86d72",
   "metadata": {},
   "outputs": [
    {
     "data": {
      "text/plain": [
       "True"
      ]
     },
     "execution_count": 11,
     "metadata": {},
     "output_type": "execute_result"
    }
   ],
   "source": [
    "text=\"duplicate\"\n",
    "\"duplicate\" in text"
   ]
  },
  {
   "cell_type": "code",
   "execution_count": 12,
   "id": "edd3486e-31d3-4f35-897c-9bec3827009d",
   "metadata": {},
   "outputs": [
    {
     "data": {
      "text/plain": [
       "False"
      ]
     },
     "execution_count": 12,
     "metadata": {},
     "output_type": "execute_result"
    }
   ],
   "source": [
    "str=\"ordered\"\n",
    "\"ordered\" not in str"
   ]
  },
  {
   "cell_type": "code",
   "execution_count": 13,
   "id": "7af2da5a-03f5-442b-911f-697fe66298d5",
   "metadata": {},
   "outputs": [
    {
     "data": {
      "text/plain": [
       "False"
      ]
     },
     "execution_count": 13,
     "metadata": {},
     "output_type": "execute_result"
    }
   ],
   "source": [
    "str=\"duplicate\"\n",
    "\"duplicate\" not in str"
   ]
  },
  {
   "cell_type": "code",
   "execution_count": 14,
   "id": "11096891-a653-465f-b334-688b3f425ff3",
   "metadata": {},
   "outputs": [
    {
     "data": {
      "text/plain": [
       "False"
      ]
     },
     "execution_count": 14,
     "metadata": {},
     "output_type": "execute_result"
    }
   ],
   "source": [
    "str=\"collection\"\n",
    "\"collection\" not in str"
   ]
  },
  {
   "cell_type": "code",
   "execution_count": 15,
   "id": "d78dd085-b53d-47ce-ad8c-fd8665d0d7ea",
   "metadata": {},
   "outputs": [
    {
     "data": {
      "text/plain": [
       "True"
      ]
     },
     "execution_count": 15,
     "metadata": {},
     "output_type": "execute_result"
    }
   ],
   "source": [
    "str=\"\"\"List is a collection which is ordered and changeable. Allows duplicate members.\n",
    "Tuple is a collection which is ordered and unchangeable. Allows duplicate members.\n",
    "Set is a collection which is unordered, unchangeable*, and unindexed. No duplicate members.\n",
    "Dictionary is a collection which is ordered** and changeable. No duplicate members.\"\"\"\n",
    "\"ordered\" in str\n",
    "\"duplicate\" in str\n",
    "\"collection\" in str"
   ]
  },
  {
   "cell_type": "code",
   "execution_count": 17,
   "id": "5ed6501b-ab90-47b6-97a3-48587cacb7b5",
   "metadata": {},
   "outputs": [
    {
     "data": {
      "text/plain": [
       "'HELLO'"
      ]
     },
     "execution_count": 17,
     "metadata": {},
     "output_type": "execute_result"
    }
   ],
   "source": [
    "str=\"hello\"\n",
    "str.upper()"
   ]
  },
  {
   "cell_type": "code",
   "execution_count": 18,
   "id": "96ee8e5d-4b1a-43c5-82b9-fbf329ff513f",
   "metadata": {},
   "outputs": [
    {
     "data": {
      "text/plain": [
       "'hello'"
      ]
     },
     "execution_count": 18,
     "metadata": {},
     "output_type": "execute_result"
    }
   ],
   "source": [
    "str=\"hello\"\n",
    "str.lower()"
   ]
  },
  {
   "cell_type": "code",
   "execution_count": 19,
   "id": "be45c9d4-9632-4ba3-ad32-dcf1fd187c2e",
   "metadata": {},
   "outputs": [
    {
     "data": {
      "text/plain": [
       "'Hello'"
      ]
     },
     "execution_count": 19,
     "metadata": {},
     "output_type": "execute_result"
    }
   ],
   "source": [
    "str=\"hello\"\n",
    "str.title()"
   ]
  },
  {
   "cell_type": "code",
   "execution_count": 21,
   "id": "88117052-c65e-4d72-aba3-9be8bb60b734",
   "metadata": {},
   "outputs": [
    {
     "data": {
      "text/plain": [
       "'hello'"
      ]
     },
     "execution_count": 21,
     "metadata": {},
     "output_type": "execute_result"
    }
   ],
   "source": [
    "str=\"   hello   \"\n",
    "str.strip()"
   ]
  },
  {
   "cell_type": "code",
   "execution_count": 22,
   "id": "473c39ab-4ff6-4d58-a530-7826f7368e35",
   "metadata": {},
   "outputs": [
    {
     "data": {
      "text/plain": [
       "'hello Python Python'"
      ]
     },
     "execution_count": 22,
     "metadata": {},
     "output_type": "execute_result"
    }
   ],
   "source": [
    "str=\"hello world world\"\n",
    "str.replace('world','Python')"
   ]
  },
  {
   "cell_type": "code",
   "execution_count": 23,
   "id": "2040b291-bf53-4709-8b13-b66111e243d7",
   "metadata": {},
   "outputs": [
    {
     "data": {
      "text/plain": [
       "['hello']"
      ]
     },
     "execution_count": 23,
     "metadata": {},
     "output_type": "execute_result"
    }
   ],
   "source": [
    "str=\"hello\"\n",
    "str.split(\" \")"
   ]
  },
  {
   "cell_type": "code",
   "execution_count": 26,
   "id": "f82865b7-4b79-476b-a477-44bbb20feed3",
   "metadata": {},
   "outputs": [
    {
     "data": {
      "text/plain": [
       "['hello  ', 'world world']"
      ]
     },
     "execution_count": 26,
     "metadata": {},
     "output_type": "execute_result"
    }
   ],
   "source": [
    "str=\"hello  ,world world\"\n",
    "str.split(',')  #used for sentiment analysis"
   ]
  },
  {
   "cell_type": "code",
   "execution_count": 27,
   "id": "0003d516-626b-47b5-a155-4468b6606574",
   "metadata": {},
   "outputs": [
    {
     "data": {
      "text/plain": [
       "['hello world ', ' this is python']"
      ]
     },
     "execution_count": 27,
     "metadata": {},
     "output_type": "execute_result"
    }
   ],
   "source": [
    "str=\"hello world ! this is python\"\n",
    "str.split('!')"
   ]
  },
  {
   "cell_type": "code",
   "execution_count": 31,
   "id": "2da7420d-e332-462d-bf48-306395ca8a5a",
   "metadata": {},
   "outputs": [
    {
     "data": {
      "text/plain": [
       "'hello! World'"
      ]
     },
     "execution_count": 31,
     "metadata": {},
     "output_type": "execute_result"
    }
   ],
   "source": [
    "str=[\"hello\",\"World\"]\n",
    "joined_text='! '.join(str)\n",
    "joined_text\n"
   ]
  },
  {
   "cell_type": "code",
   "execution_count": 32,
   "id": "ce4e62c0-d367-43f4-83cc-736da0abfc1f",
   "metadata": {},
   "outputs": [
    {
     "data": {
      "text/plain": [
       "'hello--world--this--is'"
      ]
     },
     "execution_count": 32,
     "metadata": {},
     "output_type": "execute_result"
    }
   ],
   "source": [
    "str=['hello','world','this','is']\n",
    "joined_text='--'.join(str)\n",
    "joined_text"
   ]
  },
  {
   "cell_type": "code",
   "execution_count": 37,
   "id": "5c7ca322-5c1a-4822-8290-a0b4d8d9877c",
   "metadata": {},
   "outputs": [
    {
     "name": "stdout",
     "output_type": "stream",
     "text": [
      "7\n"
     ]
    }
   ],
   "source": [
    "text=\"hello, World\"\n",
    "index= text.find(\"World\")\n",
    "print(index)"
   ]
  },
  {
   "cell_type": "code",
   "execution_count": 40,
   "id": "2db4c765-5529-4905-8547-b9e6e98d72d6",
   "metadata": {},
   "outputs": [
    {
     "name": "stdout",
     "output_type": "stream",
     "text": [
      "7\n"
     ]
    }
   ],
   "source": [
    "text=\"Hello, python!\"\n",
    "str=text.find(\"python\")\n",
    "print(str)"
   ]
  },
  {
   "cell_type": "code",
   "execution_count": 41,
   "id": "7ae3462d-cb05-4836-b23c-f7f58c36f6d7",
   "metadata": {},
   "outputs": [
    {
     "name": "stdout",
     "output_type": "stream",
     "text": [
      "2\n"
     ]
    }
   ],
   "source": [
    "text=\"Hello, python!\"\n",
    "str=text.count(\"o\")\n",
    "print(str)"
   ]
  },
  {
   "cell_type": "code",
   "execution_count": 43,
   "id": "efbc03d1-46d2-4333-bb4e-b0f41cd62834",
   "metadata": {},
   "outputs": [
    {
     "name": "stdout",
     "output_type": "stream",
     "text": [
      "2\n"
     ]
    }
   ],
   "source": [
    "text=\"Hello, python, Welcome to programming\"\n",
    "str=text.count(\",\")\n",
    "print(str)"
   ]
  },
  {
   "cell_type": "code",
   "execution_count": 44,
   "id": "f3ada31c-6910-4a12-aca2-440f45116aec",
   "metadata": {},
   "outputs": [
    {
     "name": "stdout",
     "output_type": "stream",
     "text": [
      "False\n"
     ]
    }
   ],
   "source": [
    "text=\"Hello, python!\"\n",
    "str=text.startswith(\"python\")\n",
    "print(str)"
   ]
  },
  {
   "cell_type": "code",
   "execution_count": 48,
   "id": "a2ffe54f-18af-42c9-bbf3-ee48ef59c0df",
   "metadata": {},
   "outputs": [
    {
     "name": "stdout",
     "output_type": "stream",
     "text": [
      "True\n"
     ]
    }
   ],
   "source": [
    "text=\"Hello, python!\"\n",
    "str=text.startswith(\"Hello\")\n",
    "print(str)"
   ]
  },
  {
   "cell_type": "code",
   "execution_count": 52,
   "id": "41eb878f-8cda-489c-8cfd-5ef8cd83d1fb",
   "metadata": {},
   "outputs": [
    {
     "name": "stdout",
     "output_type": "stream",
     "text": [
      "True\n"
     ]
    }
   ],
   "source": [
    "text=\"Hello, python!\"\n",
    "str=text.endswith(\"python!\")\n",
    "print(str)"
   ]
  },
  {
   "cell_type": "code",
   "execution_count": 53,
   "id": "e3dca2aa-6f89-4f5c-8b6b-599db6ee463a",
   "metadata": {},
   "outputs": [
    {
     "name": "stdout",
     "output_type": "stream",
     "text": [
      "False\n"
     ]
    }
   ],
   "source": [
    "text=\"Hello, python!\"\n",
    "str=text.endswith(\"Hello\")\n",
    "print(str)"
   ]
  },
  {
   "cell_type": "code",
   "execution_count": 55,
   "id": "064ce90a-47f5-470a-922e-aebe84ff8b07",
   "metadata": {},
   "outputs": [
    {
     "name": "stdout",
     "output_type": "stream",
     "text": [
      "True\n"
     ]
    }
   ],
   "source": [
    "text=\"123456\"\n",
    "str=text.isdigit()\n",
    "print(str)"
   ]
  },
  {
   "cell_type": "code",
   "execution_count": 58,
   "id": "fdd0c69b-5104-4205-9e21-344d7b891fae",
   "metadata": {},
   "outputs": [
    {
     "data": {
      "text/plain": [
       "True"
      ]
     },
     "execution_count": 58,
     "metadata": {},
     "output_type": "execute_result"
    }
   ],
   "source": [
    "text='123456'\n",
    "text.isdigit()\n"
   ]
  },
  {
   "cell_type": "code",
   "execution_count": 61,
   "id": "cecff70f-b603-4760-af08-a622d93c0450",
   "metadata": {},
   "outputs": [
    {
     "name": "stdout",
     "output_type": "stream",
     "text": [
      "True\n"
     ]
    }
   ],
   "source": [
    "text=\"hello\"\n",
    "str=text.isalpha()\n",
    "print(str)"
   ]
  },
  {
   "cell_type": "code",
   "execution_count": 62,
   "id": "7c0164de-3681-4314-a61a-e13ea4fc50b5",
   "metadata": {},
   "outputs": [
    {
     "name": "stdout",
     "output_type": "stream",
     "text": [
      "False\n"
     ]
    }
   ],
   "source": [
    "text=\"HELLO\"\n",
    "str=text.islower()\n",
    "print(str)"
   ]
  },
  {
   "cell_type": "code",
   "execution_count": 63,
   "id": "3fd55e3a-3a6a-43ba-bcfa-fbcb55d596eb",
   "metadata": {},
   "outputs": [
    {
     "name": "stdout",
     "output_type": "stream",
     "text": [
      "True\n"
     ]
    }
   ],
   "source": [
    "text=\"HELLO\"\n",
    "str=text.isupper()\n",
    "print(str)"
   ]
  },
  {
   "cell_type": "code",
   "execution_count": 65,
   "id": "b8231b97-d785-4eef-8eff-5f5735c88b20",
   "metadata": {},
   "outputs": [
    {
     "name": "stdout",
     "output_type": "stream",
     "text": [
      "00040\n"
     ]
    }
   ],
   "source": [
    "text=\"40\"\n",
    "str=text.zfill(5)\n",
    "print(str)"
   ]
  },
  {
   "cell_type": "code",
   "execution_count": 67,
   "id": "91fb7023-3580-4098-b20d-7599e3f12b22",
   "metadata": {},
   "outputs": [
    {
     "name": "stdout",
     "output_type": "stream",
     "text": [
      "12\n"
     ]
    }
   ],
   "source": [
    "text=\"hello world world\"\n",
    "str=text.rfind(\"world\")\n",
    "print(str)"
   ]
  },
  {
   "cell_type": "code",
   "execution_count": 68,
   "id": "1179976f-f626-4200-8d83-cba541180366",
   "metadata": {},
   "outputs": [],
   "source": [
    " #ASCII "
   ]
  },
  {
   "cell_type": "code",
   "execution_count": 72,
   "id": "1c58f9ca-4750-4759-b3f2-4cc495b63288",
   "metadata": {},
   "outputs": [
    {
     "name": "stdout",
     "output_type": "stream",
     "text": [
      "apple\n"
     ]
    }
   ],
   "source": [
    "#COMMON FUNCTIONS\n",
    "#MIN\n",
    "words=[\"apple\",\"banana\",\"cherry\"]\n",
    "str=min(words)\n",
    "print(str)"
   ]
  },
  {
   "cell_type": "code",
   "execution_count": 73,
   "id": "410ef3f6-76d7-4cad-9ec5-eefc9f68e085",
   "metadata": {},
   "outputs": [
    {
     "name": "stdout",
     "output_type": "stream",
     "text": [
      "cherry\n"
     ]
    }
   ],
   "source": [
    "#max\n",
    "words=[\"apple\",\"banana\",\"cherry\"]\n",
    "str=max(words)\n",
    "print(str)"
   ]
  },
  {
   "cell_type": "code",
   "execution_count": 77,
   "id": "bbbc3feb-dced-4169-8d7d-8799f9a72c44",
   "metadata": {},
   "outputs": [
    {
     "name": "stdout",
     "output_type": "stream",
     "text": [
      "12\n"
     ]
    }
   ],
   "source": [
    "#len\n",
    "words=\"Hello world!\"\n",
    "str=len(words)\n",
    "print(str)"
   ]
  },
  {
   "cell_type": "code",
   "execution_count": 78,
   "id": "05db5d87-272d-41b8-b076-5940a2cd84be",
   "metadata": {},
   "outputs": [
    {
     "name": "stdout",
     "output_type": "stream",
     "text": [
      "['a', 'a', 'a', 'b', 'n', 'n']\n"
     ]
    }
   ],
   "source": [
    "#sorted\n",
    "words=\"banana\"\n",
    "str=sorted(words)\n",
    "print(str)"
   ]
  },
  {
   "cell_type": "code",
   "execution_count": 80,
   "id": "351315ea-66f6-4b4f-a052-01e5d60dc77f",
   "metadata": {},
   "outputs": [
    {
     "name": "stdout",
     "output_type": "stream",
     "text": [
      "!dlroW olleH\n"
     ]
    }
   ],
   "source": [
    "#reversed\n",
    "words=\"Hello World!\"\n",
    "str=''.join(reversed(words))\n",
    "print(str)"
   ]
  },
  {
   "cell_type": "code",
   "execution_count": 81,
   "id": "f9134863-93ac-4e21-959a-201870d2c0ca",
   "metadata": {},
   "outputs": [
    {
     "name": "stdout",
     "output_type": "stream",
     "text": [
      "False\n"
     ]
    }
   ],
   "source": [
    "#all\n",
    "words=\"123456\"\n",
    "str=all(char.isdigit() for char in text)\n",
    "print(str)"
   ]
  },
  {
   "cell_type": "code",
   "execution_count": 83,
   "id": "c6519036-a556-4007-8deb-004b08758e10",
   "metadata": {},
   "outputs": [
    {
     "name": "stdout",
     "output_type": "stream",
     "text": [
      "10\n"
     ]
    }
   ],
   "source": [
    "#sum\n",
    "num=[1,2,3,4]\n",
    "str=sum(num)\n",
    "print(str)"
   ]
  },
  {
   "cell_type": "code",
   "execution_count": 88,
   "id": "25f707a3-2f9b-4bcb-9d02-7981b7c09a9c",
   "metadata": {},
   "outputs": [
    {
     "name": "stdout",
     "output_type": "stream",
     "text": [
      "hello John! Welcome to the Python world.\n"
     ]
    }
   ],
   "source": [
    "str=\"John\"\n",
    "result=print(f\"hello { str}! Welcome to the Python world.\")"
   ]
  },
  {
   "cell_type": "code",
   "execution_count": 91,
   "id": "9f8565f4-fe6c-44ec-9193-0ee532f0c1aa",
   "metadata": {},
   "outputs": [
    {
     "name": "stdout",
     "output_type": "stream",
     "text": [
      "John Doe\n"
     ]
    }
   ],
   "source": [
    "first_name=\"John\"\n",
    "last_name=\"Doe\"\n",
    "full_name=first_name+\" \"+last_name\n",
    "print(full_name)"
   ]
  },
  {
   "cell_type": "code",
   "execution_count": null,
   "id": "71b7f4b5-b1bf-4016-b434-7818c45cfeb7",
   "metadata": {},
   "outputs": [],
   "source": []
  }
 ],
 "metadata": {
  "kernelspec": {
   "display_name": "Python 3 (ipykernel)",
   "language": "python",
   "name": "python3"
  },
  "language_info": {
   "codemirror_mode": {
    "name": "ipython",
    "version": 3
   },
   "file_extension": ".py",
   "mimetype": "text/x-python",
   "name": "python",
   "nbconvert_exporter": "python",
   "pygments_lexer": "ipython3",
   "version": "3.12.7"
  }
 },
 "nbformat": 4,
 "nbformat_minor": 5
}
