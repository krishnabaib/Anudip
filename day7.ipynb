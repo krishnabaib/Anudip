{
 "cells": [
  {
   "cell_type": "code",
   "execution_count": 1,
   "id": "e5db2262-5762-431e-9007-cf22605a2228",
   "metadata": {},
   "outputs": [
    {
     "name": "stdout",
     "output_type": "stream",
     "text": [
      "[4, 5, 8, 12]\n"
     ]
    }
   ],
   "source": [
    "mutable_list=[4,5,8,12]\n",
    "print(mutable_list)"
   ]
  },
  {
   "cell_type": "code",
   "execution_count": 2,
   "id": "7963ca6a-239f-4164-87c8-541829d111e7",
   "metadata": {},
   "outputs": [
    {
     "data": {
      "text/plain": [
       "12"
      ]
     },
     "execution_count": 2,
     "metadata": {},
     "output_type": "execute_result"
    }
   ],
   "source": [
    "mutable_list[3]"
   ]
  },
  {
   "cell_type": "code",
   "execution_count": 3,
   "id": "3b64686a-8c85-4dbe-8dca-52fbaea54cb3",
   "metadata": {},
   "outputs": [
    {
     "name": "stdout",
     "output_type": "stream",
     "text": [
      "[4, 5, 8, 16]\n"
     ]
    }
   ],
   "source": [
    "mutable_list[3]=16\n",
    "print(mutable_list)"
   ]
  },
  {
   "cell_type": "code",
   "execution_count": 4,
   "id": "f7e09389-ad7b-41e4-bec0-f86127d73ed6",
   "metadata": {},
   "outputs": [
    {
     "name": "stdout",
     "output_type": "stream",
     "text": [
      "[42, 'heelo', 3, 7, 58]\n"
     ]
    }
   ],
   "source": [
    "hetrogeneous_list=[42,'heelo',3,7,58]\n",
    "print(hetrogeneous_list)"
   ]
  },
  {
   "cell_type": "code",
   "execution_count": 5,
   "id": "f0bee2d1-2cc3-4d2e-8318-dd594f4dc7c3",
   "metadata": {},
   "outputs": [
    {
     "data": {
      "text/plain": [
       "3"
      ]
     },
     "execution_count": 5,
     "metadata": {},
     "output_type": "execute_result"
    }
   ],
   "source": [
    "hetrogeneous_list[2]"
   ]
  },
  {
   "cell_type": "code",
   "execution_count": 7,
   "id": "edbea04d-3ba3-4ae9-b454-aaed9a9e3c83",
   "metadata": {},
   "outputs": [
    {
     "name": "stdout",
     "output_type": "stream",
     "text": [
      "[42, 'heelo', 5, 7, 58]\n"
     ]
    }
   ],
   "source": [
    "hetrogeneous_list[2]=5\n",
    "print(hetrogeneous_list)"
   ]
  },
  {
   "cell_type": "code",
   "execution_count": 8,
   "id": "e5475019-cb6b-4020-8161-82c7e9f1afc8",
   "metadata": {},
   "outputs": [
    {
     "name": "stdout",
     "output_type": "stream",
     "text": [
      "[1, 'hello', 8.0, True]\n"
     ]
    }
   ],
   "source": [
    "my_list=[1,'hello',8.0,True]\n",
    "print(my_list)\n"
   ]
  },
  {
   "cell_type": "code",
   "execution_count": 10,
   "id": "a3a41f6d-4621-4d1c-92b2-3c1db2b63e12",
   "metadata": {},
   "outputs": [
    {
     "name": "stdout",
     "output_type": "stream",
     "text": [
      "array('i', [1, 2, 3, 4])\n"
     ]
    }
   ],
   "source": [
    "import array\n",
    "my_array=array.array('i',[1,2,3,4])\n",
    "print(my_array)"
   ]
  },
  {
   "cell_type": "code",
   "execution_count": 11,
   "id": "3060fab2-5735-407b-ad7a-844b2d494a54",
   "metadata": {},
   "outputs": [
    {
     "name": "stdout",
     "output_type": "stream",
     "text": [
      "banana\n",
      "apple\n"
     ]
    }
   ],
   "source": [
    "fruits=['apple','banana','cherry','mango','grapes','goa']\n",
    "print(fruits[1])\n",
    "print(fruits[0])"
   ]
  },
  {
   "cell_type": "code",
   "execution_count": 12,
   "id": "c307fd2e-7e09-4587-9997-8d5f8b8c6752",
   "metadata": {},
   "outputs": [
    {
     "name": "stdout",
     "output_type": "stream",
     "text": [
      "goa\n",
      "cherry\n"
     ]
    }
   ],
   "source": [
    "print(fruits[-1])\n",
    "print(fruits[-4])"
   ]
  },
  {
   "cell_type": "code",
   "execution_count": 13,
   "id": "8b8c5527-90f0-425c-9f52-104f5071f603",
   "metadata": {},
   "outputs": [
    {
     "data": {
      "text/plain": [
       "[10, 20, 25, 65, 24, 45, 16, 44, 51]"
      ]
     },
     "execution_count": 13,
     "metadata": {},
     "output_type": "execute_result"
    }
   ],
   "source": [
    "numbers=[10,20,25,65,24,45,16,44,51]\n",
    "numbers"
   ]
  },
  {
   "cell_type": "code",
   "execution_count": 14,
   "id": "bc7ad63a-01c7-41d8-82b7-4b981dfea95d",
   "metadata": {},
   "outputs": [
    {
     "data": {
      "text/plain": [
       "[25, 65, 24, 45]"
      ]
     },
     "execution_count": 14,
     "metadata": {},
     "output_type": "execute_result"
    }
   ],
   "source": [
    "numbers[2:6]"
   ]
  },
  {
   "cell_type": "code",
   "execution_count": 15,
   "id": "4700fc77-01ba-4075-8814-f2a3300b54f7",
   "metadata": {},
   "outputs": [
    {
     "data": {
      "text/plain": [
       "[24, 45, 16]"
      ]
     },
     "execution_count": 15,
     "metadata": {},
     "output_type": "execute_result"
    }
   ],
   "source": [
    "numbers[-5:-2]"
   ]
  },
  {
   "cell_type": "code",
   "execution_count": 16,
   "id": "4d55a3fc-cda9-4f5c-8f82-106d00803623",
   "metadata": {},
   "outputs": [
    {
     "data": {
      "text/plain": [
       "[65, 24, 45]"
      ]
     },
     "execution_count": 16,
     "metadata": {},
     "output_type": "execute_result"
    }
   ],
   "source": [
    "numbers[-6:-3]"
   ]
  },
  {
   "cell_type": "code",
   "execution_count": 17,
   "id": "a1ffad54-2533-4a6c-b771-3ce0f148a0ab",
   "metadata": {},
   "outputs": [
    {
     "data": {
      "text/plain": [
       "[20, 65, 45, 44]"
      ]
     },
     "execution_count": 17,
     "metadata": {},
     "output_type": "execute_result"
    }
   ],
   "source": [
    "numbers[1:9:2]"
   ]
  },
  {
   "cell_type": "code",
   "execution_count": 18,
   "id": "c5e4fef6-c0df-4617-9c2e-d04cdc1ec89b",
   "metadata": {},
   "outputs": [
    {
     "data": {
      "text/plain": [
       "[10, 20, 25, 65, 24, 45, 16, 44, 51]"
      ]
     },
     "execution_count": 18,
     "metadata": {},
     "output_type": "execute_result"
    }
   ],
   "source": [
    "numbers[:]"
   ]
  },
  {
   "cell_type": "code",
   "execution_count": 19,
   "id": "bdc9d1bb-59b2-4e1b-91a5-5f08d5fc15f8",
   "metadata": {},
   "outputs": [
    {
     "data": {
      "text/plain": [
       "[10, 20, 1, 2, 34, 9]"
      ]
     },
     "execution_count": 19,
     "metadata": {},
     "output_type": "execute_result"
    }
   ],
   "source": [
    "numbers[2:6]=[]\n",
    "numbers[2:6]=[1,2,34,9]\n",
    "numbers"
   ]
  },
  {
   "cell_type": "code",
   "execution_count": 21,
   "id": "b8ef18a1-9829-4664-bbfc-e3b99ef96aca",
   "metadata": {},
   "outputs": [
    {
     "data": {
      "text/plain": [
       "[10, 1]"
      ]
     },
     "execution_count": 21,
     "metadata": {},
     "output_type": "execute_result"
    }
   ],
   "source": [
    "numbers[1:5]=[1]\n",
    "numbers"
   ]
  },
  {
   "cell_type": "code",
   "execution_count": null,
   "id": "dc7c84da-4860-492e-b0ff-b4246835b938",
   "metadata": {},
   "outputs": [],
   "source": []
  }
 ],
 "metadata": {
  "kernelspec": {
   "display_name": "Python 3 (ipykernel)",
   "language": "python",
   "name": "python3"
  },
  "language_info": {
   "codemirror_mode": {
    "name": "ipython",
    "version": 3
   },
   "file_extension": ".py",
   "mimetype": "text/x-python",
   "name": "python",
   "nbconvert_exporter": "python",
   "pygments_lexer": "ipython3",
   "version": "3.12.7"
  }
 },
 "nbformat": 4,
 "nbformat_minor": 5
}
