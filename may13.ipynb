{
 "cells": [
  {
   "cell_type": "code",
   "execution_count": 2,
   "id": "65e08b59-6aee-493c-bdce-2e682100bc8c",
   "metadata": {},
   "outputs": [
    {
     "data": {
      "text/plain": [
       "{1, 2, 3, 4}"
      ]
     },
     "execution_count": 2,
     "metadata": {},
     "output_type": "execute_result"
    }
   ],
   "source": [
    "set={1,2,3,4}\n",
    "set"
   ]
  },
  {
   "cell_type": "code",
   "execution_count": 4,
   "id": "6c5d8793-ed4a-4a75-a950-8a05b106bc2a",
   "metadata": {},
   "outputs": [
    {
     "data": {
      "text/plain": [
       "2"
      ]
     },
     "execution_count": 4,
     "metadata": {},
     "output_type": "execute_result"
    }
   ],
   "source": [
    "a=set.pop()\n",
    "a"
   ]
  },
  {
   "cell_type": "code",
   "execution_count": 7,
   "id": "14b9bcec-08db-44f4-85d5-49979e4990ce",
   "metadata": {},
   "outputs": [
    {
     "data": {
      "text/plain": [
       "{3, 4, 5, 7, 23, 54}"
      ]
     },
     "execution_count": 7,
     "metadata": {},
     "output_type": "execute_result"
    }
   ],
   "source": [
    "#set methods\n",
    "#add\n",
    "set.add(7)\n",
    "set"
   ]
  },
  {
   "cell_type": "code",
   "execution_count": 6,
   "id": "ed943ea7-6d99-465a-9f5d-2474c7afe613",
   "metadata": {},
   "outputs": [
    {
     "data": {
      "text/plain": [
       "{1, 2, 3, 4, 5, 20, 30, 40}"
      ]
     },
     "execution_count": 6,
     "metadata": {},
     "output_type": "execute_result"
    }
   ],
   "source": [
    "#update\n",
    "my_set={1,2,3}\n",
    "my_set.update([20,30,40])\n",
    "my_set.update([4,5])\n",
    "my_set"
   ]
  },
  {
   "cell_type": "code",
   "execution_count": 8,
   "id": "8ce02cc3-6f60-4dad-87ac-1799ea2251e1",
   "metadata": {},
   "outputs": [
    {
     "data": {
      "text/plain": [
       "{2, 3}"
      ]
     },
     "execution_count": 8,
     "metadata": {},
     "output_type": "execute_result"
    }
   ],
   "source": [
    "#remove\n",
    "my_set={1,2,3}\n",
    "my_set.remove(1)\n",
    "my_set"
   ]
  },
  {
   "cell_type": "code",
   "execution_count": 10,
   "id": "84fb7182-9dff-4810-9d03-41376da760b6",
   "metadata": {},
   "outputs": [
    {
     "data": {
      "text/plain": [
       "{1, 3}"
      ]
     },
     "execution_count": 10,
     "metadata": {},
     "output_type": "execute_result"
    }
   ],
   "source": [
    "#discard\n",
    "my_set={1,2,3}\n",
    "my_set.discard(2)\n",
    "my_set"
   ]
  },
  {
   "cell_type": "code",
   "execution_count": 11,
   "id": "86abf65f-c844-4c06-8bd5-f2f2de3dd3c4",
   "metadata": {},
   "outputs": [
    {
     "data": {
      "text/plain": [
       "{1, 2, 3}"
      ]
     },
     "execution_count": 11,
     "metadata": {},
     "output_type": "execute_result"
    }
   ],
   "source": [
    "#discard=no error\n",
    "my_set={1,2,3}\n",
    "my_set.discard(20)\n",
    "my_set\n"
   ]
  },
  {
   "cell_type": "code",
   "execution_count": 14,
   "id": "8d640000-09d0-4499-9935-bfda3c4732ec",
   "metadata": {},
   "outputs": [
    {
     "data": {
      "text/plain": [
       "1"
      ]
     },
     "execution_count": 14,
     "metadata": {},
     "output_type": "execute_result"
    }
   ],
   "source": [
    "#pop()\n",
    "my_set={1,2,3}\n",
    "a=my_set.pop()\n",
    "a"
   ]
  },
  {
   "cell_type": "code",
   "execution_count": 17,
   "id": "c3b2e60b-abd3-4317-a1fd-9bc8b0fd6964",
   "metadata": {},
   "outputs": [
    {
     "ename": "TypeError",
     "evalue": "set.clear() takes no arguments (1 given)",
     "output_type": "error",
     "traceback": [
      "\u001b[1;31m---------------------------------------------------------------------------\u001b[0m",
      "\u001b[1;31mTypeError\u001b[0m                                 Traceback (most recent call last)",
      "Cell \u001b[1;32mIn[17], line 3\u001b[0m\n\u001b[0;32m      1\u001b[0m \u001b[38;5;66;03m#clear\u001b[39;00m\n\u001b[0;32m      2\u001b[0m my_set\u001b[38;5;241m=\u001b[39m{\u001b[38;5;241m1\u001b[39m,\u001b[38;5;241m2\u001b[39m,\u001b[38;5;241m3\u001b[39m}\n\u001b[1;32m----> 3\u001b[0m my_set\u001b[38;5;241m.\u001b[39mclear(\u001b[38;5;241m4\u001b[39m)\n\u001b[0;32m      4\u001b[0m \u001b[38;5;28mprint\u001b[39m(my_set)\n",
      "\u001b[1;31mTypeError\u001b[0m: set.clear() takes no arguments (1 given)"
     ]
    }
   ],
   "source": [
    "#clear\n",
    "my_set={1,2,3}\n",
    "my_set.clear(4)\n",
    "print(my_set)"
   ]
  },
  {
   "cell_type": "code",
   "execution_count": 18,
   "id": "85d80f2b-8511-470c-a5e1-b31fa773f2ad",
   "metadata": {},
   "outputs": [
    {
     "data": {
      "text/plain": [
       "{1, 2, 3, 4, 5, 6}"
      ]
     },
     "execution_count": 18,
     "metadata": {},
     "output_type": "execute_result"
    }
   ],
   "source": [
    "#union\n",
    "set1={1,2,3}\n",
    "set2={4,5,6}\n",
    "set1.union(set2)"
   ]
  },
  {
   "cell_type": "code",
   "execution_count": 23,
   "id": "4164f5d0-57fa-4086-b4f5-5ba0c545e212",
   "metadata": {},
   "outputs": [
    {
     "data": {
      "text/plain": [
       "{2, 3}"
      ]
     },
     "execution_count": 23,
     "metadata": {},
     "output_type": "execute_result"
    }
   ],
   "source": [
    "#intersection\n",
    "set1={1,2,3}\n",
    "set2={4,3,2}\n",
    "set1.intersection(set2)"
   ]
  },
  {
   "cell_type": "code",
   "execution_count": 27,
   "id": "ddc8ed50-062d-47bd-887e-e90943e38aae",
   "metadata": {},
   "outputs": [
    {
     "data": {
      "text/plain": [
       "{1, 2, 3}"
      ]
     },
     "execution_count": 27,
     "metadata": {},
     "output_type": "execute_result"
    }
   ],
   "source": [
    "#difference\n",
    "set1={1,2,3,4,5,6}\n",
    "set2={4,5,6,7}\n",
    "set1.difference(set2)"
   ]
  },
  {
   "cell_type": "code",
   "execution_count": 29,
   "id": "37375cc0-b2dc-44b8-af47-d3e6c8813be8",
   "metadata": {},
   "outputs": [
    {
     "name": "stdout",
     "output_type": "stream",
     "text": [
      "{3, 6}\n"
     ]
    }
   ],
   "source": [
    "#symmetric_differnce\n",
    "set1={1,2,3}\n",
    "set2={1,2,6}\n",
    "result=set1.symmetric_difference(set2)\n",
    "print(result)"
   ]
  },
  {
   "cell_type": "code",
   "execution_count": 31,
   "id": "c0b78714-7d40-4f97-bb34-88e7f2fb9000",
   "metadata": {},
   "outputs": [
    {
     "data": {
      "text/plain": [
       "True"
      ]
     },
     "execution_count": 31,
     "metadata": {},
     "output_type": "execute_result"
    }
   ],
   "source": [
    "#issubet()\n",
    "set1={1,2,3}\n",
    "set2={1,2,3}\n",
    "set1.issubset(set2)"
   ]
  },
  {
   "cell_type": "code",
   "execution_count": 32,
   "id": "2bd77b61-a8e7-4c92-aebe-c4bb65a3d34a",
   "metadata": {},
   "outputs": [
    {
     "data": {
      "text/plain": [
       "False"
      ]
     },
     "execution_count": 32,
     "metadata": {},
     "output_type": "execute_result"
    }
   ],
   "source": [
    "set1={1,2,3}\n",
    "set2={1,2,6}\n",
    "set1.issubset(set2)"
   ]
  },
  {
   "cell_type": "code",
   "execution_count": 33,
   "id": "254ebfb8-e292-4ef7-9406-90cc1994d829",
   "metadata": {},
   "outputs": [
    {
     "data": {
      "text/plain": [
       "True"
      ]
     },
     "execution_count": 33,
     "metadata": {},
     "output_type": "execute_result"
    }
   ],
   "source": [
    "#issuperset()\n",
    "set1={1,2,3}\n",
    "set2={1,2}\n",
    "set1.issuperset(set2)"
   ]
  },
  {
   "cell_type": "code",
   "execution_count": 34,
   "id": "56abefc8-08f5-4136-a2fc-3c272a14d431",
   "metadata": {},
   "outputs": [
    {
     "data": {
      "text/plain": [
       "True"
      ]
     },
     "execution_count": 34,
     "metadata": {},
     "output_type": "execute_result"
    }
   ],
   "source": [
    "#isdisjoint()\n",
    "set1={1,2,3}\n",
    "set2={4,5,6}\n",
    "set1.isdisjoint(set2)"
   ]
  },
  {
   "cell_type": "code",
   "execution_count": 35,
   "id": "f0af1631-0658-41f9-8a5f-80ee04f9b602",
   "metadata": {},
   "outputs": [
    {
     "name": "stdout",
     "output_type": "stream",
     "text": [
      "{1, 2, 3}\n"
     ]
    }
   ],
   "source": [
    "#copy\n",
    "set1={1,2,3}\n",
    "set_copy=set1.copy()\n",
    "print(set_copy)"
   ]
  },
  {
   "cell_type": "code",
   "execution_count": 36,
   "id": "f4fa4a73-1584-4b6d-999a-6d129e1d04cf",
   "metadata": {},
   "outputs": [
    {
     "data": {
      "text/plain": [
       "{1, 2, 3}"
      ]
     },
     "execution_count": 36,
     "metadata": {},
     "output_type": "execute_result"
    }
   ],
   "source": [
    "#frzenset make mutable to immutable\n",
    "my_set\n"
   ]
  },
  {
   "cell_type": "code",
   "execution_count": 37,
   "id": "6802d256-a6de-4ddf-8ecc-eebf767c3750",
   "metadata": {},
   "outputs": [
    {
     "ename": "AttributeError",
     "evalue": "'frozenset' object has no attribute 'add'",
     "output_type": "error",
     "traceback": [
      "\u001b[1;31m---------------------------------------------------------------------------\u001b[0m",
      "\u001b[1;31mAttributeError\u001b[0m                            Traceback (most recent call last)",
      "Cell \u001b[1;32mIn[37], line 3\u001b[0m\n\u001b[0;32m      1\u001b[0m a\u001b[38;5;241m=\u001b[39m\u001b[38;5;28mfrozenset\u001b[39m(my_set)\n\u001b[0;32m      2\u001b[0m \u001b[38;5;28mfrozenset\u001b[39m({\u001b[38;5;241m2\u001b[39m,\u001b[38;5;241m3\u001b[39m,\u001b[38;5;241m10\u001b[39m})\n\u001b[1;32m----> 3\u001b[0m a\u001b[38;5;241m.\u001b[39madd(\u001b[38;5;241m100\u001b[39m)\n",
      "\u001b[1;31mAttributeError\u001b[0m: 'frozenset' object has no attribute 'add'"
     ]
    }
   ],
   "source": [
    "a=frozenset(my_set)\n",
    "frozenset({2,3,10})\n",
    "a.add(100)"
   ]
  },
  {
   "cell_type": "code",
   "execution_count": 38,
   "id": "b71511eb-70b2-4021-82cc-ab935e7f919d",
   "metadata": {},
   "outputs": [
    {
     "data": {
      "text/plain": [
       "3"
      ]
     },
     "execution_count": 38,
     "metadata": {},
     "output_type": "execute_result"
    }
   ],
   "source": [
    "#python functions\n",
    "#len\n",
    "set={1,2,3}\n",
    "len(my_set)\n"
   ]
  },
  {
   "cell_type": "code",
   "execution_count": 39,
   "id": "5ff805d2-21fc-490b-9ebe-a11ec6cd6909",
   "metadata": {},
   "outputs": [
    {
     "data": {
      "text/plain": [
       "4"
      ]
     },
     "execution_count": 39,
     "metadata": {},
     "output_type": "execute_result"
    }
   ],
   "source": [
    "my_set.add(0)\n",
    "len(my_set)"
   ]
  },
  {
   "cell_type": "code",
   "execution_count": 40,
   "id": "4a22ac6a-ac84-4910-ab5c-6962d7f69408",
   "metadata": {},
   "outputs": [
    {
     "data": {
      "text/plain": [
       "3"
      ]
     },
     "execution_count": 40,
     "metadata": {},
     "output_type": "execute_result"
    }
   ],
   "source": [
    "#max\n",
    "set={1,2,3}\n",
    "max(my_set)"
   ]
  },
  {
   "cell_type": "code",
   "execution_count": 42,
   "id": "ff90ccf7-211a-456f-bdcd-41c57d5f3332",
   "metadata": {},
   "outputs": [
    {
     "data": {
      "text/plain": [
       "0"
      ]
     },
     "execution_count": 42,
     "metadata": {},
     "output_type": "execute_result"
    }
   ],
   "source": [
    "#min\n",
    "set={1,2,3}\n",
    "min(set)"
   ]
  },
  {
   "cell_type": "code",
   "execution_count": 43,
   "id": "7b7587ce-1a61-4443-8903-c7c86aced44b",
   "metadata": {},
   "outputs": [
    {
     "data": {
      "text/plain": [
       "6"
      ]
     },
     "execution_count": 43,
     "metadata": {},
     "output_type": "execute_result"
    }
   ],
   "source": [
    "#sum\n",
    "set={1,2,3}\n",
    "sum(set)"
   ]
  },
  {
   "cell_type": "code",
   "execution_count": 45,
   "id": "e781d61c-9782-430d-bff1-3fd8a7e57518",
   "metadata": {},
   "outputs": [
    {
     "data": {
      "text/plain": [
       "[25, 73, 91]"
      ]
     },
     "execution_count": 45,
     "metadata": {},
     "output_type": "execute_result"
    }
   ],
   "source": [
    "#sorted\n",
    "set={91,25,73}\n",
    "sorted(set)"
   ]
  },
  {
   "cell_type": "code",
   "execution_count": 46,
   "id": "a4c811c0-580a-4ba2-b49c-2c2630a7aa6a",
   "metadata": {},
   "outputs": [
    {
     "data": {
      "text/plain": [
       "True"
      ]
     },
     "execution_count": 46,
     "metadata": {},
     "output_type": "execute_result"
    }
   ],
   "source": [
    "#any\n",
    "set={1,0,0}\n",
    "any(set)"
   ]
  },
  {
   "cell_type": "code",
   "execution_count": 47,
   "id": "73e5d946-9008-4956-86f3-9fe64dd33507",
   "metadata": {},
   "outputs": [
    {
     "data": {
      "text/plain": [
       "False"
      ]
     },
     "execution_count": 47,
     "metadata": {},
     "output_type": "execute_result"
    }
   ],
   "source": [
    "#all\n",
    "set={1,0,0}\n",
    "all(set)"
   ]
  },
  {
   "cell_type": "code",
   "execution_count": 1,
   "id": "8096eaad-f829-4fdb-8e3a-c8a498d96d79",
   "metadata": {},
   "outputs": [
    {
     "name": "stdout",
     "output_type": "stream",
     "text": [
      "{1, 2, 3, 4, 5}\n"
     ]
    }
   ],
   "source": [
    "#set()\n",
    "my_list=[1,2,3,4,4,5,5]\n",
    "my_set=set(my_list)\n",
    "print(my_set)"
   ]
  },
  {
   "cell_type": "code",
   "execution_count": 2,
   "id": "601ef0a0-e1a0-4669-ad89-3b807866d567",
   "metadata": {},
   "outputs": [
    {
     "data": {
      "text/plain": [
       "{1, 2, 3, 4}"
      ]
     },
     "execution_count": 2,
     "metadata": {},
     "output_type": "execute_result"
    }
   ],
   "source": [
    "#creating a set\n",
    "my_set={1,2,3,4}\n",
    "my_set"
   ]
  },
  {
   "cell_type": "code",
   "execution_count": 4,
   "id": "b52cf10f-87e4-4338-8e74-b60706eca645",
   "metadata": {},
   "outputs": [
    {
     "name": "stdout",
     "output_type": "stream",
     "text": [
      "{1, 4, 9, 16, 25}\n"
     ]
    }
   ],
   "source": [
    "#create a set of squares from a list comprehension\n",
    "num=[1,2,3,4,5]\n",
    "squares_set={x**2 for x in num}\n",
    "print(squares_set)"
   ]
  },
  {
   "cell_type": "code",
   "execution_count": 5,
   "id": "2420e549-ff4c-436f-9feb-4f06d2b820dd",
   "metadata": {},
   "outputs": [
    {
     "name": "stdout",
     "output_type": "stream",
     "text": [
      "{16, 4}\n"
     ]
    }
   ],
   "source": [
    "#create a set of even squares from a list comprehension\n",
    "num=[1,2,3,4,5]\n",
    "even_squares_set={x**2 for x in num if x%2==0}\n",
    "print(even_squares_set)"
   ]
  },
  {
   "cell_type": "code",
   "execution_count": null,
   "id": "055cb4ff-e1dc-4636-b8f8-3a7b9a5ea265",
   "metadata": {},
   "outputs": [],
   "source": []
  }
 ],
 "metadata": {
  "kernelspec": {
   "display_name": "Python 3 (ipykernel)",
   "language": "python",
   "name": "python3"
  },
  "language_info": {
   "codemirror_mode": {
    "name": "ipython",
    "version": 3
   },
   "file_extension": ".py",
   "mimetype": "text/x-python",
   "name": "python",
   "nbconvert_exporter": "python",
   "pygments_lexer": "ipython3",
   "version": "3.12.7"
  }
 },
 "nbformat": 4,
 "nbformat_minor": 5
}
