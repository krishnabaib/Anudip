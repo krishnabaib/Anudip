{
 "cells": [
  {
   "cell_type": "code",
   "execution_count": 1,
   "id": "6248afb1-dffe-4c5f-b6db-2e58e9ce80f2",
   "metadata": {},
   "outputs": [
    {
     "data": {
      "text/plain": [
       "('hello', 1)"
      ]
     },
     "execution_count": 1,
     "metadata": {},
     "output_type": "execute_result"
    }
   ],
   "source": [
    "#ordered tuple =elements in a tuple have a defined order that order will not change\n",
    "t=(\"hello\",1,20,45,502.25,(1,2))\n",
    "t[0:2]\n"
   ]
  },
  {
   "cell_type": "code",
   "execution_count": 2,
   "id": "bee821ad-f806-4471-9eb2-ec3f9ae6f312",
   "metadata": {},
   "outputs": [
    {
     "data": {
      "text/plain": [
       "1"
      ]
     },
     "execution_count": 2,
     "metadata": {},
     "output_type": "execute_result"
    }
   ],
   "source": [
    "t=(1,2,3)\n",
    "t[0]"
   ]
  },
  {
   "cell_type": "code",
   "execution_count": 7,
   "id": "2a6c6455-d639-44d1-85f0-d41d9e001564",
   "metadata": {},
   "outputs": [],
   "source": [
    "#immutable=YOU CANT ADD OR CHANGE \n"
   ]
  },
  {
   "cell_type": "code",
   "execution_count": 11,
   "id": "4a531e0d-5220-4ef0-9062-63212eeab9e8",
   "metadata": {},
   "outputs": [
    {
     "name": "stdout",
     "output_type": "stream",
     "text": [
      "30\n",
      "(20, 30, 40)\n"
     ]
    }
   ],
   "source": [
    "#INDEXING AND SLICING\n",
    "tuple=(10,20,30,40,50)\n",
    "print(tuple[2])\n",
    "print(tuple[1:4])"
   ]
  },
  {
   "cell_type": "code",
   "execution_count": 8,
   "id": "d0acd57e-197d-4737-8bed-c5d9ae467a7c",
   "metadata": {},
   "outputs": [
    {
     "data": {
      "text/plain": [
       "30"
      ]
     },
     "execution_count": 8,
     "metadata": {},
     "output_type": "execute_result"
    }
   ],
   "source": [
    "tuple[2]"
   ]
  },
  {
   "cell_type": "code",
   "execution_count": 12,
   "id": "d4133565-35a4-49c4-b25e-597687f52b39",
   "metadata": {},
   "outputs": [
    {
     "data": {
      "text/plain": [
       "tuple"
      ]
     },
     "execution_count": 12,
     "metadata": {},
     "output_type": "execute_result"
    }
   ],
   "source": [
    "#packing and unpacking\n",
    "tuple=1,2,3\n",
    "type(tuple)"
   ]
  },
  {
   "cell_type": "code",
   "execution_count": 14,
   "id": "a82f1969-a53e-4ebd-9556-4366d720f1d4",
   "metadata": {},
   "outputs": [
    {
     "name": "stdout",
     "output_type": "stream",
     "text": [
      "('John', 25, 'Engineer')\n"
     ]
    }
   ],
   "source": [
    "person=(\"John\",25,\"Engineer\")\n",
    "print(person)\n"
   ]
  },
  {
   "cell_type": "code",
   "execution_count": 15,
   "id": "a6691b61-a9b8-4544-b987-6c17b42b61d4",
   "metadata": {},
   "outputs": [
    {
     "name": "stdout",
     "output_type": "stream",
     "text": [
      "10 20 30\n"
     ]
    }
   ],
   "source": [
    "coordinates=(10,20,30)\n",
    "x=coordinates[0]\n",
    "y=coordinates[1]\n",
    "z=coordinates[2]\n",
    "print(x,y,z)"
   ]
  },
  {
   "cell_type": "code",
   "execution_count": 17,
   "id": "d54a4786-9bc9-4028-8a33-2775a1e6c99e",
   "metadata": {},
   "outputs": [
    {
     "data": {
      "text/plain": [
       "7"
      ]
     },
     "execution_count": 17,
     "metadata": {},
     "output_type": "execute_result"
    }
   ],
   "source": [
    "l=[[1,2,3,4],[5,6,7,8]]\n",
    "l[0][0]\n"
   ]
  },
  {
   "cell_type": "code",
   "execution_count": 19,
   "id": "156cffb9-fe8d-40b1-bb44-6cd17ec9ba6e",
   "metadata": {},
   "outputs": [
    {
     "data": {
      "text/plain": [
       "7"
      ]
     },
     "execution_count": 19,
     "metadata": {},
     "output_type": "execute_result"
    }
   ],
   "source": [
    "l[1][2]"
   ]
  },
  {
   "cell_type": "code",
   "execution_count": 20,
   "id": "304b8397-f109-428f-a015-163e7b489b8b",
   "metadata": {},
   "outputs": [
    {
     "data": {
      "text/plain": [
       "2"
      ]
     },
     "execution_count": 20,
     "metadata": {},
     "output_type": "execute_result"
    }
   ],
   "source": [
    "#nested tuples\n",
    "nested_tuple=(1,(2,3),(4,(5,6)))\n",
    "nested_tuple[1][0]"
   ]
  },
  {
   "cell_type": "code",
   "execution_count": 21,
   "id": "15db7dc4-11f0-4a31-8c6b-643e5629f5ef",
   "metadata": {},
   "outputs": [
    {
     "data": {
      "text/plain": [
       "3"
      ]
     },
     "execution_count": 21,
     "metadata": {},
     "output_type": "execute_result"
    }
   ],
   "source": [
    "l=[[1,2,3,4],[5,6,7,8,[1,2,3,4]]]\n",
    "l[1][4][2]"
   ]
  },
  {
   "cell_type": "code",
   "execution_count": 24,
   "id": "796c8435-9730-482f-a1d6-d6184a767317",
   "metadata": {},
   "outputs": [
    {
     "name": "stdout",
     "output_type": "stream",
     "text": [
      "('banana', 'cherry')\n",
      "('apple', 'banana', 'cherry')\n"
     ]
    }
   ],
   "source": [
    "my_tuple=(\"apple\",\"banana\",\"cherry\")\n",
    "slice_1=my_tuple[1:3]\n",
    "slice_2=my_tuple[:4]\n",
    "print(slice_1)\n",
    "print(slice_2)"
   ]
  },
  {
   "cell_type": "code",
   "execution_count": 25,
   "id": "863c0b96-af80-4db0-a68b-28117890882b",
   "metadata": {},
   "outputs": [
    {
     "data": {
      "text/plain": [
       "'cherry'"
      ]
     },
     "execution_count": 25,
     "metadata": {},
     "output_type": "execute_result"
    }
   ],
   "source": [
    "my_tuple=(\"apple\",\"banana\",\"cherry\",\"date\",\"elderberry\")\n",
    "my_tuple[2]"
   ]
  },
  {
   "cell_type": "code",
   "execution_count": 26,
   "id": "fc3a3cfb-0454-4a9c-b236-94de97e12023",
   "metadata": {},
   "outputs": [
    {
     "name": "stdout",
     "output_type": "stream",
     "text": [
      "(10, 20, 30)\n"
     ]
    }
   ],
   "source": [
    "num=(10,20,30,40,50)\n",
    "first=num[:3]\n",
    "print(first)"
   ]
  },
  {
   "cell_type": "code",
   "execution_count": 27,
   "id": "29776a35-8bde-451b-970b-1f3b17383627",
   "metadata": {},
   "outputs": [
    {
     "name": "stdout",
     "output_type": "stream",
     "text": [
      "yellow\n"
     ]
    }
   ],
   "source": [
    "colors=(\"red\",\"green\",\"blue\",\"yellow\")\n",
    "last=colors[-1]\n",
    "print(last)"
   ]
  },
  {
   "cell_type": "code",
   "execution_count": 30,
   "id": "89eef914-cb7b-4bc8-8530-6a0dfb3fabe4",
   "metadata": {},
   "outputs": [
    {
     "name": "stdout",
     "output_type": "stream",
     "text": [
      "5\n"
     ]
    }
   ],
   "source": [
    "nested_tuple=(1,(2,3),(4,(5,6),7),8)\n",
    "five=nested_tuple[2][1][0]\n",
    "print(five)"
   ]
  },
  {
   "cell_type": "code",
   "execution_count": 4,
   "id": "f5d17e4a-beeb-4888-80b1-8062a9243bc2",
   "metadata": {},
   "outputs": [
    {
     "data": {
      "text/plain": [
       "tuple"
      ]
     },
     "execution_count": 4,
     "metadata": {},
     "output_type": "execute_result"
    }
   ],
   "source": [
    "#workarounds of editing a tuple\n",
    "fruits=(\"apple\",\"banana\",\"cherry\")\n",
    "type(fruits)"
   ]
  },
  {
   "cell_type": "code",
   "execution_count": 5,
   "id": "a20eaf89-bd0e-4db9-a69f-04cc2d25be7e",
   "metadata": {},
   "outputs": [
    {
     "data": {
      "text/plain": [
       "list"
      ]
     },
     "execution_count": 5,
     "metadata": {},
     "output_type": "execute_result"
    }
   ],
   "source": [
    "a=list(fruits)\n",
    "type(a)"
   ]
  },
  {
   "cell_type": "code",
   "execution_count": 6,
   "id": "4558ec35-ae81-4286-9b84-405eb3a60f9a",
   "metadata": {},
   "outputs": [
    {
     "data": {
      "text/plain": [
       "['apple', 'banana', 'cherry', 'mango']"
      ]
     },
     "execution_count": 6,
     "metadata": {},
     "output_type": "execute_result"
    }
   ],
   "source": [
    "a.append(\"mango\")\n",
    "a"
   ]
  },
  {
   "cell_type": "code",
   "execution_count": 7,
   "id": "ba072f43-b146-430d-9a7b-56645ca6906c",
   "metadata": {
    "scrolled": true
   },
   "outputs": [
    {
     "data": {
      "text/plain": [
       "('apple', 'banana', 'cherry', 'mango')"
      ]
     },
     "execution_count": 7,
     "metadata": {},
     "output_type": "execute_result"
    }
   ],
   "source": [
    "b=tuple(a)\n",
    "b"
   ]
  },
  {
   "cell_type": "code",
   "execution_count": 10,
   "id": "f95dd9b7-64c4-4f81-98dc-35b2a31946e2",
   "metadata": {},
   "outputs": [
    {
     "name": "stdout",
     "output_type": "stream",
     "text": [
      "('apple',)\n"
     ]
    }
   ],
   "source": [
    "fruit=(\"apple\",\"banana\",\"cherry\")\n",
    "fruits_new=fruit[:1]\n",
    "print(fruits_new)"
   ]
  },
  {
   "cell_type": "code",
   "execution_count": 12,
   "id": "19f94b9b-9769-4928-b38e-e4ccfe4a3d44",
   "metadata": {},
   "outputs": [
    {
     "name": "stdout",
     "output_type": "stream",
     "text": [
      "('apple', 'banana', 'cherry', 'date')\n"
     ]
    }
   ],
   "source": [
    "fruits=(\"apple\",\"banana\",\"cherry\")\n",
    "fruits1=fruits+(\"date\",)\n",
    "print(fruits1)"
   ]
  },
  {
   "cell_type": "code",
   "execution_count": 16,
   "id": "81a82dd3-131e-4e38-8333-39186966a197",
   "metadata": {},
   "outputs": [],
   "source": [
    "fruits=(\"apple\",\"banana\",\"cherry\")\n",
    "del fruits\n"
   ]
  },
  {
   "cell_type": "code",
   "execution_count": 17,
   "id": "42c24b88-fa87-43bf-8355-ed016c0fe67c",
   "metadata": {},
   "outputs": [
    {
     "name": "stdout",
     "output_type": "stream",
     "text": [
      "(1, 2, 3, 2, 4, 6)\n"
     ]
    }
   ],
   "source": [
    "t=(1,2,3)\n",
    "d=(2,4,6)\n",
    "result=t+d\n",
    "print(result)"
   ]
  },
  {
   "cell_type": "code",
   "execution_count": 24,
   "id": "89f047bd-8e5d-4827-84b0-461c6b96c4e2",
   "metadata": {},
   "outputs": [
    {
     "data": {
      "text/plain": [
       "1"
      ]
     },
     "execution_count": 24,
     "metadata": {},
     "output_type": "execute_result"
    }
   ],
   "source": [
    "#tuple methods\n",
    "#count\n",
    "t=(1,2,3)\n",
    "t.count(3)"
   ]
  },
  {
   "cell_type": "code",
   "execution_count": 27,
   "id": "467841c0-1bf5-444f-ac15-980c8595541e",
   "metadata": {},
   "outputs": [
    {
     "data": {
      "text/plain": [
       "2"
      ]
     },
     "execution_count": 27,
     "metadata": {},
     "output_type": "execute_result"
    }
   ],
   "source": [
    "#index\n",
    "t=(1,2,3)\n",
    "t.index(3)"
   ]
  },
  {
   "cell_type": "code",
   "execution_count": 28,
   "id": "59e43d08-1a4b-4013-bd6c-700e46223f1c",
   "metadata": {},
   "outputs": [
    {
     "data": {
      "text/plain": [
       "2"
      ]
     },
     "execution_count": 28,
     "metadata": {},
     "output_type": "execute_result"
    }
   ],
   "source": [
    "tuple=('a','b','c','d')\n",
    "tuple.index(\"c\")"
   ]
  },
  {
   "cell_type": "code",
   "execution_count": 3,
   "id": "bf74017c-c3e0-4ef3-970b-f87beed0a211",
   "metadata": {},
   "outputs": [
    {
     "name": "stdout",
     "output_type": "stream",
     "text": [
      "(10, 20, 30)\n",
      "3\n"
     ]
    }
   ],
   "source": [
    "#len\n",
    "t=(10,20,30)\n",
    "length=len(t)\n",
    "print(t)\n",
    "print(length)"
   ]
  },
  {
   "cell_type": "code",
   "execution_count": 6,
   "id": "5e291639-6463-438d-9070-40c3f0ed216e",
   "metadata": {},
   "outputs": [
    {
     "name": "stdout",
     "output_type": "stream",
     "text": [
      "3\n"
     ]
    }
   ],
   "source": [
    "#max()\n",
    "t=(1,2,3)\n",
    "maximum=max(t)\n",
    "print(maximum)"
   ]
  },
  {
   "cell_type": "code",
   "execution_count": 7,
   "id": "bcad0587-c3c2-418c-a2a9-bf9ede85ae1e",
   "metadata": {},
   "outputs": [
    {
     "name": "stdout",
     "output_type": "stream",
     "text": [
      "1\n"
     ]
    }
   ],
   "source": [
    "#min()\n",
    "t=(1,2,3)\n",
    "minimum=min(t)\n",
    "print(minimum)"
   ]
  },
  {
   "cell_type": "code",
   "execution_count": 8,
   "id": "07f38aba-ced4-4aef-819d-5af6e73193a2",
   "metadata": {},
   "outputs": [],
   "source": [
    "#sum"
   ]
  },
  {
   "cell_type": "code",
   "execution_count": 9,
   "id": "1bdede89-a183-4cdd-8bcb-c84b2bfda452",
   "metadata": {},
   "outputs": [],
   "source": [
    "#sorted\n"
   ]
  },
  {
   "cell_type": "code",
   "execution_count": 10,
   "id": "9ecda8cc-da52-4691-ab45-c44537aa7897",
   "metadata": {},
   "outputs": [],
   "source": [
    "#any()\n",
    "#all()\n"
   ]
  },
  {
   "cell_type": "code",
   "execution_count": 11,
   "id": "b4c7424b-454d-40a0-ae54-383f473b0677",
   "metadata": {},
   "outputs": [
    {
     "name": "stdout",
     "output_type": "stream",
     "text": [
      "92\n",
      "76\n"
     ]
    }
   ],
   "source": [
    "scores=(88,76,92,85,79)\n",
    "highest=max(scores)\n",
    "lowest=min(scores)\n",
    "print(highest)\n",
    "print(lowest)"
   ]
  },
  {
   "cell_type": "code",
   "execution_count": null,
   "id": "f49940a4-0324-4d03-884e-5381f76d37aa",
   "metadata": {},
   "outputs": [],
   "source": []
  }
 ],
 "metadata": {
  "kernelspec": {
   "display_name": "Python 3 (ipykernel)",
   "language": "python",
   "name": "python3"
  },
  "language_info": {
   "codemirror_mode": {
    "name": "ipython",
    "version": 3
   },
   "file_extension": ".py",
   "mimetype": "text/x-python",
   "name": "python",
   "nbconvert_exporter": "python",
   "pygments_lexer": "ipython3",
   "version": "3.12.7"
  }
 },
 "nbformat": 4,
 "nbformat_minor": 5
}
