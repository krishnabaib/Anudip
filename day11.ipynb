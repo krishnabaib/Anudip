{
 "cells": [
  {
   "cell_type": "code",
   "execution_count": 1,
   "id": "bf21a8ae-d6f9-43d2-878d-5a5c5e5eb9e2",
   "metadata": {},
   "outputs": [
    {
     "data": {
      "text/plain": [
       "{'row_id': 1, 'order_id': 'abcde', 'order_date': '14-5-2025'}"
      ]
     },
     "execution_count": 1,
     "metadata": {},
     "output_type": "execute_result"
    }
   ],
   "source": [
    "#dictionary\n",
    "dict={\"row_id\":1,\"order_id\":\"abcde\",\"order_date\":\"14-5-2025\"}\n",
    "dict"
   ]
  },
  {
   "cell_type": "code",
   "execution_count": 2,
   "id": "4657d4bc-e23e-480b-9d88-8568cf586473",
   "metadata": {},
   "outputs": [
    {
     "data": {
      "text/plain": [
       "dict"
      ]
     },
     "execution_count": 2,
     "metadata": {},
     "output_type": "execute_result"
    }
   ],
   "source": [
    "d={\"name\":\"raj\",\"age\":50,\"gender\":\"male\"}\n",
    "type(d)"
   ]
  },
  {
   "cell_type": "code",
   "execution_count": 4,
   "id": "ce0ff355-ce4a-4a19-a2d7-80a7b7cc63c7",
   "metadata": {},
   "outputs": [
    {
     "data": {
      "text/plain": [
       "set"
      ]
     },
     "execution_count": 4,
     "metadata": {},
     "output_type": "execute_result"
    }
   ],
   "source": [
    "a={1,2,3,4}\n",
    "type(a)"
   ]
  },
  {
   "cell_type": "code",
   "execution_count": 5,
   "id": "6555a6c1-1922-4df4-8efa-2fd4cb9e8c15",
   "metadata": {},
   "outputs": [
    {
     "data": {
      "text/plain": [
       "{'name': 'vini', 'age': 21, 'city': 'banglore'}"
      ]
     },
     "execution_count": 5,
     "metadata": {},
     "output_type": "execute_result"
    }
   ],
   "source": [
    "#characteristics of dictionaries\n",
    "#unordered\n",
    "my_dict={\"name\":\"vini\",\"age\":21,\"city\":\"banglore\"}\n",
    "my_dict"
   ]
  },
  {
   "cell_type": "code",
   "execution_count": 6,
   "id": "de48086c-eff9-404d-a50e-85f899413264",
   "metadata": {},
   "outputs": [
    {
     "data": {
      "text/plain": [
       "{'name': 'vini', 'age': 22, 'city': 'banglore'}"
      ]
     },
     "execution_count": 6,
     "metadata": {},
     "output_type": "execute_result"
    }
   ],
   "source": [
    "#mutable\n",
    "my_dict[\"age\"]=22\n",
    "my_dict"
   ]
  },
  {
   "cell_type": "code",
   "execution_count": 7,
   "id": "0b23d23e-c9cf-4fbc-a6ec-700525883564",
   "metadata": {},
   "outputs": [
    {
     "data": {
      "text/plain": [
       "{'name': 'vini', 'age': 66}"
      ]
     },
     "execution_count": 7,
     "metadata": {},
     "output_type": "execute_result"
    }
   ],
   "source": [
    "#unique keys\n",
    "my_dict={\"name\":\"vini\",\"age\":21,\"age\":25,\"age\":66}\n",
    "my_dict"
   ]
  },
  {
   "cell_type": "code",
   "execution_count": 8,
   "id": "ca2faa8b-8093-48d6-a39b-646ed2ca27b7",
   "metadata": {},
   "outputs": [
    {
     "data": {
      "text/plain": [
       "{(1, 2): 'point', 'name': 'alice'}"
      ]
     },
     "execution_count": 8,
     "metadata": {},
     "output_type": "execute_result"
    }
   ],
   "source": [
    "#immutable\n",
    "my_dic={(1,2):\"point\",\"name\":\"alice\"}\n",
    "my_dic"
   ]
  },
  {
   "cell_type": "code",
   "execution_count": 9,
   "id": "7aa57ef3-9022-4eda-862e-ecb9639fc3ee",
   "metadata": {},
   "outputs": [
    {
     "data": {
      "text/plain": [
       "34"
      ]
     },
     "execution_count": 9,
     "metadata": {},
     "output_type": "execute_result"
    }
   ],
   "source": [
    "#accessing a value by key\n",
    "my_dict={\n",
    "    \"name\":'john',\n",
    "    \"age\":34,\n",
    "    \"hobbies\":\"reading\",\n",
    "    \"education\":\"degree\"\n",
    "}\n",
    "my_dict[\"age\"]"
   ]
  },
  {
   "cell_type": "code",
   "execution_count": 10,
   "id": "856ab2ef-7a70-43d7-822e-781bc9870e36",
   "metadata": {},
   "outputs": [
    {
     "data": {
      "text/plain": [
       "'degree'"
      ]
     },
     "execution_count": 10,
     "metadata": {},
     "output_type": "execute_result"
    }
   ],
   "source": [
    "my_dict[\"education\"]"
   ]
  },
  {
   "cell_type": "code",
   "execution_count": 14,
   "id": "e1bcf448-16e1-41d3-8a62-eb7290e2529f",
   "metadata": {},
   "outputs": [
    {
     "data": {
      "text/plain": [
       "{'name': 'krishna', 'age': 20}"
      ]
     },
     "execution_count": 14,
     "metadata": {},
     "output_type": "execute_result"
    }
   ],
   "source": [
    "#using the get() method\n",
    "my_dic={\"name\":'krishna','age':20}\n",
    "my_dic"
   ]
  },
  {
   "cell_type": "code",
   "execution_count": 15,
   "id": "bbbbac7d-de81-495a-b470-84abcfdda8a2",
   "metadata": {},
   "outputs": [
    {
     "data": {
      "text/plain": [
       "20"
      ]
     },
     "execution_count": 15,
     "metadata": {},
     "output_type": "execute_result"
    }
   ],
   "source": [
    "my_dic.get(\"age\")"
   ]
  },
  {
   "cell_type": "code",
   "execution_count": 16,
   "id": "6bd60885-e945-4dbb-8876-a3ddda848e7d",
   "metadata": {},
   "outputs": [
    {
     "data": {
      "text/plain": [
       "'krishna'"
      ]
     },
     "execution_count": 16,
     "metadata": {},
     "output_type": "execute_result"
    }
   ],
   "source": [
    "my_dic.get(\"name\")"
   ]
  },
  {
   "cell_type": "code",
   "execution_count": 17,
   "id": "369197f2-3c12-4dfd-9dc7-c238ba844558",
   "metadata": {},
   "outputs": [
    {
     "data": {
      "text/plain": [
       "dict_keys(['name', 'age'])"
      ]
     },
     "execution_count": 17,
     "metadata": {},
     "output_type": "execute_result"
    }
   ],
   "source": [
    "#accessing all keys\n",
    "my_dic.keys()"
   ]
  },
  {
   "cell_type": "code",
   "execution_count": 21,
   "id": "a41ddfb5-3fd1-46a4-afde-91d90747f0ee",
   "metadata": {},
   "outputs": [
    {
     "data": {
      "text/plain": [
       "dict_keys(['name', 'age', 'city'])"
      ]
     },
     "execution_count": 21,
     "metadata": {},
     "output_type": "execute_result"
    }
   ],
   "source": [
    "my_dict={\"name\":\"krishna\",\"age\":21,\"city\":\"banglore\"}\n",
    "my_dict.keys()"
   ]
  },
  {
   "cell_type": "code",
   "execution_count": 22,
   "id": "16340d17-9829-4419-bb9b-03a1701a3213",
   "metadata": {},
   "outputs": [
    {
     "data": {
      "text/plain": [
       "dict_values(['krishna', 21, 'banglore'])"
      ]
     },
     "execution_count": 22,
     "metadata": {},
     "output_type": "execute_result"
    }
   ],
   "source": [
    "#accessing all values\n",
    "my_dict={\"name\":\"krishna\",\"age\":21,\"city\":\"banglore\"}\n",
    "my_dict.values()"
   ]
  },
  {
   "cell_type": "code",
   "execution_count": 26,
   "id": "7499e03f-e4f8-4488-a89e-515c017dd117",
   "metadata": {},
   "outputs": [
    {
     "data": {
      "text/plain": [
       "{'person1': {'name': 'alice', 'age': 34, 'city': 'new york'},\n",
       " 'person2': {'name': 'john', 'age': 24, 'city': 'london'}}"
      ]
     },
     "execution_count": 26,
     "metadata": {},
     "output_type": "execute_result"
    }
   ],
   "source": [
    "nested_dict={ \n",
    "    \"person1\":{\n",
    "    \"name\":'alice',\n",
    "     \"age\":34,\n",
    "    \"city\":'new york'\n",
    "},\n",
    "    \"person2\":{\n",
    "        \"name\":'john',\n",
    "        \"age\":24,\n",
    "        \"city\":'london'}\n",
    "}\n",
    "nested_dict"
   ]
  },
  {
   "cell_type": "code",
   "execution_count": 27,
   "id": "2515774a-9594-494c-afa3-7ca448a2cbe5",
   "metadata": {},
   "outputs": [
    {
     "name": "stdout",
     "output_type": "stream",
     "text": [
      "alice\n"
     ]
    }
   ],
   "source": [
    "print(nested_dict['person1']['name'])"
   ]
  },
  {
   "cell_type": "code",
   "execution_count": 28,
   "id": "213a76b3-3f24-471d-97ab-bdf9bedc262f",
   "metadata": {},
   "outputs": [
    {
     "data": {
      "text/plain": [
       "{'person1': {'name': 'alice', 'age': 34, 'city': 'new york'},\n",
       " 'person2': {'name': 'john', 'age': 24, 'city': 'london'},\n",
       " 'person3': {'name': 'ali', 'age': 38, 'city': 'new delhi'}}"
      ]
     },
     "execution_count": 28,
     "metadata": {},
     "output_type": "execute_result"
    }
   ],
   "source": [
    "\n",
    "nested_dict[\"person3\"]={\n",
    "    \"name\":'ali',\n",
    "     \"age\":38,\n",
    "    \"city\":'new delhi'\n",
    "}\n",
    "nested_dict"
   ]
  },
  {
   "cell_type": "code",
   "execution_count": 29,
   "id": "e960fd72-aa18-4fe0-b3ce-d0f71d294e09",
   "metadata": {},
   "outputs": [
    {
     "data": {
      "text/plain": [
       "{'person1': {'name': 'alice', 'age': 45, 'city': 'new york'},\n",
       " 'person2': {'name': 'john', 'age': 24, 'city': 'london'},\n",
       " 'person3': {'name': 'ali', 'age': 38, 'city': 'new delhi'}}"
      ]
     },
     "execution_count": 29,
     "metadata": {},
     "output_type": "execute_result"
    }
   ],
   "source": [
    "#modifying elements in a nested dictionary\n",
    "nested_dict['person1']['age']=45\n",
    "nested_dict"
   ]
  },
  {
   "cell_type": "code",
   "execution_count": 30,
   "id": "a1c7aeb0-f9a6-4439-a3c1-23662ca70411",
   "metadata": {},
   "outputs": [
    {
     "data": {
      "text/plain": [
       "{'name': 'grey', 'city': 'london', 'profession': 'software'}"
      ]
     },
     "execution_count": 30,
     "metadata": {},
     "output_type": "execute_result"
    }
   ],
   "source": [
    "#using del\n",
    "mydic={\n",
    "    'name':'grey',\n",
    "    'age':34,\n",
    "    'city':'london',\n",
    "    'profession':'software'\n",
    "}\n",
    "del mydic['age']\n",
    "mydic"
   ]
  },
  {
   "cell_type": "code",
   "execution_count": 35,
   "id": "18ca94aa-d0a9-4547-8096-cbb87321b714",
   "metadata": {},
   "outputs": [
    {
     "data": {
      "text/plain": [
       "{'name': 'grey', 'profession': 'software'}"
      ]
     },
     "execution_count": 35,
     "metadata": {},
     "output_type": "execute_result"
    }
   ],
   "source": [
    "#pop\n",
    "mydic\n"
   ]
  },
  {
   "cell_type": "code",
   "execution_count": 36,
   "id": "ff979329-3279-44f2-ab80-8d8496053fda",
   "metadata": {},
   "outputs": [
    {
     "data": {
      "text/plain": [
       "'grey'"
      ]
     },
     "execution_count": 36,
     "metadata": {},
     "output_type": "execute_result"
    }
   ],
   "source": [
    "a=mydic.pop('name')\n",
    "a"
   ]
  },
  {
   "cell_type": "code",
   "execution_count": null,
   "id": "40aaedfa-ef86-4d18-8bce-2981a0effc0c",
   "metadata": {},
   "outputs": [],
   "source": []
  }
 ],
 "metadata": {
  "kernelspec": {
   "display_name": "Python 3 (ipykernel)",
   "language": "python",
   "name": "python3"
  },
  "language_info": {
   "codemirror_mode": {
    "name": "ipython",
    "version": 3
   },
   "file_extension": ".py",
   "mimetype": "text/x-python",
   "name": "python",
   "nbconvert_exporter": "python",
   "pygments_lexer": "ipython3",
   "version": "3.12.7"
  }
 },
 "nbformat": 4,
 "nbformat_minor": 5
}
