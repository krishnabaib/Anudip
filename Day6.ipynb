{
 "cells": [
  {
   "cell_type": "code",
   "execution_count": 7,
   "id": "af854cf1-6eaf-4160-87ef-5242bf2dac8a",
   "metadata": {},
   "outputs": [
    {
     "name": "stdout",
     "output_type": "stream",
     "text": [
      "1\n",
      "2\n",
      "3\n",
      "4\n",
      "6\n",
      "7\n",
      "8\n",
      "9\n",
      "10\n"
     ]
    }
   ],
   "source": [
    "i=[1,2,3,4,5,6,7,8,9,10]\n",
    "for n in i:\n",
    "    if n==5:\n",
    "        continue\n",
    "    print(n)"
   ]
  },
  {
   "cell_type": "code",
   "execution_count": 10,
   "id": "8c36eb29-18c1-435a-90c4-6c42b87e6312",
   "metadata": {},
   "outputs": [
    {
     "name": "stdout",
     "output_type": "stream",
     "text": [
      "not a prime number 10\n",
      "print number 11\n",
      "not a prime number 12\n",
      "print number 13\n",
      "not a prime number 14\n",
      "print number 15\n",
      "not a prime number 16\n",
      "print number 17\n",
      "not a prime number 18\n",
      "print number 19\n",
      "not a prime number 20\n",
      "print number 21\n",
      "not a prime number 22\n",
      "print number 23\n",
      "not a prime number 24\n",
      "print number 25\n",
      "not a prime number 26\n",
      "print number 27\n",
      "not a prime number 28\n",
      "print number 29\n",
      "not a prime number 30\n",
      "print number 31\n",
      "not a prime number 32\n",
      "print number 33\n",
      "not a prime number 34\n",
      "print number 35\n",
      "not a prime number 36\n",
      "print number 37\n",
      "not a prime number 38\n",
      "print number 39\n",
      "not a prime number 40\n",
      "print number 41\n",
      "not a prime number 42\n",
      "print number 43\n",
      "not a prime number 44\n",
      "print number 45\n",
      "not a prime number 46\n",
      "print number 47\n",
      "not a prime number 48\n",
      "print number 49\n",
      "not a prime number 50\n"
     ]
    }
   ],
   "source": [
    "for i in range(10,51):\n",
    "    if i%2==0:\n",
    "        print(\"not a prime number\",i)\n",
    "    else:\n",
    "        print(\"print number\",i)"
   ]
  },
  {
   "cell_type": "code",
   "execution_count": 11,
   "id": "216ffa95-c362-4f6a-a86b-ecbc1f6cc57b",
   "metadata": {},
   "outputs": [
    {
     "name": "stdout",
     "output_type": "stream",
     "text": [
      "12 is even and greater than 10\n",
      "14 is even and greater than 10\n",
      "16 is even and greater than 10\n",
      "18 is even and greater than 10\n",
      "20 is even and greater than 10\n",
      "12 is even and greater than 10\n",
      "14 is even and greater than 10\n",
      "16 is even and greater than 10\n",
      "18 is even and greater than 10\n",
      "20 is even and greater than 10\n"
     ]
    }
   ],
   "source": [
    "list = [12,14,15,16,17,18,19,20]\n",
    "for i in list:\n",
    " if i%2==0 & i<10:\n",
    "     print(f'{i} is even and greater than 10')\n",
    "list = [12,14,15,16,17,18,19,20]\n",
    "for i in list:\n",
    " if i%2==0 & i<10:\n",
    "     print(f'{i} is even and greater than 10')"
   ]
  },
  {
   "cell_type": "code",
   "execution_count": null,
   "id": "80a079c1-4934-40bd-971c-866998c64164",
   "metadata": {},
   "outputs": [],
   "source": []
  }
 ],
 "metadata": {
  "kernelspec": {
   "display_name": "Python 3 (ipykernel)",
   "language": "python",
   "name": "python3"
  },
  "language_info": {
   "codemirror_mode": {
    "name": "ipython",
    "version": 3
   },
   "file_extension": ".py",
   "mimetype": "text/x-python",
   "name": "python",
   "nbconvert_exporter": "python",
   "pygments_lexer": "ipython3",
   "version": "3.12.7"
  }
 },
 "nbformat": 4,
 "nbformat_minor": 5
}
