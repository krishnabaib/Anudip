{
 "cells": [
  {
   "cell_type": "code",
   "execution_count": 1,
   "id": "5b580253-4161-4116-aa21-9c7b33ad68cf",
   "metadata": {},
   "outputs": [
    {
     "name": "stdin",
     "output_type": "stream",
     "text": [
      "Enter the name  Krishna\n"
     ]
    },
    {
     "name": "stdout",
     "output_type": "stream",
     "text": [
      "Hello Krishna, Welcome to the party ..\n"
     ]
    }
   ],
   "source": [
    "#functions\n",
    "def greet():\n",
    "    name = input(\"Enter the name \")\n",
    "    print(f\"Hello {name}, Welcome to the party ..\")\n",
    "greet()"
   ]
  },
  {
   "cell_type": "code",
   "execution_count": 2,
   "id": "6152253b-cbac-4a68-8b9c-10e92c1ae706",
   "metadata": {},
   "outputs": [
    {
     "name": "stdout",
     "output_type": "stream",
     "text": [
      "62\n",
      "-26\n",
      "792\n",
      "18\n"
     ]
    }
   ],
   "source": [
    "def calculation():\n",
    "    a = 18\n",
    "    b = 44\n",
    "    print(a+b)\n",
    "    print(a-b)\n",
    "    print(a*b)\n",
    "    print(a%b)\n",
    "calculation()"
   ]
  },
  {
   "cell_type": "code",
   "execution_count": 3,
   "id": "7047aa5a-f661-46fe-9aaf-4773e05bd315",
   "metadata": {},
   "outputs": [],
   "source": [
    "def mul():\n",
    "    num = int(input(\"enter a number for multiplication: \"))\n",
    "    for i in range(1,11):\n",
    "        print(f\"(num) x  {i} = {num * i}\")"
   ]
  },
  {
   "cell_type": "code",
   "execution_count": 4,
   "id": "8118fe74-9284-4152-a264-bfc0e956975d",
   "metadata": {},
   "outputs": [
    {
     "name": "stdout",
     "output_type": "stream",
     "text": [
      "9 x 1 = 9\n",
      "9 x 2 = 18\n",
      "9 x 3 = 27\n",
      "9 x 4 = 36\n",
      "9 x 5 = 45\n",
      "9 x 6 = 54\n",
      "9 x 7 = 63\n",
      "9 x 8 = 72\n",
      "9 x 9 = 81\n",
      "9 x 10 = 90\n",
      "9 x 11 = 99\n"
     ]
    }
   ],
   "source": [
    "def mul(num):\n",
    "    for i in range(1,12):\n",
    "        print(f\"{num} x {i} = {num*i}\")\n",
    "mul(9)"
   ]
  },
  {
   "cell_type": "code",
   "execution_count": null,
   "id": "d1c4c1f3-415e-4b0b-84d9-b460d50deafc",
   "metadata": {},
   "outputs": [],
   "source": []
  }
 ],
 "metadata": {
  "kernelspec": {
   "display_name": "Python 3 (ipykernel)",
   "language": "python",
   "name": "python3"
  },
  "language_info": {
   "codemirror_mode": {
    "name": "ipython",
    "version": 3
   },
   "file_extension": ".py",
   "mimetype": "text/x-python",
   "name": "python",
   "nbconvert_exporter": "python",
   "pygments_lexer": "ipython3",
   "version": "3.12.7"
  }
 },
 "nbformat": 4,
 "nbformat_minor": 5
}
