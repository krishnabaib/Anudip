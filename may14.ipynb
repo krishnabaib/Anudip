{
 "cells": [
  {
   "cell_type": "code",
   "execution_count": 10,
   "id": "bcb2656d-e21a-4c22-b4a9-5e9599d771ca",
   "metadata": {},
   "outputs": [
    {
     "data": {
      "text/plain": [
       "{'survived': [0, 1, 1, 1],\n",
       " 'pclass': [1, 0, 1, 0],\n",
       " 'sex': ['female', 'male', 'female', 'male']}"
      ]
     },
     "execution_count": 10,
     "metadata": {},
     "output_type": "execute_result"
    }
   ],
   "source": [
    "#create dict\n",
    "titanic={\"survived\":[0,1,1,1],\"pclass\":[1,0,1,0],\"sex\":[\"female\",\"male\",\"female\",\"male\"]}\n",
    "titanic\n"
   ]
  },
  {
   "cell_type": "code",
   "execution_count": 3,
   "id": "acfa4817-c0b6-42ed-87dd-cb3c35397287",
   "metadata": {},
   "outputs": [
    {
     "data": {
      "text/plain": [
       "[1, 2, 3]"
      ]
     },
     "execution_count": 3,
     "metadata": {},
     "output_type": "execute_result"
    }
   ],
   "source": [
    "l=[1,2,3]\n",
    "l"
   ]
  },
  {
   "cell_type": "code",
   "execution_count": 4,
   "id": "e6e1d532-ae9a-42a0-9332-8bbfc2250bee",
   "metadata": {},
   "outputs": [
    {
     "data": {
      "text/plain": [
       "'asdf'"
      ]
     },
     "execution_count": 4,
     "metadata": {},
     "output_type": "execute_result"
    }
   ],
   "source": [
    "s=\"asdf\"\n",
    "s"
   ]
  },
  {
   "cell_type": "code",
   "execution_count": 5,
   "id": "b1d2225c-2369-48fc-a38c-ad2bcbabae0a",
   "metadata": {},
   "outputs": [
    {
     "data": {
      "text/plain": [
       "(1, 2)"
      ]
     },
     "execution_count": 5,
     "metadata": {},
     "output_type": "execute_result"
    }
   ],
   "source": [
    "t=(1,2)\n",
    "t"
   ]
  },
  {
   "cell_type": "code",
   "execution_count": 8,
   "id": "fd09705b-4dc8-4d9e-adb5-a19308fe82df",
   "metadata": {},
   "outputs": [
    {
     "name": "stdout",
     "output_type": "stream",
     "text": [
      "<class 'dict'>\n"
     ]
    },
    {
     "data": {
      "text/plain": [
       "{'name': 'Raj', 'age': 45, 'gender': 'male'}"
      ]
     },
     "execution_count": 8,
     "metadata": {},
     "output_type": "execute_result"
    }
   ],
   "source": [
    "d={\"name\":\"Raj\",\"age\":45,\"gender\":\"male\"}\n",
    "print(type(d))\n",
    "d"
   ]
  },
  {
   "cell_type": "code",
   "execution_count": 11,
   "id": "93a9f299-2baa-42ce-ae2c-a119cffd43e7",
   "metadata": {},
   "outputs": [],
   "source": [
    "#dict always in key value pair\n",
    "#dict coated in {}\n",
    "#dict mutable,ordered,dynamically increse and decrease"
   ]
  },
  {
   "cell_type": "code",
   "execution_count": 16,
   "id": "13476234-6bfd-4dd2-bb8c-a4863d30d44e",
   "metadata": {},
   "outputs": [
    {
     "data": {
      "text/plain": [
       "{'name': 'Alice', 'age': 34, 'city': 'New york'}"
      ]
     },
     "execution_count": 16,
     "metadata": {},
     "output_type": "execute_result"
    }
   ],
   "source": [
    "person={\"name\":\"Alice\",\"age\":34,\"city\":\"New york\"}\n",
    "person"
   ]
  },
  {
   "cell_type": "code",
   "execution_count": 19,
   "id": "2b6fc490-7c23-47a1-bd65-3348a521584c",
   "metadata": {},
   "outputs": [
    {
     "ename": "NameError",
     "evalue": "name 'my_list' is not defined",
     "output_type": "error",
     "traceback": [
      "\u001b[1;31m---------------------------------------------------------------------------\u001b[0m",
      "\u001b[1;31mNameError\u001b[0m                                 Traceback (most recent call last)",
      "Cell \u001b[1;32mIn[19], line 3\u001b[0m\n\u001b[0;32m      1\u001b[0m \u001b[38;5;66;03m#muttable\u001b[39;00m\n\u001b[0;32m      2\u001b[0m person\u001b[38;5;241m=\u001b[39m{\u001b[38;5;124m\"\u001b[39m\u001b[38;5;124mname\u001b[39m\u001b[38;5;124m\"\u001b[39m:\u001b[38;5;124m\"\u001b[39m\u001b[38;5;124mAlice\u001b[39m\u001b[38;5;124m\"\u001b[39m,\u001b[38;5;124m\"\u001b[39m\u001b[38;5;124mage\u001b[39m\u001b[38;5;124m\"\u001b[39m:\u001b[38;5;241m34\u001b[39m,\u001b[38;5;124m\"\u001b[39m\u001b[38;5;124mcity\u001b[39m\u001b[38;5;124m\"\u001b[39m:\u001b[38;5;124m\"\u001b[39m\u001b[38;5;124mNew york\u001b[39m\u001b[38;5;124m\"\u001b[39m}\n\u001b[1;32m----> 3\u001b[0m my_list\n",
      "\u001b[1;31mNameError\u001b[0m: name 'my_list' is not defined"
     ]
    }
   ],
   "source": [
    "#muttable\n",
    "person={\"name\":\"Alice\",\"age\":34,\"city\":\"New york\"}\n",
    "my_list"
   ]
  },
  {
   "cell_type": "code",
   "execution_count": 22,
   "id": "6f8f6469-4156-47a6-91c7-18a033937bc6",
   "metadata": {},
   "outputs": [
    {
     "name": "stdout",
     "output_type": "stream",
     "text": [
      "{'name': 'Alice', 'age': 30, 'city': 'New york'}\n"
     ]
    },
    {
     "data": {
      "text/plain": [
       "30"
      ]
     },
     "execution_count": 22,
     "metadata": {},
     "output_type": "execute_result"
    }
   ],
   "source": [
    "person={\"name\":\"Alice\",\"age\":34,\"city\":\"New york\"}\n",
    "p=person[\"age\"]=30\n",
    "print(person)\n",
    "p"
   ]
  },
  {
   "cell_type": "code",
   "execution_count": 23,
   "id": "9bc104bd-5faf-4375-b1c2-c3d1ec1013b6",
   "metadata": {},
   "outputs": [
    {
     "data": {
      "text/plain": [
       "{'name': 'Alice', 'age': 54}"
      ]
     },
     "execution_count": 23,
     "metadata": {},
     "output_type": "execute_result"
    }
   ],
   "source": [
    "#unique key\n",
    "person={\"name\":\"Alice\",\"age\":34,\"age\":84,\"age\":54}\n",
    "person"
   ]
  },
  {
   "cell_type": "code",
   "execution_count": 25,
   "id": "938153a3-ff19-460c-986a-6c76f95f444f",
   "metadata": {},
   "outputs": [
    {
     "name": "stdout",
     "output_type": "stream",
     "text": [
      "{(1, 2): 'point', 'name': 'Alice'}\n"
     ]
    }
   ],
   "source": [
    "my_dict={(1,2):\"point\",\"name\":\"Alice\"}\n",
    "print(my_dict)"
   ]
  },
  {
   "cell_type": "code",
   "execution_count": 26,
   "id": "cb72f4bf-1076-4f5f-b6c7-72721513354a",
   "metadata": {},
   "outputs": [
    {
     "ename": "TypeError",
     "evalue": "unhashable type: 'list'",
     "output_type": "error",
     "traceback": [
      "\u001b[1;31m---------------------------------------------------------------------------\u001b[0m",
      "\u001b[1;31mTypeError\u001b[0m                                 Traceback (most recent call last)",
      "Cell \u001b[1;32mIn[26], line 2\u001b[0m\n\u001b[0;32m      1\u001b[0m my_dict1\u001b[38;5;241m=\u001b[39m{\u001b[38;5;241m1\u001b[39m:\u001b[38;5;124m\"\u001b[39m\u001b[38;5;124mhello\u001b[39m\u001b[38;5;124m\"\u001b[39m}\n\u001b[1;32m----> 2\u001b[0m my_dict2\u001b[38;5;241m=\u001b[39m{[\u001b[38;5;241m1\u001b[39m,\u001b[38;5;241m2\u001b[39m]:\u001b[38;5;124m\"\u001b[39m\u001b[38;5;124mhello\u001b[39m\u001b[38;5;124m\"\u001b[39m}\n",
      "\u001b[1;31mTypeError\u001b[0m: unhashable type: 'list'"
     ]
    }
   ],
   "source": [
    "my_dict1={1:\"hello\"}\n",
    "my_dict2={[1,2]:\"hello\"}"
   ]
  },
  {
   "cell_type": "code",
   "execution_count": 28,
   "id": "cb6f8e7e-b0e0-4140-a5bd-ac51b08db026",
   "metadata": {},
   "outputs": [],
   "source": [
    "#keys in dict unique,immuttable"
   ]
  },
  {
   "cell_type": "code",
   "execution_count": 30,
   "id": "974f3e3c-cf45-40b8-a1ad-0e1346eb1471",
   "metadata": {},
   "outputs": [
    {
     "data": {
      "text/plain": [
       "{'name': 'Alice',\n",
       " 'age': 34,\n",
       " 'hobbies': ['reading', 'hiking'],\n",
       " 'education': 'degree'}"
      ]
     },
     "execution_count": 30,
     "metadata": {},
     "output_type": "execute_result"
    }
   ],
   "source": [
    "#acess value\n",
    "my_dict={\"name\":\"Alice\",\n",
    "         \"age\":34,\n",
    "         \"hobbies\":[\"reading\",\"hiking\"],\n",
    "        \"education\":\"degree\"}\n",
    "my_dict"
   ]
  },
  {
   "cell_type": "code",
   "execution_count": 32,
   "id": "42e6f08d-1a5b-410f-8fdd-28f90879193f",
   "metadata": {},
   "outputs": [
    {
     "data": {
      "text/plain": [
       "34"
      ]
     },
     "execution_count": 32,
     "metadata": {},
     "output_type": "execute_result"
    }
   ],
   "source": [
    "#get method\n",
    "person={\"name\":\"Alice\",\"age\":34,\"city\":\"New york\"}\n",
    "person.get(\"age\")"
   ]
  },
  {
   "cell_type": "code",
   "execution_count": 35,
   "id": "21708381-e3ad-4100-b39d-d7aa71067465",
   "metadata": {},
   "outputs": [
    {
     "name": "stdout",
     "output_type": "stream",
     "text": [
      "None\n"
     ]
    }
   ],
   "source": [
    "person={\"name\":\"Alice\",\"age\":34,\"city\":\"New york\"}\n",
    "print(person.get(\"rollno\"))"
   ]
  },
  {
   "cell_type": "code",
   "execution_count": 36,
   "id": "6b55932f-56b1-4c2d-937c-923f2e976962",
   "metadata": {},
   "outputs": [
    {
     "data": {
      "text/plain": [
       "dict_keys(['name', 'age', 'city'])"
      ]
     },
     "execution_count": 36,
     "metadata": {},
     "output_type": "execute_result"
    }
   ],
   "source": [
    "person={\"name\":\"Alice\",\"age\":34,\"city\":\"New york\"}\n",
    "person.keys()"
   ]
  },
  {
   "cell_type": "code",
   "execution_count": 37,
   "id": "1d4971a8-3a44-4c29-9118-fe2d4251a95c",
   "metadata": {},
   "outputs": [
    {
     "data": {
      "text/plain": [
       "dict_values(['Alice', 34, 'New york'])"
      ]
     },
     "execution_count": 37,
     "metadata": {},
     "output_type": "execute_result"
    }
   ],
   "source": [
    "person={\"name\":\"Alice\",\"age\":34,\"city\":\"New york\"}\n",
    "person.values()"
   ]
  },
  {
   "cell_type": "code",
   "execution_count": 38,
   "id": "c257162e-e42f-43dc-a06c-2d0cfd5061ca",
   "metadata": {},
   "outputs": [
    {
     "data": {
      "text/plain": [
       "dict_items([('name', 'Alice'), ('age', 34), ('city', 'New york')])"
      ]
     },
     "execution_count": 38,
     "metadata": {},
     "output_type": "execute_result"
    }
   ],
   "source": [
    "person={\"name\":\"Alice\",\"age\":34,\"city\":\"New york\"}\n",
    "person.items()"
   ]
  },
  {
   "cell_type": "code",
   "execution_count": 39,
   "id": "c79731c1-8a21-41d4-8f8e-13a425e17776",
   "metadata": {},
   "outputs": [
    {
     "name": "stdout",
     "output_type": "stream",
     "text": [
      "name\n",
      "age\n",
      "city\n"
     ]
    }
   ],
   "source": [
    "person={\"name\":\"Alice\",\"age\":34,\"city\":\"New york\"}\n",
    "for i in person:\n",
    "    print(i)"
   ]
  },
  {
   "cell_type": "code",
   "execution_count": 40,
   "id": "f7078d06-a8b2-43d3-86e4-f2499d580846",
   "metadata": {},
   "outputs": [
    {
     "name": "stdout",
     "output_type": "stream",
     "text": [
      "Alice\n",
      "34\n",
      "New york\n"
     ]
    }
   ],
   "source": [
    "for j in person.values():\n",
    "    print(j)"
   ]
  },
  {
   "cell_type": "code",
   "execution_count": 43,
   "id": "d970b714-267e-4631-a92e-a6cc639cb981",
   "metadata": {},
   "outputs": [
    {
     "name": "stdout",
     "output_type": "stream",
     "text": [
      "name:Alice\n",
      "age:34\n",
      "city:New york\n"
     ]
    }
   ],
   "source": [
    "for i,j in person.items():\n",
    "    print(f\"{i}:{j}\")"
   ]
  },
  {
   "cell_type": "code",
   "execution_count": 44,
   "id": "5d5b8fa7-abbd-4a6a-877e-b3bdb88ccbd7",
   "metadata": {},
   "outputs": [
    {
     "data": {
      "text/plain": [
       "{'name': 'Alice', 'city': 'New york'}"
      ]
     },
     "execution_count": 44,
     "metadata": {},
     "output_type": "execute_result"
    }
   ],
   "source": [
    "#del\n",
    "person={\"name\":\"Alice\",\"age\":34,\"city\":\"New york\"}\n",
    "del person[\"age\"]\n",
    "person"
   ]
  },
  {
   "cell_type": "code",
   "execution_count": 47,
   "id": "8a5c1ca4-84ae-4aac-953f-aa6d448cfc35",
   "metadata": {},
   "outputs": [
    {
     "data": {
      "text/plain": [
       "34"
      ]
     },
     "execution_count": 47,
     "metadata": {},
     "output_type": "execute_result"
    }
   ],
   "source": [
    "person={\"name\":\"Alice\",\"age\":34,\"city\":\"New york\"}\n",
    "a=person.pop(\"age\")\n",
    "a"
   ]
  },
  {
   "cell_type": "code",
   "execution_count": 56,
   "id": "a8c488a0-5dec-4a3f-9116-3dd3f361421d",
   "metadata": {},
   "outputs": [
    {
     "data": {
      "text/plain": [
       "('city', 'New york')"
      ]
     },
     "execution_count": 56,
     "metadata": {},
     "output_type": "execute_result"
    }
   ],
   "source": [
    "person={\"name\":\"Alice\",\"age\":34,\"city\":\"New york\"}\n",
    "a=person.popitem()\n",
    "a"
   ]
  },
  {
   "cell_type": "code",
   "execution_count": 57,
   "id": "a5b51c8a-e94f-4dba-9c86-0783076a2a8e",
   "metadata": {},
   "outputs": [
    {
     "data": {
      "text/plain": [
       "False"
      ]
     },
     "execution_count": 57,
     "metadata": {},
     "output_type": "execute_result"
    }
   ],
   "source": [
    "person={\"name\":\"Alice\",\"age\":34,\"city\":\"New york\"}\n",
    "34 in person"
   ]
  },
  {
   "cell_type": "code",
   "execution_count": 58,
   "id": "ef76b3b3-53f4-4de7-acd3-9e40989dad79",
   "metadata": {},
   "outputs": [
    {
     "data": {
      "text/plain": [
       "True"
      ]
     },
     "execution_count": 58,
     "metadata": {},
     "output_type": "execute_result"
    }
   ],
   "source": [
    "34 not in person"
   ]
  },
  {
   "cell_type": "code",
   "execution_count": 60,
   "id": "d8dad693-3ce1-4080-887f-d89043313862",
   "metadata": {},
   "outputs": [
    {
     "name": "stdout",
     "output_type": "stream",
     "text": [
      "{2: 8, 4: 64, 6: 216, 8: 512, 10: 1000}\n"
     ]
    }
   ],
   "source": [
    "cubes={x:x**3 for x in range(1,11) if x%2==0}\n",
    "print(cubes)"
   ]
  },
  {
   "cell_type": "code",
   "execution_count": 61,
   "id": "1cd8d899-4ff2-459b-a713-d351cc89d8f3",
   "metadata": {},
   "outputs": [
    {
     "name": "stdout",
     "output_type": "stream",
     "text": [
      "{2: 4, 4: 16, 6: 36, 8: 64, 10: 100}\n"
     ]
    }
   ],
   "source": [
    "squares={x:x**2 for x in range(1,11) if x%2==0}\n",
    "print(squares)"
   ]
  },
  {
   "cell_type": "code",
   "execution_count": null,
   "id": "c070cbe3-a13b-4b2c-88eb-6040d759ffb0",
   "metadata": {},
   "outputs": [],
   "source": []
  }
 ],
 "metadata": {
  "kernelspec": {
   "display_name": "Python 3 (ipykernel)",
   "language": "python",
   "name": "python3"
  },
  "language_info": {
   "codemirror_mode": {
    "name": "ipython",
    "version": 3
   },
   "file_extension": ".py",
   "mimetype": "text/x-python",
   "name": "python",
   "nbconvert_exporter": "python",
   "pygments_lexer": "ipython3",
   "version": "3.12.7"
  }
 },
 "nbformat": 4,
 "nbformat_minor": 5
}
